{
  "nbformat": 4,
  "nbformat_minor": 0,
  "metadata": {
    "colab": {
      "name": "TSD_Roberta_Base_PreTraining.ipynb",
      "provenance": [],
      "collapsed_sections": [
        "5RNUb_k6V2b1"
      ]
    },
    "kernelspec": {
      "name": "python3",
      "display_name": "Python 3"
    },
    "widgets": {
      "application/vnd.jupyter.widget-state+json": {
        "53d2a824aaf146e8a681a3177af71814": {
          "model_module": "@jupyter-widgets/controls",
          "model_name": "HBoxModel",
          "state": {
            "_view_name": "HBoxView",
            "_dom_classes": [],
            "_model_name": "HBoxModel",
            "_view_module": "@jupyter-widgets/controls",
            "_model_module_version": "1.5.0",
            "_view_count": null,
            "_view_module_version": "1.5.0",
            "box_style": "",
            "layout": "IPY_MODEL_b952e25855c94c63b97ab4b21375ca48",
            "_model_module": "@jupyter-widgets/controls",
            "children": [
              "IPY_MODEL_4453b7eec62246f1bd95c5d08864a0eb",
              "IPY_MODEL_35454c17640a4f61bd11f3e2be921b43"
            ]
          }
        },
        "b952e25855c94c63b97ab4b21375ca48": {
          "model_module": "@jupyter-widgets/base",
          "model_name": "LayoutModel",
          "state": {
            "_view_name": "LayoutView",
            "grid_template_rows": null,
            "right": null,
            "justify_content": null,
            "_view_module": "@jupyter-widgets/base",
            "overflow": null,
            "_model_module_version": "1.2.0",
            "_view_count": null,
            "flex_flow": null,
            "width": null,
            "min_width": null,
            "border": null,
            "align_items": null,
            "bottom": null,
            "_model_module": "@jupyter-widgets/base",
            "top": null,
            "grid_column": null,
            "overflow_y": null,
            "overflow_x": null,
            "grid_auto_flow": null,
            "grid_area": null,
            "grid_template_columns": null,
            "flex": null,
            "_model_name": "LayoutModel",
            "justify_items": null,
            "grid_row": null,
            "max_height": null,
            "align_content": null,
            "visibility": null,
            "align_self": null,
            "height": null,
            "min_height": null,
            "padding": null,
            "grid_auto_rows": null,
            "grid_gap": null,
            "max_width": null,
            "order": null,
            "_view_module_version": "1.2.0",
            "grid_template_areas": null,
            "object_position": null,
            "object_fit": null,
            "grid_auto_columns": null,
            "margin": null,
            "display": null,
            "left": null
          }
        },
        "4453b7eec62246f1bd95c5d08864a0eb": {
          "model_module": "@jupyter-widgets/controls",
          "model_name": "FloatProgressModel",
          "state": {
            "_view_name": "ProgressView",
            "style": "IPY_MODEL_b3e0bb302c5941159f19e3ec9ab021cb",
            "_dom_classes": [],
            "description": "",
            "_model_name": "FloatProgressModel",
            "bar_style": "info",
            "max": 1,
            "_view_module": "@jupyter-widgets/controls",
            "_model_module_version": "1.5.0",
            "value": 1,
            "_view_count": null,
            "_view_module_version": "1.5.0",
            "orientation": "horizontal",
            "min": 0,
            "description_tooltip": null,
            "_model_module": "@jupyter-widgets/controls",
            "layout": "IPY_MODEL_0e2090673da340028104a126e8fc9b26"
          }
        },
        "35454c17640a4f61bd11f3e2be921b43": {
          "model_module": "@jupyter-widgets/controls",
          "model_name": "HTMLModel",
          "state": {
            "_view_name": "HTMLView",
            "style": "IPY_MODEL_904e4b00eea0400c94d60c526d24370c",
            "_dom_classes": [],
            "description": "",
            "_model_name": "HTMLModel",
            "placeholder": "​",
            "_view_module": "@jupyter-widgets/controls",
            "_model_module_version": "1.5.0",
            "value": " 25/? [00:03&lt;00:00,  6.88 tables/s]",
            "_view_count": null,
            "_view_module_version": "1.5.0",
            "description_tooltip": null,
            "_model_module": "@jupyter-widgets/controls",
            "layout": "IPY_MODEL_8a7e25be790a4666879301c9dbec6968"
          }
        },
        "b3e0bb302c5941159f19e3ec9ab021cb": {
          "model_module": "@jupyter-widgets/controls",
          "model_name": "ProgressStyleModel",
          "state": {
            "_view_name": "StyleView",
            "_model_name": "ProgressStyleModel",
            "description_width": "initial",
            "_view_module": "@jupyter-widgets/base",
            "_model_module_version": "1.5.0",
            "_view_count": null,
            "_view_module_version": "1.2.0",
            "bar_color": null,
            "_model_module": "@jupyter-widgets/controls"
          }
        },
        "0e2090673da340028104a126e8fc9b26": {
          "model_module": "@jupyter-widgets/base",
          "model_name": "LayoutModel",
          "state": {
            "_view_name": "LayoutView",
            "grid_template_rows": null,
            "right": null,
            "justify_content": null,
            "_view_module": "@jupyter-widgets/base",
            "overflow": null,
            "_model_module_version": "1.2.0",
            "_view_count": null,
            "flex_flow": null,
            "width": null,
            "min_width": null,
            "border": null,
            "align_items": null,
            "bottom": null,
            "_model_module": "@jupyter-widgets/base",
            "top": null,
            "grid_column": null,
            "overflow_y": null,
            "overflow_x": null,
            "grid_auto_flow": null,
            "grid_area": null,
            "grid_template_columns": null,
            "flex": null,
            "_model_name": "LayoutModel",
            "justify_items": null,
            "grid_row": null,
            "max_height": null,
            "align_content": null,
            "visibility": null,
            "align_self": null,
            "height": null,
            "min_height": null,
            "padding": null,
            "grid_auto_rows": null,
            "grid_gap": null,
            "max_width": null,
            "order": null,
            "_view_module_version": "1.2.0",
            "grid_template_areas": null,
            "object_position": null,
            "object_fit": null,
            "grid_auto_columns": null,
            "margin": null,
            "display": null,
            "left": null
          }
        },
        "904e4b00eea0400c94d60c526d24370c": {
          "model_module": "@jupyter-widgets/controls",
          "model_name": "DescriptionStyleModel",
          "state": {
            "_view_name": "StyleView",
            "_model_name": "DescriptionStyleModel",
            "description_width": "",
            "_view_module": "@jupyter-widgets/base",
            "_model_module_version": "1.5.0",
            "_view_count": null,
            "_view_module_version": "1.2.0",
            "_model_module": "@jupyter-widgets/controls"
          }
        },
        "8a7e25be790a4666879301c9dbec6968": {
          "model_module": "@jupyter-widgets/base",
          "model_name": "LayoutModel",
          "state": {
            "_view_name": "LayoutView",
            "grid_template_rows": null,
            "right": null,
            "justify_content": null,
            "_view_module": "@jupyter-widgets/base",
            "overflow": null,
            "_model_module_version": "1.2.0",
            "_view_count": null,
            "flex_flow": null,
            "width": null,
            "min_width": null,
            "border": null,
            "align_items": null,
            "bottom": null,
            "_model_module": "@jupyter-widgets/base",
            "top": null,
            "grid_column": null,
            "overflow_y": null,
            "overflow_x": null,
            "grid_auto_flow": null,
            "grid_area": null,
            "grid_template_columns": null,
            "flex": null,
            "_model_name": "LayoutModel",
            "justify_items": null,
            "grid_row": null,
            "max_height": null,
            "align_content": null,
            "visibility": null,
            "align_self": null,
            "height": null,
            "min_height": null,
            "padding": null,
            "grid_auto_rows": null,
            "grid_gap": null,
            "max_width": null,
            "order": null,
            "_view_module_version": "1.2.0",
            "grid_template_areas": null,
            "object_position": null,
            "object_fit": null,
            "grid_auto_columns": null,
            "margin": null,
            "display": null,
            "left": null
          }
        },
        "262548ef779f46f297fe471c1c03cf2f": {
          "model_module": "@jupyter-widgets/controls",
          "model_name": "HBoxModel",
          "state": {
            "_view_name": "HBoxView",
            "_dom_classes": [],
            "_model_name": "HBoxModel",
            "_view_module": "@jupyter-widgets/controls",
            "_model_module_version": "1.5.0",
            "_view_count": null,
            "_view_module_version": "1.5.0",
            "box_style": "",
            "layout": "IPY_MODEL_ccc3603f204542a3905ad3792e9416ea",
            "_model_module": "@jupyter-widgets/controls",
            "children": [
              "IPY_MODEL_ece144f888454649912e9f6bed0ee675",
              "IPY_MODEL_0aa1fa59a853414f8524af5ec16c12d5"
            ]
          }
        },
        "ccc3603f204542a3905ad3792e9416ea": {
          "model_module": "@jupyter-widgets/base",
          "model_name": "LayoutModel",
          "state": {
            "_view_name": "LayoutView",
            "grid_template_rows": null,
            "right": null,
            "justify_content": null,
            "_view_module": "@jupyter-widgets/base",
            "overflow": null,
            "_model_module_version": "1.2.0",
            "_view_count": null,
            "flex_flow": null,
            "width": null,
            "min_width": null,
            "border": null,
            "align_items": null,
            "bottom": null,
            "_model_module": "@jupyter-widgets/base",
            "top": null,
            "grid_column": null,
            "overflow_y": null,
            "overflow_x": null,
            "grid_auto_flow": null,
            "grid_area": null,
            "grid_template_columns": null,
            "flex": null,
            "_model_name": "LayoutModel",
            "justify_items": null,
            "grid_row": null,
            "max_height": null,
            "align_content": null,
            "visibility": null,
            "align_self": null,
            "height": null,
            "min_height": null,
            "padding": null,
            "grid_auto_rows": null,
            "grid_gap": null,
            "max_width": null,
            "order": null,
            "_view_module_version": "1.2.0",
            "grid_template_areas": null,
            "object_position": null,
            "object_fit": null,
            "grid_auto_columns": null,
            "margin": null,
            "display": null,
            "left": null
          }
        },
        "ece144f888454649912e9f6bed0ee675": {
          "model_module": "@jupyter-widgets/controls",
          "model_name": "FloatProgressModel",
          "state": {
            "_view_name": "ProgressView",
            "style": "IPY_MODEL_2df221ad90f045e7a4d2cb526a57c140",
            "_dom_classes": [],
            "description": "100%",
            "_model_name": "FloatProgressModel",
            "bar_style": "success",
            "max": 6251,
            "_view_module": "@jupyter-widgets/controls",
            "_model_module_version": "1.5.0",
            "value": 6251,
            "_view_count": null,
            "_view_module_version": "1.5.0",
            "orientation": "horizontal",
            "min": 0,
            "description_tooltip": null,
            "_model_module": "@jupyter-widgets/controls",
            "layout": "IPY_MODEL_8abe87079f1c46e684bb205380f3539f"
          }
        },
        "0aa1fa59a853414f8524af5ec16c12d5": {
          "model_module": "@jupyter-widgets/controls",
          "model_name": "HTMLModel",
          "state": {
            "_view_name": "HTMLView",
            "style": "IPY_MODEL_0a68b3577bd6439aae9400bc585be843",
            "_dom_classes": [],
            "description": "",
            "_model_name": "HTMLModel",
            "placeholder": "​",
            "_view_module": "@jupyter-widgets/controls",
            "_model_module_version": "1.5.0",
            "value": " 6251/6251 [07:13&lt;00:00, 14.43ba/s]",
            "_view_count": null,
            "_view_module_version": "1.5.0",
            "description_tooltip": null,
            "_model_module": "@jupyter-widgets/controls",
            "layout": "IPY_MODEL_dd1bf67b52c54f24a8640b9ff6fb8320"
          }
        },
        "2df221ad90f045e7a4d2cb526a57c140": {
          "model_module": "@jupyter-widgets/controls",
          "model_name": "ProgressStyleModel",
          "state": {
            "_view_name": "StyleView",
            "_model_name": "ProgressStyleModel",
            "description_width": "initial",
            "_view_module": "@jupyter-widgets/base",
            "_model_module_version": "1.5.0",
            "_view_count": null,
            "_view_module_version": "1.2.0",
            "bar_color": null,
            "_model_module": "@jupyter-widgets/controls"
          }
        },
        "8abe87079f1c46e684bb205380f3539f": {
          "model_module": "@jupyter-widgets/base",
          "model_name": "LayoutModel",
          "state": {
            "_view_name": "LayoutView",
            "grid_template_rows": null,
            "right": null,
            "justify_content": null,
            "_view_module": "@jupyter-widgets/base",
            "overflow": null,
            "_model_module_version": "1.2.0",
            "_view_count": null,
            "flex_flow": null,
            "width": null,
            "min_width": null,
            "border": null,
            "align_items": null,
            "bottom": null,
            "_model_module": "@jupyter-widgets/base",
            "top": null,
            "grid_column": null,
            "overflow_y": null,
            "overflow_x": null,
            "grid_auto_flow": null,
            "grid_area": null,
            "grid_template_columns": null,
            "flex": null,
            "_model_name": "LayoutModel",
            "justify_items": null,
            "grid_row": null,
            "max_height": null,
            "align_content": null,
            "visibility": null,
            "align_self": null,
            "height": null,
            "min_height": null,
            "padding": null,
            "grid_auto_rows": null,
            "grid_gap": null,
            "max_width": null,
            "order": null,
            "_view_module_version": "1.2.0",
            "grid_template_areas": null,
            "object_position": null,
            "object_fit": null,
            "grid_auto_columns": null,
            "margin": null,
            "display": null,
            "left": null
          }
        },
        "0a68b3577bd6439aae9400bc585be843": {
          "model_module": "@jupyter-widgets/controls",
          "model_name": "DescriptionStyleModel",
          "state": {
            "_view_name": "StyleView",
            "_model_name": "DescriptionStyleModel",
            "description_width": "",
            "_view_module": "@jupyter-widgets/base",
            "_model_module_version": "1.5.0",
            "_view_count": null,
            "_view_module_version": "1.2.0",
            "_model_module": "@jupyter-widgets/controls"
          }
        },
        "dd1bf67b52c54f24a8640b9ff6fb8320": {
          "model_module": "@jupyter-widgets/base",
          "model_name": "LayoutModel",
          "state": {
            "_view_name": "LayoutView",
            "grid_template_rows": null,
            "right": null,
            "justify_content": null,
            "_view_module": "@jupyter-widgets/base",
            "overflow": null,
            "_model_module_version": "1.2.0",
            "_view_count": null,
            "flex_flow": null,
            "width": null,
            "min_width": null,
            "border": null,
            "align_items": null,
            "bottom": null,
            "_model_module": "@jupyter-widgets/base",
            "top": null,
            "grid_column": null,
            "overflow_y": null,
            "overflow_x": null,
            "grid_auto_flow": null,
            "grid_area": null,
            "grid_template_columns": null,
            "flex": null,
            "_model_name": "LayoutModel",
            "justify_items": null,
            "grid_row": null,
            "max_height": null,
            "align_content": null,
            "visibility": null,
            "align_self": null,
            "height": null,
            "min_height": null,
            "padding": null,
            "grid_auto_rows": null,
            "grid_gap": null,
            "max_width": null,
            "order": null,
            "_view_module_version": "1.2.0",
            "grid_template_areas": null,
            "object_position": null,
            "object_fit": null,
            "grid_auto_columns": null,
            "margin": null,
            "display": null,
            "left": null
          }
        }
      }
    },
    "accelerator": "GPU"
  },
  "cells": [
    {
      "cell_type": "code",
      "metadata": {
        "id": "BilWrkLaEPjR",
        "colab": {
          "base_uri": "https://localhost:8080/"
        },
        "outputId": "73da9be1-311b-4631-882b-7017bcbeb93c"
      },
      "source": [
        "from google.colab import drive\r\n",
        "drive.mount('/content/drive')"
      ],
      "execution_count": null,
      "outputs": [
        {
          "output_type": "stream",
          "text": [
            "Mounted at /content/drive\n"
          ],
          "name": "stdout"
        }
      ]
    },
    {
      "cell_type": "markdown",
      "metadata": {
        "id": "5RNUb_k6V2b1"
      },
      "source": [
        "### Create a text corpus ( run only once )"
      ]
    },
    {
      "cell_type": "markdown",
      "metadata": {
        "id": "HPiJS9OnCKKY"
      },
      "source": [
        "#### Save a copy of the dataset on the drive"
      ]
    },
    {
      "cell_type": "code",
      "metadata": {
        "id": "0JjJpwA8nmqQ",
        "colab": {
          "base_uri": "https://localhost:8080/"
        },
        "outputId": "9f1c54aa-568c-4c7e-a2ee-13ecac6b7d65"
      },
      "source": [
        "# Method 3\n",
        "# kaggle with colab\n",
        "!pip install kaggle "
      ],
      "execution_count": null,
      "outputs": [
        {
          "output_type": "stream",
          "text": [
            "Requirement already satisfied: kaggle in /usr/local/lib/python3.6/dist-packages (1.5.10)\n",
            "Requirement already satisfied: requests in /usr/local/lib/python3.6/dist-packages (from kaggle) (2.23.0)\n",
            "Requirement already satisfied: python-dateutil in /usr/local/lib/python3.6/dist-packages (from kaggle) (2.8.1)\n",
            "Requirement already satisfied: tqdm in /usr/local/lib/python3.6/dist-packages (from kaggle) (4.41.1)\n",
            "Requirement already satisfied: certifi in /usr/local/lib/python3.6/dist-packages (from kaggle) (2020.12.5)\n",
            "Requirement already satisfied: six>=1.10 in /usr/local/lib/python3.6/dist-packages (from kaggle) (1.15.0)\n",
            "Requirement already satisfied: urllib3 in /usr/local/lib/python3.6/dist-packages (from kaggle) (1.24.3)\n",
            "Requirement already satisfied: python-slugify in /usr/local/lib/python3.6/dist-packages (from kaggle) (4.0.1)\n",
            "Requirement already satisfied: idna<3,>=2.5 in /usr/local/lib/python3.6/dist-packages (from requests->kaggle) (2.10)\n",
            "Requirement already satisfied: chardet<4,>=3.0.2 in /usr/local/lib/python3.6/dist-packages (from requests->kaggle) (3.0.4)\n",
            "Requirement already satisfied: text-unidecode>=1.3 in /usr/local/lib/python3.6/dist-packages (from python-slugify->kaggle) (1.3)\n"
          ],
          "name": "stdout"
        }
      ]
    },
    {
      "cell_type": "code",
      "metadata": {
        "id": "UJpR384dI8B0"
      },
      "source": [
        "#before importing the dataset we want to use this code\n",
        "# The Kaggle API client expects this file to be in ~/.kaggle,\n",
        "!mkdir -p ~/.kaggle\n",
        "!cp kaggle.json ~/.kaggle/\n",
        "\n",
        "# This permissions change avoids a warning on Kaggle tool startup.\n",
        "!chmod 600 ~/.kaggle/kaggle.json"
      ],
      "execution_count": null,
      "outputs": []
    },
    {
      "cell_type": "code",
      "metadata": {
        "colab": {
          "base_uri": "https://localhost:8080/"
        },
        "id": "x87NvWgU4cma",
        "outputId": "0eed7418-a8e6-481e-ce06-497f5c3a79db"
      },
      "source": [
        "!kaggle competitions download -c jigsaw-unintended-bias-in-toxicity-classification"
      ],
      "execution_count": null,
      "outputs": [
        {
          "output_type": "stream",
          "text": [
            "Warning: Looks like you're using an outdated API Version, please consider updating (server 1.5.10 / client 1.5.4)\n",
            "Downloading sample_submission.csv.zip to /content\n",
            "  0% 0.00/224k [00:00<?, ?B/s]\n",
            "100% 224k/224k [00:00<00:00, 33.0MB/s]\n",
            "Downloading train.csv.zip to /content\n",
            " 97% 268M/276M [00:03<00:00, 81.0MB/s]\n",
            "100% 276M/276M [00:03<00:00, 93.8MB/s]\n",
            "Downloading toxicity_individual_annotations.csv.zip to /content\n",
            " 96% 62.0M/64.7M [00:00<00:00, 62.2MB/s]\n",
            "100% 64.7M/64.7M [00:00<00:00, 68.0MB/s]\n",
            "Downloading all_data.csv.zip to /content\n",
            " 97% 315M/326M [00:04<00:00, 87.6MB/s]\n",
            "100% 326M/326M [00:04<00:00, 74.2MB/s]\n",
            "Downloading test_private_expanded.csv.zip to /content\n",
            " 32% 5.00M/15.8M [00:00<00:00, 25.3MB/s]\n",
            "100% 15.8M/15.8M [00:00<00:00, 61.8MB/s]\n",
            "Downloading identity_individual_annotations.csv.zip to /content\n",
            " 41% 5.00M/12.3M [00:00<00:00, 26.7MB/s]\n",
            "100% 12.3M/12.3M [00:00<00:00, 48.7MB/s]\n",
            "Downloading test.csv.zip to /content\n",
            " 41% 5.00M/12.1M [00:00<00:00, 21.7MB/s]\n",
            "100% 12.1M/12.1M [00:00<00:00, 40.5MB/s]\n",
            "Downloading test_public_expanded.csv.zip to /content\n",
            " 32% 5.00M/15.9M [00:00<00:00, 28.1MB/s]\n",
            "100% 15.9M/15.9M [00:00<00:00, 52.9MB/s]\n"
          ],
          "name": "stdout"
        }
      ]
    },
    {
      "cell_type": "code",
      "metadata": {
        "colab": {
          "base_uri": "https://localhost:8080/"
        },
        "id": "QKqVefIt4gCc",
        "outputId": "aff3a482-b973-4da3-9326-73786de483c2"
      },
      "source": [
        "!unzip all_data.csv.zip"
      ],
      "execution_count": null,
      "outputs": [
        {
          "output_type": "stream",
          "text": [
            "Archive:  all_data.csv.zip\n",
            "  inflating: all_data.csv            \n"
          ],
          "name": "stdout"
        }
      ]
    },
    {
      "cell_type": "code",
      "metadata": {
        "id": "IviMF7_v4pVq"
      },
      "source": [
        "!cp all_data.csv drive/MyDrive/toxic_span_identification/pre_training/civil_comments_all_data.csv"
      ],
      "execution_count": null,
      "outputs": []
    },
    {
      "cell_type": "markdown",
      "metadata": {
        "id": "xqJXeUtrCBFb"
      },
      "source": [
        "#### Preprocess the civil comments dataset"
      ]
    },
    {
      "cell_type": "code",
      "metadata": {
        "id": "nlEEkBXQ4-5y"
      },
      "source": [
        "import pandas as pd\r\n",
        "import numpy as np"
      ],
      "execution_count": null,
      "outputs": []
    },
    {
      "cell_type": "code",
      "metadata": {
        "colab": {
          "base_uri": "https://localhost:8080/",
          "height": 513
        },
        "id": "NMmZB7165RC1",
        "outputId": "71e0ecb1-f5e9-403b-a388-ca61a3dd8245"
      },
      "source": [
        "df = pd.read_csv(\"./drive/MyDrive/toxic_span_identification/pre_training/civil_comments_all_data.csv\")\r\n",
        "df.head()"
      ],
      "execution_count": null,
      "outputs": [
        {
          "output_type": "execute_result",
          "data": {
            "text/html": [
              "<div>\n",
              "<style scoped>\n",
              "    .dataframe tbody tr th:only-of-type {\n",
              "        vertical-align: middle;\n",
              "    }\n",
              "\n",
              "    .dataframe tbody tr th {\n",
              "        vertical-align: top;\n",
              "    }\n",
              "\n",
              "    .dataframe thead th {\n",
              "        text-align: right;\n",
              "    }\n",
              "</style>\n",
              "<table border=\"1\" class=\"dataframe\">\n",
              "  <thead>\n",
              "    <tr style=\"text-align: right;\">\n",
              "      <th></th>\n",
              "      <th>id</th>\n",
              "      <th>comment_text</th>\n",
              "      <th>split</th>\n",
              "      <th>created_date</th>\n",
              "      <th>publication_id</th>\n",
              "      <th>parent_id</th>\n",
              "      <th>article_id</th>\n",
              "      <th>rating</th>\n",
              "      <th>funny</th>\n",
              "      <th>wow</th>\n",
              "      <th>sad</th>\n",
              "      <th>likes</th>\n",
              "      <th>disagree</th>\n",
              "      <th>toxicity</th>\n",
              "      <th>severe_toxicity</th>\n",
              "      <th>obscene</th>\n",
              "      <th>sexual_explicit</th>\n",
              "      <th>identity_attack</th>\n",
              "      <th>insult</th>\n",
              "      <th>threat</th>\n",
              "      <th>male</th>\n",
              "      <th>female</th>\n",
              "      <th>transgender</th>\n",
              "      <th>other_gender</th>\n",
              "      <th>heterosexual</th>\n",
              "      <th>homosexual_gay_or_lesbian</th>\n",
              "      <th>bisexual</th>\n",
              "      <th>other_sexual_orientation</th>\n",
              "      <th>christian</th>\n",
              "      <th>jewish</th>\n",
              "      <th>muslim</th>\n",
              "      <th>hindu</th>\n",
              "      <th>buddhist</th>\n",
              "      <th>atheist</th>\n",
              "      <th>other_religion</th>\n",
              "      <th>black</th>\n",
              "      <th>white</th>\n",
              "      <th>asian</th>\n",
              "      <th>latino</th>\n",
              "      <th>other_race_or_ethnicity</th>\n",
              "      <th>physical_disability</th>\n",
              "      <th>intellectual_or_learning_disability</th>\n",
              "      <th>psychiatric_or_mental_illness</th>\n",
              "      <th>other_disability</th>\n",
              "      <th>identity_annotator_count</th>\n",
              "      <th>toxicity_annotator_count</th>\n",
              "    </tr>\n",
              "  </thead>\n",
              "  <tbody>\n",
              "    <tr>\n",
              "      <th>0</th>\n",
              "      <td>1083994</td>\n",
              "      <td>He got his money... now he lies in wait till a...</td>\n",
              "      <td>train</td>\n",
              "      <td>2017-03-06 15:21:53.675241+00</td>\n",
              "      <td>21</td>\n",
              "      <td>NaN</td>\n",
              "      <td>317120</td>\n",
              "      <td>approved</td>\n",
              "      <td>0</td>\n",
              "      <td>0</td>\n",
              "      <td>0</td>\n",
              "      <td>2</td>\n",
              "      <td>0</td>\n",
              "      <td>0.373134</td>\n",
              "      <td>0.044776</td>\n",
              "      <td>0.089552</td>\n",
              "      <td>0.014925</td>\n",
              "      <td>0.000000</td>\n",
              "      <td>0.343284</td>\n",
              "      <td>0.014925</td>\n",
              "      <td>NaN</td>\n",
              "      <td>NaN</td>\n",
              "      <td>NaN</td>\n",
              "      <td>NaN</td>\n",
              "      <td>NaN</td>\n",
              "      <td>NaN</td>\n",
              "      <td>NaN</td>\n",
              "      <td>NaN</td>\n",
              "      <td>NaN</td>\n",
              "      <td>NaN</td>\n",
              "      <td>NaN</td>\n",
              "      <td>NaN</td>\n",
              "      <td>NaN</td>\n",
              "      <td>NaN</td>\n",
              "      <td>NaN</td>\n",
              "      <td>NaN</td>\n",
              "      <td>NaN</td>\n",
              "      <td>NaN</td>\n",
              "      <td>NaN</td>\n",
              "      <td>NaN</td>\n",
              "      <td>NaN</td>\n",
              "      <td>NaN</td>\n",
              "      <td>NaN</td>\n",
              "      <td>NaN</td>\n",
              "      <td>0</td>\n",
              "      <td>67</td>\n",
              "    </tr>\n",
              "    <tr>\n",
              "      <th>1</th>\n",
              "      <td>650904</td>\n",
              "      <td>Mad dog will surely put the liberals in mental...</td>\n",
              "      <td>train</td>\n",
              "      <td>2016-12-02 16:44:21.329535+00</td>\n",
              "      <td>21</td>\n",
              "      <td>NaN</td>\n",
              "      <td>154086</td>\n",
              "      <td>approved</td>\n",
              "      <td>0</td>\n",
              "      <td>0</td>\n",
              "      <td>1</td>\n",
              "      <td>2</td>\n",
              "      <td>0</td>\n",
              "      <td>0.605263</td>\n",
              "      <td>0.013158</td>\n",
              "      <td>0.065789</td>\n",
              "      <td>0.013158</td>\n",
              "      <td>0.092105</td>\n",
              "      <td>0.565789</td>\n",
              "      <td>0.065789</td>\n",
              "      <td>NaN</td>\n",
              "      <td>NaN</td>\n",
              "      <td>NaN</td>\n",
              "      <td>NaN</td>\n",
              "      <td>NaN</td>\n",
              "      <td>NaN</td>\n",
              "      <td>NaN</td>\n",
              "      <td>NaN</td>\n",
              "      <td>NaN</td>\n",
              "      <td>NaN</td>\n",
              "      <td>NaN</td>\n",
              "      <td>NaN</td>\n",
              "      <td>NaN</td>\n",
              "      <td>NaN</td>\n",
              "      <td>NaN</td>\n",
              "      <td>NaN</td>\n",
              "      <td>NaN</td>\n",
              "      <td>NaN</td>\n",
              "      <td>NaN</td>\n",
              "      <td>NaN</td>\n",
              "      <td>NaN</td>\n",
              "      <td>NaN</td>\n",
              "      <td>NaN</td>\n",
              "      <td>NaN</td>\n",
              "      <td>0</td>\n",
              "      <td>76</td>\n",
              "    </tr>\n",
              "    <tr>\n",
              "      <th>2</th>\n",
              "      <td>5902188</td>\n",
              "      <td>And Trump continues his lifelong cowardice by ...</td>\n",
              "      <td>train</td>\n",
              "      <td>2017-09-05 19:05:32.341360+00</td>\n",
              "      <td>55</td>\n",
              "      <td>NaN</td>\n",
              "      <td>374342</td>\n",
              "      <td>approved</td>\n",
              "      <td>1</td>\n",
              "      <td>0</td>\n",
              "      <td>2</td>\n",
              "      <td>3</td>\n",
              "      <td>7</td>\n",
              "      <td>0.666667</td>\n",
              "      <td>0.015873</td>\n",
              "      <td>0.031746</td>\n",
              "      <td>0.000000</td>\n",
              "      <td>0.047619</td>\n",
              "      <td>0.666667</td>\n",
              "      <td>0.000000</td>\n",
              "      <td>NaN</td>\n",
              "      <td>NaN</td>\n",
              "      <td>NaN</td>\n",
              "      <td>NaN</td>\n",
              "      <td>NaN</td>\n",
              "      <td>NaN</td>\n",
              "      <td>NaN</td>\n",
              "      <td>NaN</td>\n",
              "      <td>NaN</td>\n",
              "      <td>NaN</td>\n",
              "      <td>NaN</td>\n",
              "      <td>NaN</td>\n",
              "      <td>NaN</td>\n",
              "      <td>NaN</td>\n",
              "      <td>NaN</td>\n",
              "      <td>NaN</td>\n",
              "      <td>NaN</td>\n",
              "      <td>NaN</td>\n",
              "      <td>NaN</td>\n",
              "      <td>NaN</td>\n",
              "      <td>NaN</td>\n",
              "      <td>NaN</td>\n",
              "      <td>NaN</td>\n",
              "      <td>NaN</td>\n",
              "      <td>0</td>\n",
              "      <td>63</td>\n",
              "    </tr>\n",
              "    <tr>\n",
              "      <th>3</th>\n",
              "      <td>7084460</td>\n",
              "      <td>\"while arresting a man for resisting arrest\".\\...</td>\n",
              "      <td>test</td>\n",
              "      <td>2016-11-01 16:53:33.561631+00</td>\n",
              "      <td>13</td>\n",
              "      <td>NaN</td>\n",
              "      <td>149218</td>\n",
              "      <td>approved</td>\n",
              "      <td>0</td>\n",
              "      <td>0</td>\n",
              "      <td>0</td>\n",
              "      <td>0</td>\n",
              "      <td>0</td>\n",
              "      <td>0.815789</td>\n",
              "      <td>0.065789</td>\n",
              "      <td>0.552632</td>\n",
              "      <td>0.592105</td>\n",
              "      <td>0.000000</td>\n",
              "      <td>0.684211</td>\n",
              "      <td>0.105263</td>\n",
              "      <td>NaN</td>\n",
              "      <td>NaN</td>\n",
              "      <td>NaN</td>\n",
              "      <td>NaN</td>\n",
              "      <td>NaN</td>\n",
              "      <td>NaN</td>\n",
              "      <td>NaN</td>\n",
              "      <td>NaN</td>\n",
              "      <td>NaN</td>\n",
              "      <td>NaN</td>\n",
              "      <td>NaN</td>\n",
              "      <td>NaN</td>\n",
              "      <td>NaN</td>\n",
              "      <td>NaN</td>\n",
              "      <td>NaN</td>\n",
              "      <td>NaN</td>\n",
              "      <td>NaN</td>\n",
              "      <td>NaN</td>\n",
              "      <td>NaN</td>\n",
              "      <td>NaN</td>\n",
              "      <td>NaN</td>\n",
              "      <td>NaN</td>\n",
              "      <td>NaN</td>\n",
              "      <td>NaN</td>\n",
              "      <td>0</td>\n",
              "      <td>76</td>\n",
              "    </tr>\n",
              "    <tr>\n",
              "      <th>4</th>\n",
              "      <td>5410943</td>\n",
              "      <td>Tucker and Paul are both total bad ass mofo's.</td>\n",
              "      <td>train</td>\n",
              "      <td>2017-06-14 05:08:21.997315+00</td>\n",
              "      <td>21</td>\n",
              "      <td>NaN</td>\n",
              "      <td>344096</td>\n",
              "      <td>approved</td>\n",
              "      <td>0</td>\n",
              "      <td>0</td>\n",
              "      <td>0</td>\n",
              "      <td>1</td>\n",
              "      <td>0</td>\n",
              "      <td>0.550000</td>\n",
              "      <td>0.037500</td>\n",
              "      <td>0.337500</td>\n",
              "      <td>0.275000</td>\n",
              "      <td>0.037500</td>\n",
              "      <td>0.487500</td>\n",
              "      <td>0.000000</td>\n",
              "      <td>NaN</td>\n",
              "      <td>NaN</td>\n",
              "      <td>NaN</td>\n",
              "      <td>NaN</td>\n",
              "      <td>NaN</td>\n",
              "      <td>NaN</td>\n",
              "      <td>NaN</td>\n",
              "      <td>NaN</td>\n",
              "      <td>NaN</td>\n",
              "      <td>NaN</td>\n",
              "      <td>NaN</td>\n",
              "      <td>NaN</td>\n",
              "      <td>NaN</td>\n",
              "      <td>NaN</td>\n",
              "      <td>NaN</td>\n",
              "      <td>NaN</td>\n",
              "      <td>NaN</td>\n",
              "      <td>NaN</td>\n",
              "      <td>NaN</td>\n",
              "      <td>NaN</td>\n",
              "      <td>NaN</td>\n",
              "      <td>NaN</td>\n",
              "      <td>NaN</td>\n",
              "      <td>NaN</td>\n",
              "      <td>0</td>\n",
              "      <td>80</td>\n",
              "    </tr>\n",
              "  </tbody>\n",
              "</table>\n",
              "</div>"
            ],
            "text/plain": [
              "        id  ... toxicity_annotator_count\n",
              "0  1083994  ...                       67\n",
              "1   650904  ...                       76\n",
              "2  5902188  ...                       63\n",
              "3  7084460  ...                       76\n",
              "4  5410943  ...                       80\n",
              "\n",
              "[5 rows x 46 columns]"
            ]
          },
          "metadata": {
            "tags": []
          },
          "execution_count": 2
        }
      ]
    },
    {
      "cell_type": "code",
      "metadata": {
        "id": "jwgH2Cua7wCR"
      },
      "source": [
        "comments = list(df['comment_text'])"
      ],
      "execution_count": null,
      "outputs": []
    },
    {
      "cell_type": "code",
      "metadata": {
        "colab": {
          "base_uri": "https://localhost:8080/"
        },
        "id": "tbQxL_-q9sIq",
        "outputId": "2fea6809-a5a9-423b-ba59-dcce73842b12"
      },
      "source": [
        "import nltk\r\n",
        "from nltk.tokenize import sent_tokenize\r\n",
        "import re\r\n",
        "nltk.download('punkt')"
      ],
      "execution_count": null,
      "outputs": [
        {
          "output_type": "stream",
          "text": [
            "[nltk_data] Downloading package punkt to /root/nltk_data...\n",
            "[nltk_data]   Package punkt is already up-to-date!\n"
          ],
          "name": "stdout"
        },
        {
          "output_type": "execute_result",
          "data": {
            "text/plain": [
              "True"
            ]
          },
          "metadata": {
            "tags": []
          },
          "execution_count": 4
        }
      ]
    },
    {
      "cell_type": "code",
      "metadata": {
        "colab": {
          "base_uri": "https://localhost:8080/"
        },
        "id": "I2-P6GgkEaaw",
        "outputId": "bed2439b-972a-4338-f12a-d001d884842a"
      },
      "source": [
        "comments[:10]"
      ],
      "execution_count": null,
      "outputs": [
        {
          "output_type": "execute_result",
          "data": {
            "text/plain": [
              "[\"He got his money... now he lies in wait till after the election in 2 yrs.... dirty politicians need to be afraid of Tar and feathers again... but they aren't and so the people get screwed.\",\n",
              " 'Mad dog will surely put the liberals in mental hospitals. Boorah',\n",
              " 'And Trump continues his lifelong cowardice by not making this announcement himself.\\n\\nWhat an awful human being .....',\n",
              " '\"while arresting a man for resisting arrest\".\\n\\nIf you cop-suckers can\\'t see a problem with this, then go suck the barrel of a Glock.',\n",
              " \"Tucker and Paul are both total bad ass mofo's.\",\n",
              " \"Cry me a river, why don't you.\\nDrinking, drugs, dressing like a ho.  Bad recipe for disaster!\",\n",
              " 'I really wish the DP would bounce people trying to make a moral equivalence between Nazis and BLM. \\n\\n\\nThat kind of hateful BothSiderist garbage had got to stop. It\\'s not even funny any more. \\n\\n\\nActual Nazis are marching in this country and killing people. And the response of some is \"but the blahs\". And the DP allows such posts to stay up, and the posters to continue posting. \\n\\n\\nUgly.',\n",
              " 'That is Child Abuse!!!',\n",
              " \"That's right. They are not normal. And I am starting from the premise that they are ABNORMAL. Proceed wth the typical racist, bigot, sexist rubbish.\\nThanks!\",\n",
              " 'Only a fool would believe that the MSM is not biased against this president.']"
            ]
          },
          "metadata": {
            "tags": []
          },
          "execution_count": 5
        }
      ]
    },
    {
      "cell_type": "code",
      "metadata": {
        "id": "hPehHoudIGUC"
      },
      "source": [
        "import string"
      ],
      "execution_count": null,
      "outputs": []
    },
    {
      "cell_type": "code",
      "metadata": {
        "id": "W5D994YcA0Ah"
      },
      "source": [
        "with open(\"./drive/MyDrive/toxic_span_identification/pre_training/civil_comments_text_corpus.txt\",\"w\") as myfile:\r\n",
        "  for comment in comments:\r\n",
        "    if str(comment) == \"nan\":\r\n",
        "      continue\r\n",
        "    sentences = sent_tokenize(comment)\r\n",
        "    for sent in sentences:\r\n",
        "      formatted_sent = sent.strip()\r\n",
        "      formatted_sent = re.sub('[\\s]*\\n[\\s]*','\\n',formatted_sent)\r\n",
        "      formatted_sent = re.sub('[ ]+',' ',formatted_sent)\r\n",
        "      l = len(formatted_sent)\r\n",
        "      if l == 0 or l == 1 :\r\n",
        "        continue\r\n",
        "      myfile.write(formatted_sent)\r\n",
        "      myfile.write(\"\\n\")"
      ],
      "execution_count": null,
      "outputs": []
    },
    {
      "cell_type": "markdown",
      "metadata": {
        "id": "rSrQ6WeyVyGi"
      },
      "source": [
        "#### Random sample of text corpus"
      ]
    },
    {
      "cell_type": "code",
      "metadata": {
        "id": "X8QyJ_aCV1Ci"
      },
      "source": [
        "!cp /content/drive/MyDrive/toxic_span_identification/pre_training/civil_comments_text_corpus.txt civil_comments_text_corpus.txt"
      ],
      "execution_count": null,
      "outputs": []
    },
    {
      "cell_type": "code",
      "metadata": {
        "colab": {
          "base_uri": "https://localhost:8080/"
        },
        "id": "M-d2QLbD6BRh",
        "outputId": "7e3816ff-873b-4f22-a720-4bd402cdb8f2"
      },
      "source": [
        "with open(\"civil_comments_text_corpus.txt\",\"r\") as f:\r\n",
        "  sentences = f.readlines()\r\n",
        "print(len(sentences))"
      ],
      "execution_count": null,
      "outputs": [
        {
          "output_type": "stream",
          "text": [
            "7317904\n"
          ],
          "name": "stdout"
        }
      ]
    },
    {
      "cell_type": "code",
      "metadata": {
        "id": "5C92WFPLdLUt"
      },
      "source": [
        "import random"
      ],
      "execution_count": null,
      "outputs": []
    },
    {
      "cell_type": "code",
      "metadata": {
        "id": "qpTP1zBD6LiX"
      },
      "source": [
        "sample_sentences = random.sample(sentences, 3200000)"
      ],
      "execution_count": null,
      "outputs": []
    },
    {
      "cell_type": "code",
      "metadata": {
        "id": "ywa1KN_1djI3"
      },
      "source": [
        "with open(\"civil_comments_text_corpus_reduced.txt\",\"w\") as f:\r\n",
        "  for sent in sample_sentences:\r\n",
        "    f.write(sent)"
      ],
      "execution_count": null,
      "outputs": []
    },
    {
      "cell_type": "code",
      "metadata": {
        "id": "zjEo2MUEdwk7"
      },
      "source": [
        "!cp civil_comments_text_corpus_reduced.txt /content/drive/MyDrive/toxic_span_identification/pre_training/civil_comments_text_corpus_reduced.txt"
      ],
      "execution_count": null,
      "outputs": []
    },
    {
      "cell_type": "markdown",
      "metadata": {
        "id": "A4xriPfl4haR"
      },
      "source": [
        "### Train a language model"
      ]
    },
    {
      "cell_type": "code",
      "metadata": {
        "colab": {
          "base_uri": "https://localhost:8080/"
        },
        "id": "cuH9o-enWdui",
        "outputId": "c3c259fd-d150-46ad-8045-746dfa50c214"
      },
      "source": [
        "!pip uninstall -y tensorflow"
      ],
      "execution_count": null,
      "outputs": [
        {
          "output_type": "stream",
          "text": [
            "Uninstalling tensorflow-2.4.0:\n",
            "  Successfully uninstalled tensorflow-2.4.0\n"
          ],
          "name": "stdout"
        }
      ]
    },
    {
      "cell_type": "code",
      "metadata": {
        "colab": {
          "base_uri": "https://localhost:8080/"
        },
        "id": "2-27OM4WmH9U",
        "outputId": "264b000b-7557-4d10-db2d-3b5a593330ba"
      },
      "source": [
        "!pip install transformers\r\n",
        "!pip install datasets"
      ],
      "execution_count": null,
      "outputs": [
        {
          "output_type": "stream",
          "text": [
            "Collecting transformers\n",
            "\u001b[?25l  Downloading https://files.pythonhosted.org/packages/50/0c/7d5950fcd80b029be0a8891727ba21e0cd27692c407c51261c3c921f6da3/transformers-4.1.1-py3-none-any.whl (1.5MB)\n",
            "\r\u001b[K     |▏                               | 10kB 21.5MB/s eta 0:00:01\r\u001b[K     |▍                               | 20kB 25.5MB/s eta 0:00:01\r\u001b[K     |▋                               | 30kB 26.1MB/s eta 0:00:01\r\u001b[K     |▉                               | 40kB 24.8MB/s eta 0:00:01\r\u001b[K     |█                               | 51kB 24.9MB/s eta 0:00:01\r\u001b[K     |█▎                              | 61kB 17.8MB/s eta 0:00:01\r\u001b[K     |█▌                              | 71kB 17.9MB/s eta 0:00:01\r\u001b[K     |█▊                              | 81kB 18.7MB/s eta 0:00:01\r\u001b[K     |██                              | 92kB 16.6MB/s eta 0:00:01\r\u001b[K     |██▏                             | 102kB 17.7MB/s eta 0:00:01\r\u001b[K     |██▍                             | 112kB 17.7MB/s eta 0:00:01\r\u001b[K     |██▋                             | 122kB 17.7MB/s eta 0:00:01\r\u001b[K     |██▉                             | 133kB 17.7MB/s eta 0:00:01\r\u001b[K     |███                             | 143kB 17.7MB/s eta 0:00:01\r\u001b[K     |███▎                            | 153kB 17.7MB/s eta 0:00:01\r\u001b[K     |███▌                            | 163kB 17.7MB/s eta 0:00:01\r\u001b[K     |███▊                            | 174kB 17.7MB/s eta 0:00:01\r\u001b[K     |████                            | 184kB 17.7MB/s eta 0:00:01\r\u001b[K     |████▏                           | 194kB 17.7MB/s eta 0:00:01\r\u001b[K     |████▎                           | 204kB 17.7MB/s eta 0:00:01\r\u001b[K     |████▌                           | 215kB 17.7MB/s eta 0:00:01\r\u001b[K     |████▊                           | 225kB 17.7MB/s eta 0:00:01\r\u001b[K     |█████                           | 235kB 17.7MB/s eta 0:00:01\r\u001b[K     |█████▏                          | 245kB 17.7MB/s eta 0:00:01\r\u001b[K     |█████▍                          | 256kB 17.7MB/s eta 0:00:01\r\u001b[K     |█████▋                          | 266kB 17.7MB/s eta 0:00:01\r\u001b[K     |█████▉                          | 276kB 17.7MB/s eta 0:00:01\r\u001b[K     |██████                          | 286kB 17.7MB/s eta 0:00:01\r\u001b[K     |██████▎                         | 296kB 17.7MB/s eta 0:00:01\r\u001b[K     |██████▌                         | 307kB 17.7MB/s eta 0:00:01\r\u001b[K     |██████▊                         | 317kB 17.7MB/s eta 0:00:01\r\u001b[K     |███████                         | 327kB 17.7MB/s eta 0:00:01\r\u001b[K     |███████▏                        | 337kB 17.7MB/s eta 0:00:01\r\u001b[K     |███████▍                        | 348kB 17.7MB/s eta 0:00:01\r\u001b[K     |███████▋                        | 358kB 17.7MB/s eta 0:00:01\r\u001b[K     |███████▉                        | 368kB 17.7MB/s eta 0:00:01\r\u001b[K     |████████                        | 378kB 17.7MB/s eta 0:00:01\r\u001b[K     |████████▎                       | 389kB 17.7MB/s eta 0:00:01\r\u001b[K     |████████▌                       | 399kB 17.7MB/s eta 0:00:01\r\u001b[K     |████████▋                       | 409kB 17.7MB/s eta 0:00:01\r\u001b[K     |████████▉                       | 419kB 17.7MB/s eta 0:00:01\r\u001b[K     |█████████                       | 430kB 17.7MB/s eta 0:00:01\r\u001b[K     |█████████▎                      | 440kB 17.7MB/s eta 0:00:01\r\u001b[K     |█████████▌                      | 450kB 17.7MB/s eta 0:00:01\r\u001b[K     |█████████▊                      | 460kB 17.7MB/s eta 0:00:01\r\u001b[K     |██████████                      | 471kB 17.7MB/s eta 0:00:01\r\u001b[K     |██████████▏                     | 481kB 17.7MB/s eta 0:00:01\r\u001b[K     |██████████▍                     | 491kB 17.7MB/s eta 0:00:01\r\u001b[K     |██████████▋                     | 501kB 17.7MB/s eta 0:00:01\r\u001b[K     |██████████▉                     | 512kB 17.7MB/s eta 0:00:01\r\u001b[K     |███████████                     | 522kB 17.7MB/s eta 0:00:01\r\u001b[K     |███████████▎                    | 532kB 17.7MB/s eta 0:00:01\r\u001b[K     |███████████▌                    | 542kB 17.7MB/s eta 0:00:01\r\u001b[K     |███████████▊                    | 552kB 17.7MB/s eta 0:00:01\r\u001b[K     |████████████                    | 563kB 17.7MB/s eta 0:00:01\r\u001b[K     |████████████▏                   | 573kB 17.7MB/s eta 0:00:01\r\u001b[K     |████████████▍                   | 583kB 17.7MB/s eta 0:00:01\r\u001b[K     |████████████▋                   | 593kB 17.7MB/s eta 0:00:01\r\u001b[K     |████████████▉                   | 604kB 17.7MB/s eta 0:00:01\r\u001b[K     |█████████████                   | 614kB 17.7MB/s eta 0:00:01\r\u001b[K     |█████████████▏                  | 624kB 17.7MB/s eta 0:00:01\r\u001b[K     |█████████████▍                  | 634kB 17.7MB/s eta 0:00:01\r\u001b[K     |█████████████▋                  | 645kB 17.7MB/s eta 0:00:01\r\u001b[K     |█████████████▉                  | 655kB 17.7MB/s eta 0:00:01\r\u001b[K     |██████████████                  | 665kB 17.7MB/s eta 0:00:01\r\u001b[K     |██████████████▎                 | 675kB 17.7MB/s eta 0:00:01\r\u001b[K     |██████████████▌                 | 686kB 17.7MB/s eta 0:00:01\r\u001b[K     |██████████████▊                 | 696kB 17.7MB/s eta 0:00:01\r\u001b[K     |███████████████                 | 706kB 17.7MB/s eta 0:00:01\r\u001b[K     |███████████████▏                | 716kB 17.7MB/s eta 0:00:01\r\u001b[K     |███████████████▍                | 727kB 17.7MB/s eta 0:00:01\r\u001b[K     |███████████████▋                | 737kB 17.7MB/s eta 0:00:01\r\u001b[K     |███████████████▉                | 747kB 17.7MB/s eta 0:00:01\r\u001b[K     |████████████████                | 757kB 17.7MB/s eta 0:00:01\r\u001b[K     |████████████████▎               | 768kB 17.7MB/s eta 0:00:01\r\u001b[K     |████████████████▌               | 778kB 17.7MB/s eta 0:00:01\r\u001b[K     |████████████████▊               | 788kB 17.7MB/s eta 0:00:01\r\u001b[K     |█████████████████               | 798kB 17.7MB/s eta 0:00:01\r\u001b[K     |█████████████████               | 808kB 17.7MB/s eta 0:00:01\r\u001b[K     |█████████████████▎              | 819kB 17.7MB/s eta 0:00:01\r\u001b[K     |█████████████████▌              | 829kB 17.7MB/s eta 0:00:01\r\u001b[K     |█████████████████▊              | 839kB 17.7MB/s eta 0:00:01\r\u001b[K     |██████████████████              | 849kB 17.7MB/s eta 0:00:01\r\u001b[K     |██████████████████▏             | 860kB 17.7MB/s eta 0:00:01\r\u001b[K     |██████████████████▍             | 870kB 17.7MB/s eta 0:00:01\r\u001b[K     |██████████████████▋             | 880kB 17.7MB/s eta 0:00:01\r\u001b[K     |██████████████████▉             | 890kB 17.7MB/s eta 0:00:01\r\u001b[K     |███████████████████             | 901kB 17.7MB/s eta 0:00:01\r\u001b[K     |███████████████████▎            | 911kB 17.7MB/s eta 0:00:01\r\u001b[K     |███████████████████▌            | 921kB 17.7MB/s eta 0:00:01\r\u001b[K     |███████████████████▊            | 931kB 17.7MB/s eta 0:00:01\r\u001b[K     |████████████████████            | 942kB 17.7MB/s eta 0:00:01\r\u001b[K     |████████████████████▏           | 952kB 17.7MB/s eta 0:00:01\r\u001b[K     |████████████████████▍           | 962kB 17.7MB/s eta 0:00:01\r\u001b[K     |████████████████████▋           | 972kB 17.7MB/s eta 0:00:01\r\u001b[K     |████████████████████▉           | 983kB 17.7MB/s eta 0:00:01\r\u001b[K     |█████████████████████           | 993kB 17.7MB/s eta 0:00:01\r\u001b[K     |█████████████████████▎          | 1.0MB 17.7MB/s eta 0:00:01\r\u001b[K     |█████████████████████▍          | 1.0MB 17.7MB/s eta 0:00:01\r\u001b[K     |█████████████████████▋          | 1.0MB 17.7MB/s eta 0:00:01\r\u001b[K     |█████████████████████▉          | 1.0MB 17.7MB/s eta 0:00:01\r\u001b[K     |██████████████████████          | 1.0MB 17.7MB/s eta 0:00:01\r\u001b[K     |██████████████████████▎         | 1.1MB 17.7MB/s eta 0:00:01\r\u001b[K     |██████████████████████▌         | 1.1MB 17.7MB/s eta 0:00:01\r\u001b[K     |██████████████████████▊         | 1.1MB 17.7MB/s eta 0:00:01\r\u001b[K     |███████████████████████         | 1.1MB 17.7MB/s eta 0:00:01\r\u001b[K     |███████████████████████▏        | 1.1MB 17.7MB/s eta 0:00:01\r\u001b[K     |███████████████████████▍        | 1.1MB 17.7MB/s eta 0:00:01\r\u001b[K     |███████████████████████▋        | 1.1MB 17.7MB/s eta 0:00:01\r\u001b[K     |███████████████████████▉        | 1.1MB 17.7MB/s eta 0:00:01\r\u001b[K     |████████████████████████        | 1.1MB 17.7MB/s eta 0:00:01\r\u001b[K     |████████████████████████▎       | 1.1MB 17.7MB/s eta 0:00:01\r\u001b[K     |████████████████████████▌       | 1.2MB 17.7MB/s eta 0:00:01\r\u001b[K     |████████████████████████▊       | 1.2MB 17.7MB/s eta 0:00:01\r\u001b[K     |█████████████████████████       | 1.2MB 17.7MB/s eta 0:00:01\r\u001b[K     |█████████████████████████▏      | 1.2MB 17.7MB/s eta 0:00:01\r\u001b[K     |█████████████████████████▍      | 1.2MB 17.7MB/s eta 0:00:01\r\u001b[K     |█████████████████████████▋      | 1.2MB 17.7MB/s eta 0:00:01\r\u001b[K     |█████████████████████████▊      | 1.2MB 17.7MB/s eta 0:00:01\r\u001b[K     |██████████████████████████      | 1.2MB 17.7MB/s eta 0:00:01\r\u001b[K     |██████████████████████████▏     | 1.2MB 17.7MB/s eta 0:00:01\r\u001b[K     |██████████████████████████▍     | 1.2MB 17.7MB/s eta 0:00:01\r\u001b[K     |██████████████████████████▋     | 1.3MB 17.7MB/s eta 0:00:01\r\u001b[K     |██████████████████████████▉     | 1.3MB 17.7MB/s eta 0:00:01\r\u001b[K     |███████████████████████████     | 1.3MB 17.7MB/s eta 0:00:01\r\u001b[K     |███████████████████████████▎    | 1.3MB 17.7MB/s eta 0:00:01\r\u001b[K     |███████████████████████████▌    | 1.3MB 17.7MB/s eta 0:00:01\r\u001b[K     |███████████████████████████▊    | 1.3MB 17.7MB/s eta 0:00:01\r\u001b[K     |████████████████████████████    | 1.3MB 17.7MB/s eta 0:00:01\r\u001b[K     |████████████████████████████▏   | 1.3MB 17.7MB/s eta 0:00:01\r\u001b[K     |████████████████████████████▍   | 1.3MB 17.7MB/s eta 0:00:01\r\u001b[K     |████████████████████████████▋   | 1.4MB 17.7MB/s eta 0:00:01\r\u001b[K     |████████████████████████████▉   | 1.4MB 17.7MB/s eta 0:00:01\r\u001b[K     |█████████████████████████████   | 1.4MB 17.7MB/s eta 0:00:01\r\u001b[K     |█████████████████████████████▎  | 1.4MB 17.7MB/s eta 0:00:01\r\u001b[K     |█████████████████████████████▌  | 1.4MB 17.7MB/s eta 0:00:01\r\u001b[K     |█████████████████████████████▊  | 1.4MB 17.7MB/s eta 0:00:01\r\u001b[K     |█████████████████████████████▉  | 1.4MB 17.7MB/s eta 0:00:01\r\u001b[K     |██████████████████████████████  | 1.4MB 17.7MB/s eta 0:00:01\r\u001b[K     |██████████████████████████████▎ | 1.4MB 17.7MB/s eta 0:00:01\r\u001b[K     |██████████████████████████████▌ | 1.4MB 17.7MB/s eta 0:00:01\r\u001b[K     |██████████████████████████████▊ | 1.5MB 17.7MB/s eta 0:00:01\r\u001b[K     |███████████████████████████████ | 1.5MB 17.7MB/s eta 0:00:01\r\u001b[K     |███████████████████████████████▏| 1.5MB 17.7MB/s eta 0:00:01\r\u001b[K     |███████████████████████████████▍| 1.5MB 17.7MB/s eta 0:00:01\r\u001b[K     |███████████████████████████████▋| 1.5MB 17.7MB/s eta 0:00:01\r\u001b[K     |███████████████████████████████▉| 1.5MB 17.7MB/s eta 0:00:01\r\u001b[K     |████████████████████████████████| 1.5MB 17.7MB/s \n",
            "\u001b[?25hRequirement already satisfied: regex!=2019.12.17 in /usr/local/lib/python3.6/dist-packages (from transformers) (2019.12.20)\n",
            "Collecting tokenizers==0.9.4\n",
            "\u001b[?25l  Downloading https://files.pythonhosted.org/packages/0f/1c/e789a8b12e28be5bc1ce2156cf87cb522b379be9cadc7ad8091a4cc107c4/tokenizers-0.9.4-cp36-cp36m-manylinux2010_x86_64.whl (2.9MB)\n",
            "\u001b[K     |████████████████████████████████| 2.9MB 51.8MB/s \n",
            "\u001b[?25hRequirement already satisfied: requests in /usr/local/lib/python3.6/dist-packages (from transformers) (2.23.0)\n",
            "Requirement already satisfied: dataclasses; python_version < \"3.7\" in /usr/local/lib/python3.6/dist-packages (from transformers) (0.8)\n",
            "Collecting sacremoses\n",
            "\u001b[?25l  Downloading https://files.pythonhosted.org/packages/7d/34/09d19aff26edcc8eb2a01bed8e98f13a1537005d31e95233fd48216eed10/sacremoses-0.0.43.tar.gz (883kB)\n",
            "\u001b[K     |████████████████████████████████| 890kB 45.0MB/s \n",
            "\u001b[?25hRequirement already satisfied: filelock in /usr/local/lib/python3.6/dist-packages (from transformers) (3.0.12)\n",
            "Requirement already satisfied: tqdm>=4.27 in /usr/local/lib/python3.6/dist-packages (from transformers) (4.41.1)\n",
            "Requirement already satisfied: packaging in /usr/local/lib/python3.6/dist-packages (from transformers) (20.8)\n",
            "Requirement already satisfied: numpy in /usr/local/lib/python3.6/dist-packages (from transformers) (1.19.4)\n",
            "Requirement already satisfied: chardet<4,>=3.0.2 in /usr/local/lib/python3.6/dist-packages (from requests->transformers) (3.0.4)\n",
            "Requirement already satisfied: certifi>=2017.4.17 in /usr/local/lib/python3.6/dist-packages (from requests->transformers) (2020.12.5)\n",
            "Requirement already satisfied: idna<3,>=2.5 in /usr/local/lib/python3.6/dist-packages (from requests->transformers) (2.10)\n",
            "Requirement already satisfied: urllib3!=1.25.0,!=1.25.1,<1.26,>=1.21.1 in /usr/local/lib/python3.6/dist-packages (from requests->transformers) (1.24.3)\n",
            "Requirement already satisfied: six in /usr/local/lib/python3.6/dist-packages (from sacremoses->transformers) (1.15.0)\n",
            "Requirement already satisfied: click in /usr/local/lib/python3.6/dist-packages (from sacremoses->transformers) (7.1.2)\n",
            "Requirement already satisfied: joblib in /usr/local/lib/python3.6/dist-packages (from sacremoses->transformers) (1.0.0)\n",
            "Requirement already satisfied: pyparsing>=2.0.2 in /usr/local/lib/python3.6/dist-packages (from packaging->transformers) (2.4.7)\n",
            "Building wheels for collected packages: sacremoses\n",
            "  Building wheel for sacremoses (setup.py) ... \u001b[?25l\u001b[?25hdone\n",
            "  Created wheel for sacremoses: filename=sacremoses-0.0.43-cp36-none-any.whl size=893261 sha256=f18438b42781f5a2eb4c95c543833374bdb016132dbc796bacc3200b9b933c99\n",
            "  Stored in directory: /root/.cache/pip/wheels/29/3c/fd/7ce5c3f0666dab31a50123635e6fb5e19ceb42ce38d4e58f45\n",
            "Successfully built sacremoses\n",
            "Installing collected packages: tokenizers, sacremoses, transformers\n",
            "Successfully installed sacremoses-0.0.43 tokenizers-0.9.4 transformers-4.1.1\n",
            "Collecting datasets\n",
            "\u001b[?25l  Downloading https://files.pythonhosted.org/packages/ee/78/5873ac1e27bf25a2cbf3447d6704edd3136b1b3ff0eb3bfab38a45d2a1ff/datasets-1.2.0-py3-none-any.whl (159kB)\n",
            "\u001b[K     |████████████████████████████████| 163kB 22.7MB/s \n",
            "\u001b[?25hRequirement already satisfied: dataclasses; python_version < \"3.7\" in /usr/local/lib/python3.6/dist-packages (from datasets) (0.8)\n",
            "Requirement already satisfied: numpy>=1.17 in /usr/local/lib/python3.6/dist-packages (from datasets) (1.19.4)\n",
            "Requirement already satisfied: tqdm<4.50.0,>=4.27 in /usr/local/lib/python3.6/dist-packages (from datasets) (4.41.1)\n",
            "Collecting pyarrow>=0.17.1\n",
            "\u001b[?25l  Downloading https://files.pythonhosted.org/packages/d7/e1/27958a70848f8f7089bff8d6ebe42519daf01f976d28b481e1bfd52c8097/pyarrow-2.0.0-cp36-cp36m-manylinux2014_x86_64.whl (17.7MB)\n",
            "\u001b[K     |████████████████████████████████| 17.7MB 217kB/s \n",
            "\u001b[?25hRequirement already satisfied: multiprocess in /usr/local/lib/python3.6/dist-packages (from datasets) (0.70.11.1)\n",
            "Requirement already satisfied: dill in /usr/local/lib/python3.6/dist-packages (from datasets) (0.3.3)\n",
            "Requirement already satisfied: requests>=2.19.0 in /usr/local/lib/python3.6/dist-packages (from datasets) (2.23.0)\n",
            "Requirement already satisfied: pandas in /usr/local/lib/python3.6/dist-packages (from datasets) (1.1.5)\n",
            "Collecting xxhash\n",
            "\u001b[?25l  Downloading https://files.pythonhosted.org/packages/f7/73/826b19f3594756cb1c6c23d2fbd8ca6a77a9cd3b650c9dec5acc85004c38/xxhash-2.0.0-cp36-cp36m-manylinux2010_x86_64.whl (242kB)\n",
            "\u001b[K     |████████████████████████████████| 245kB 57.0MB/s \n",
            "\u001b[?25hRequirement already satisfied: chardet<4,>=3.0.2 in /usr/local/lib/python3.6/dist-packages (from requests>=2.19.0->datasets) (3.0.4)\n",
            "Requirement already satisfied: idna<3,>=2.5 in /usr/local/lib/python3.6/dist-packages (from requests>=2.19.0->datasets) (2.10)\n",
            "Requirement already satisfied: certifi>=2017.4.17 in /usr/local/lib/python3.6/dist-packages (from requests>=2.19.0->datasets) (2020.12.5)\n",
            "Requirement already satisfied: urllib3!=1.25.0,!=1.25.1,<1.26,>=1.21.1 in /usr/local/lib/python3.6/dist-packages (from requests>=2.19.0->datasets) (1.24.3)\n",
            "Requirement already satisfied: python-dateutil>=2.7.3 in /usr/local/lib/python3.6/dist-packages (from pandas->datasets) (2.8.1)\n",
            "Requirement already satisfied: pytz>=2017.2 in /usr/local/lib/python3.6/dist-packages (from pandas->datasets) (2018.9)\n",
            "Requirement already satisfied: six>=1.5 in /usr/local/lib/python3.6/dist-packages (from python-dateutil>=2.7.3->pandas->datasets) (1.15.0)\n",
            "Installing collected packages: pyarrow, xxhash, datasets\n",
            "  Found existing installation: pyarrow 0.14.1\n",
            "    Uninstalling pyarrow-0.14.1:\n",
            "      Successfully uninstalled pyarrow-0.14.1\n",
            "Successfully installed datasets-1.2.0 pyarrow-2.0.0 xxhash-2.0.0\n"
          ],
          "name": "stdout"
        }
      ]
    },
    {
      "cell_type": "code",
      "metadata": {
        "id": "udzN8u83LSrW"
      },
      "source": [
        "!cp drive/MyDrive/toxic_span_identification/pre_training/civil_comments_text_corpus_reduced.txt civil_comments_text_corpus_reduced.txt "
      ],
      "execution_count": null,
      "outputs": []
    },
    {
      "cell_type": "code",
      "metadata": {
        "id": "1sxEEGxd4ox8"
      },
      "source": [
        "from transformers import RobertaTokenizerFast\r\n",
        "\r\n",
        "tokenizer = RobertaTokenizerFast.from_pretrained(\"roberta-base\")"
      ],
      "execution_count": null,
      "outputs": []
    },
    {
      "cell_type": "code",
      "metadata": {
        "id": "LsZuiD6I4uE3",
        "colab": {
          "base_uri": "https://localhost:8080/"
        },
        "outputId": "86b9bf73-faf1-471d-fcd3-fc0053b4f0b0"
      },
      "source": [
        "from transformers import RobertaForMaskedLM\r\n",
        "\r\n",
        "model = RobertaForMaskedLM.from_pretrained(\"./drive/MyDrive/toxic_span_identification/pre_training_roberta_base_checkpoints/checkpoint-260000\")\r\n",
        "model.config\r\n",
        "model.num_parameters()"
      ],
      "execution_count": null,
      "outputs": [
        {
          "output_type": "execute_result",
          "data": {
            "text/plain": [
              "124697433"
            ]
          },
          "metadata": {
            "tags": []
          },
          "execution_count": 4
        }
      ]
    },
    {
      "cell_type": "code",
      "metadata": {
        "id": "E63wjM3K1oRm"
      },
      "source": [
        "from datasets import load_dataset"
      ],
      "execution_count": null,
      "outputs": []
    },
    {
      "cell_type": "code",
      "metadata": {
        "colab": {
          "base_uri": "https://localhost:8080/",
          "height": 156,
          "referenced_widgets": [
            "53d2a824aaf146e8a681a3177af71814",
            "b952e25855c94c63b97ab4b21375ca48",
            "4453b7eec62246f1bd95c5d08864a0eb",
            "35454c17640a4f61bd11f3e2be921b43",
            "b3e0bb302c5941159f19e3ec9ab021cb",
            "0e2090673da340028104a126e8fc9b26",
            "904e4b00eea0400c94d60c526d24370c",
            "8a7e25be790a4666879301c9dbec6968"
          ]
        },
        "id": "qJQZqcZY2hsW",
        "outputId": "3c7c8690-b99f-48d1-c791-892f2919ad10"
      },
      "source": [
        "dataset = load_dataset(\"text\", data_files = \"civil_comments_text_corpus_reduced.txt\")\r\n",
        "dataset['train']"
      ],
      "execution_count": null,
      "outputs": [
        {
          "output_type": "stream",
          "text": [
            "Using custom data configuration default\n"
          ],
          "name": "stderr"
        },
        {
          "output_type": "stream",
          "text": [
            "Downloading and preparing dataset text/default-dddb0beab75bf66d (download: Unknown size, generated: Unknown size, post-processed: Unknown size, total: Unknown size) to /root/.cache/huggingface/datasets/text/default-dddb0beab75bf66d/0.0.0/daf90a707a433ac193b369c8cc1772139bb6cca21a9c7fe83bdd16aad9b9b6ab...\n"
          ],
          "name": "stdout"
        },
        {
          "output_type": "display_data",
          "data": {
            "application/vnd.jupyter.widget-view+json": {
              "model_id": "53d2a824aaf146e8a681a3177af71814",
              "version_minor": 0,
              "version_major": 2
            },
            "text/plain": [
              "HBox(children=(FloatProgress(value=1.0, bar_style='info', max=1.0), HTML(value='')))"
            ]
          },
          "metadata": {
            "tags": []
          }
        },
        {
          "output_type": "stream",
          "text": [
            "\rDataset text downloaded and prepared to /root/.cache/huggingface/datasets/text/default-dddb0beab75bf66d/0.0.0/daf90a707a433ac193b369c8cc1772139bb6cca21a9c7fe83bdd16aad9b9b6ab. Subsequent calls will reuse this data.\n"
          ],
          "name": "stdout"
        },
        {
          "output_type": "execute_result",
          "data": {
            "text/plain": [
              "Dataset({\n",
              "    features: ['text'],\n",
              "    num_rows: 3200022\n",
              "})"
            ]
          },
          "metadata": {
            "tags": []
          },
          "execution_count": 6
        }
      ]
    },
    {
      "cell_type": "code",
      "metadata": {
        "id": "vHlGqjPl1KY0",
        "colab": {
          "base_uri": "https://localhost:8080/",
          "height": 66,
          "referenced_widgets": [
            "262548ef779f46f297fe471c1c03cf2f",
            "ccc3603f204542a3905ad3792e9416ea",
            "ece144f888454649912e9f6bed0ee675",
            "0aa1fa59a853414f8524af5ec16c12d5",
            "2df221ad90f045e7a4d2cb526a57c140",
            "8abe87079f1c46e684bb205380f3539f",
            "0a68b3577bd6439aae9400bc585be843",
            "dd1bf67b52c54f24a8640b9ff6fb8320"
          ]
        },
        "outputId": "47575dbb-4d76-45de-acb3-d8b97028602d"
      },
      "source": [
        "def encode(sample):\r\n",
        "  return tokenizer(sample['text'], add_special_tokens=True, truncation=True, max_length=128)\r\n",
        "dataset = dataset.map(encode, batched=True, batch_size = 512)\r\n",
        "dataset.set_format(type='torch', columns=['input_ids','attention_mask'])"
      ],
      "execution_count": null,
      "outputs": [
        {
          "output_type": "display_data",
          "data": {
            "application/vnd.jupyter.widget-view+json": {
              "model_id": "262548ef779f46f297fe471c1c03cf2f",
              "version_minor": 0,
              "version_major": 2
            },
            "text/plain": [
              "HBox(children=(FloatProgress(value=0.0, max=6251.0), HTML(value='')))"
            ]
          },
          "metadata": {
            "tags": []
          }
        },
        {
          "output_type": "stream",
          "text": [
            "\n"
          ],
          "name": "stdout"
        }
      ]
    },
    {
      "cell_type": "code",
      "metadata": {
        "id": "SAWQGG_05EtQ"
      },
      "source": [
        "from transformers import DataCollatorForLanguageModeling\r\n",
        "\r\n",
        "data_collator = DataCollatorForLanguageModeling(\r\n",
        "    tokenizer=tokenizer, mlm=True, mlm_probability=0.15\r\n",
        ")"
      ],
      "execution_count": null,
      "outputs": []
    },
    {
      "cell_type": "code",
      "metadata": {
        "id": "-Z9Vp0X25HT2"
      },
      "source": [
        "from transformers import Trainer, TrainingArguments\r\n",
        "\r\n",
        "training_args = TrainingArguments(\r\n",
        "    output_dir = \"./drive/MyDrive/toxic_span_identification/pre_training_roberta_base_checkpoints\",\r\n",
        "    overwrite_output_dir = True,\r\n",
        "    num_train_epochs = 3,\r\n",
        "    per_gpu_train_batch_size = 32,\r\n",
        "    save_steps = 10_000,\r\n",
        "    learning_rate = 2e-5,\r\n",
        "    prediction_loss_only=True,\r\n",
        ")\r\n",
        "\r\n",
        "trainer = Trainer(\r\n",
        "    model=model,\r\n",
        "    args=training_args,\r\n",
        "    data_collator=data_collator,\r\n",
        "    train_dataset=dataset['train'],\r\n",
        ")"
      ],
      "execution_count": null,
      "outputs": []
    },
    {
      "cell_type": "code",
      "metadata": {
        "id": "au0fBxP4kdnz"
      },
      "source": [
        "# trainer.train()"
      ],
      "execution_count": null,
      "outputs": []
    },
    {
      "cell_type": "code",
      "metadata": {
        "colab": {
          "base_uri": "https://localhost:8080/",
          "height": 1000
        },
        "id": "vdjzfcJtwQr7",
        "outputId": "eabb2722-c6d3-4448-b9be-6e962f200e2e"
      },
      "source": [
        "%%time\r\n",
        "trainer.train(\"./drive/MyDrive/toxic_span_identification/pre_training_roberta_base_checkpoints/checkpoint-260000\")"
      ],
      "execution_count": null,
      "outputs": [
        {
          "output_type": "stream",
          "text": [
            "Using deprecated `--per_gpu_train_batch_size` argument which will be removed in a future version. Using `--per_device_train_batch_size` is preferred.\n",
            "Using deprecated `--per_gpu_train_batch_size` argument which will be removed in a future version. Using `--per_device_train_batch_size` is preferred.\n",
            "Using deprecated `--per_gpu_train_batch_size` argument which will be removed in a future version. Using `--per_device_train_batch_size` is preferred.\n",
            "/usr/local/lib/python3.6/dist-packages/datasets/arrow_dataset.py:850: UserWarning: The given NumPy array is not writeable, and PyTorch does not support non-writeable tensors. This means you can write to the underlying (supposedly non-writeable) NumPy array using the tensor. You may want to copy the array to protect its data or make it writeable before converting it to a tensor. This type of warning will be suppressed for the rest of this program. (Triggered internally at  /pytorch/torch/csrc/utils/tensor_numpy.cpp:141.)\n",
            "  return torch.tensor(x, **format_kwargs)\n"
          ],
          "name": "stderr"
        },
        {
          "output_type": "display_data",
          "data": {
            "text/html": [
              "\n",
              "    <div>\n",
              "        <style>\n",
              "            /* Turns off some styling */\n",
              "            progress {\n",
              "                /* gets rid of default border in Firefox and Opera. */\n",
              "                border: none;\n",
              "                /* Needs to be in here for Safari polyfill so background images work as expected. */\n",
              "                background-size: auto;\n",
              "            }\n",
              "        </style>\n",
              "      \n",
              "      <progress value='278179' max='300003' style='width:300px; height:20px; vertical-align: middle;'></progress>\n",
              "      [278179/300003 2:42:13 < 3:14:46, 1.87 it/s, Epoch 2.78/3]\n",
              "    </div>\n",
              "    <table border=\"1\" class=\"dataframe\">\n",
              "  <thead>\n",
              "    <tr style=\"text-align: left;\">\n",
              "      <th>Step</th>\n",
              "      <th>Training Loss</th>\n",
              "    </tr>\n",
              "  </thead>\n",
              "  <tbody>\n",
              "    <tr>\n",
              "      <td>260500</td>\n",
              "      <td>0.003810</td>\n",
              "    </tr>\n",
              "    <tr>\n",
              "      <td>261000</td>\n",
              "      <td>1.987712</td>\n",
              "    </tr>\n",
              "    <tr>\n",
              "      <td>261500</td>\n",
              "      <td>1.980686</td>\n",
              "    </tr>\n",
              "    <tr>\n",
              "      <td>262000</td>\n",
              "      <td>1.986991</td>\n",
              "    </tr>\n",
              "    <tr>\n",
              "      <td>262500</td>\n",
              "      <td>1.992656</td>\n",
              "    </tr>\n",
              "    <tr>\n",
              "      <td>263000</td>\n",
              "      <td>2.010785</td>\n",
              "    </tr>\n",
              "    <tr>\n",
              "      <td>263500</td>\n",
              "      <td>1.996902</td>\n",
              "    </tr>\n",
              "    <tr>\n",
              "      <td>264000</td>\n",
              "      <td>1.977644</td>\n",
              "    </tr>\n",
              "    <tr>\n",
              "      <td>264500</td>\n",
              "      <td>1.984752</td>\n",
              "    </tr>\n",
              "    <tr>\n",
              "      <td>265000</td>\n",
              "      <td>1.999360</td>\n",
              "    </tr>\n",
              "    <tr>\n",
              "      <td>265500</td>\n",
              "      <td>2.000940</td>\n",
              "    </tr>\n",
              "    <tr>\n",
              "      <td>266000</td>\n",
              "      <td>1.977073</td>\n",
              "    </tr>\n",
              "    <tr>\n",
              "      <td>266500</td>\n",
              "      <td>1.984386</td>\n",
              "    </tr>\n",
              "    <tr>\n",
              "      <td>267000</td>\n",
              "      <td>2.007389</td>\n",
              "    </tr>\n",
              "    <tr>\n",
              "      <td>267500</td>\n",
              "      <td>1.995982</td>\n",
              "    </tr>\n",
              "    <tr>\n",
              "      <td>268000</td>\n",
              "      <td>2.011424</td>\n",
              "    </tr>\n",
              "    <tr>\n",
              "      <td>268500</td>\n",
              "      <td>1.984993</td>\n",
              "    </tr>\n",
              "    <tr>\n",
              "      <td>269000</td>\n",
              "      <td>1.973625</td>\n",
              "    </tr>\n",
              "    <tr>\n",
              "      <td>269500</td>\n",
              "      <td>1.995639</td>\n",
              "    </tr>\n",
              "    <tr>\n",
              "      <td>270000</td>\n",
              "      <td>1.995261</td>\n",
              "    </tr>\n",
              "    <tr>\n",
              "      <td>270500</td>\n",
              "      <td>1.970329</td>\n",
              "    </tr>\n",
              "    <tr>\n",
              "      <td>271000</td>\n",
              "      <td>1.981196</td>\n",
              "    </tr>\n",
              "    <tr>\n",
              "      <td>271500</td>\n",
              "      <td>1.983226</td>\n",
              "    </tr>\n",
              "    <tr>\n",
              "      <td>272000</td>\n",
              "      <td>1.987015</td>\n",
              "    </tr>\n",
              "    <tr>\n",
              "      <td>272500</td>\n",
              "      <td>1.989589</td>\n",
              "    </tr>\n",
              "    <tr>\n",
              "      <td>273000</td>\n",
              "      <td>1.983171</td>\n",
              "    </tr>\n",
              "    <tr>\n",
              "      <td>273500</td>\n",
              "      <td>2.007521</td>\n",
              "    </tr>\n",
              "    <tr>\n",
              "      <td>274000</td>\n",
              "      <td>2.021414</td>\n",
              "    </tr>\n",
              "    <tr>\n",
              "      <td>274500</td>\n",
              "      <td>2.022842</td>\n",
              "    </tr>\n",
              "    <tr>\n",
              "      <td>275000</td>\n",
              "      <td>1.980485</td>\n",
              "    </tr>\n",
              "    <tr>\n",
              "      <td>275500</td>\n",
              "      <td>1.969587</td>\n",
              "    </tr>\n",
              "    <tr>\n",
              "      <td>276000</td>\n",
              "      <td>1.982405</td>\n",
              "    </tr>\n",
              "    <tr>\n",
              "      <td>276500</td>\n",
              "      <td>1.965063</td>\n",
              "    </tr>\n",
              "    <tr>\n",
              "      <td>277000</td>\n",
              "      <td>1.975601</td>\n",
              "    </tr>\n",
              "    <tr>\n",
              "      <td>277500</td>\n",
              "      <td>1.985671</td>\n",
              "    </tr>\n",
              "    <tr>\n",
              "      <td>278000</td>\n",
              "      <td>1.979916</td>\n",
              "    </tr>\n",
              "  </tbody>\n",
              "</table><p>"
            ],
            "text/plain": [
              "<IPython.core.display.HTML object>"
            ]
          },
          "metadata": {
            "tags": []
          }
        },
        {
          "output_type": "stream",
          "text": [
            "Buffered data was truncated after reaching the output size limit."
          ],
          "name": "stdout"
        }
      ]
    }
  ]
}