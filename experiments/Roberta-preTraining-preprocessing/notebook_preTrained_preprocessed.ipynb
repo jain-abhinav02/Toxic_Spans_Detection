{
  "nbformat": 4,
  "nbformat_minor": 0,
  "metadata": {
    "colab": {
      "name": "Toxic_span_paper_type4_trial_2.ipynb",
      "provenance": [],
      "collapsed_sections": []
    },
    "kernelspec": {
      "display_name": "Python 3",
      "name": "python3"
    },
    "widgets": {
      "application/vnd.jupyter.widget-state+json": {
        "d659eacb467046a6b65e8283a6f528c7": {
          "model_module": "@jupyter-widgets/controls",
          "model_name": "HBoxModel",
          "state": {
            "_view_name": "HBoxView",
            "_dom_classes": [],
            "_model_name": "HBoxModel",
            "_view_module": "@jupyter-widgets/controls",
            "_model_module_version": "1.5.0",
            "_view_count": null,
            "_view_module_version": "1.5.0",
            "box_style": "",
            "layout": "IPY_MODEL_471867c6b0a94cd2beee606b2d782220",
            "_model_module": "@jupyter-widgets/controls",
            "children": [
              "IPY_MODEL_09b67bfe4e2742a982e95d16ef040b92",
              "IPY_MODEL_f5af70e097ba43fa8b09cc5137e7c817"
            ]
          }
        },
        "471867c6b0a94cd2beee606b2d782220": {
          "model_module": "@jupyter-widgets/base",
          "model_name": "LayoutModel",
          "state": {
            "_view_name": "LayoutView",
            "grid_template_rows": null,
            "right": null,
            "justify_content": null,
            "_view_module": "@jupyter-widgets/base",
            "overflow": null,
            "_model_module_version": "1.2.0",
            "_view_count": null,
            "flex_flow": null,
            "width": null,
            "min_width": null,
            "border": null,
            "align_items": null,
            "bottom": null,
            "_model_module": "@jupyter-widgets/base",
            "top": null,
            "grid_column": null,
            "overflow_y": null,
            "overflow_x": null,
            "grid_auto_flow": null,
            "grid_area": null,
            "grid_template_columns": null,
            "flex": null,
            "_model_name": "LayoutModel",
            "justify_items": null,
            "grid_row": null,
            "max_height": null,
            "align_content": null,
            "visibility": null,
            "align_self": null,
            "height": null,
            "min_height": null,
            "padding": null,
            "grid_auto_rows": null,
            "grid_gap": null,
            "max_width": null,
            "order": null,
            "_view_module_version": "1.2.0",
            "grid_template_areas": null,
            "object_position": null,
            "object_fit": null,
            "grid_auto_columns": null,
            "margin": null,
            "display": null,
            "left": null
          }
        },
        "09b67bfe4e2742a982e95d16ef040b92": {
          "model_module": "@jupyter-widgets/controls",
          "model_name": "FloatProgressModel",
          "state": {
            "_view_name": "ProgressView",
            "style": "IPY_MODEL_a3ccd0641abf4440a91d8fb15667fa65",
            "_dom_classes": [],
            "description": "Downloading: 100%",
            "_model_name": "FloatProgressModel",
            "bar_style": "success",
            "max": 898823,
            "_view_module": "@jupyter-widgets/controls",
            "_model_module_version": "1.5.0",
            "value": 898823,
            "_view_count": null,
            "_view_module_version": "1.5.0",
            "orientation": "horizontal",
            "min": 0,
            "description_tooltip": null,
            "_model_module": "@jupyter-widgets/controls",
            "layout": "IPY_MODEL_4c5638ddb49348848e58f9f72c61e495"
          }
        },
        "f5af70e097ba43fa8b09cc5137e7c817": {
          "model_module": "@jupyter-widgets/controls",
          "model_name": "HTMLModel",
          "state": {
            "_view_name": "HTMLView",
            "style": "IPY_MODEL_c1839618bf224cf18317388545248d6f",
            "_dom_classes": [],
            "description": "",
            "_model_name": "HTMLModel",
            "placeholder": "​",
            "_view_module": "@jupyter-widgets/controls",
            "_model_module_version": "1.5.0",
            "value": " 899k/899k [00:03&lt;00:00, 293kB/s]",
            "_view_count": null,
            "_view_module_version": "1.5.0",
            "description_tooltip": null,
            "_model_module": "@jupyter-widgets/controls",
            "layout": "IPY_MODEL_1c1e7e7ea5074058aea4bfbcaf9a20c0"
          }
        },
        "a3ccd0641abf4440a91d8fb15667fa65": {
          "model_module": "@jupyter-widgets/controls",
          "model_name": "ProgressStyleModel",
          "state": {
            "_view_name": "StyleView",
            "_model_name": "ProgressStyleModel",
            "description_width": "initial",
            "_view_module": "@jupyter-widgets/base",
            "_model_module_version": "1.5.0",
            "_view_count": null,
            "_view_module_version": "1.2.0",
            "bar_color": null,
            "_model_module": "@jupyter-widgets/controls"
          }
        },
        "4c5638ddb49348848e58f9f72c61e495": {
          "model_module": "@jupyter-widgets/base",
          "model_name": "LayoutModel",
          "state": {
            "_view_name": "LayoutView",
            "grid_template_rows": null,
            "right": null,
            "justify_content": null,
            "_view_module": "@jupyter-widgets/base",
            "overflow": null,
            "_model_module_version": "1.2.0",
            "_view_count": null,
            "flex_flow": null,
            "width": null,
            "min_width": null,
            "border": null,
            "align_items": null,
            "bottom": null,
            "_model_module": "@jupyter-widgets/base",
            "top": null,
            "grid_column": null,
            "overflow_y": null,
            "overflow_x": null,
            "grid_auto_flow": null,
            "grid_area": null,
            "grid_template_columns": null,
            "flex": null,
            "_model_name": "LayoutModel",
            "justify_items": null,
            "grid_row": null,
            "max_height": null,
            "align_content": null,
            "visibility": null,
            "align_self": null,
            "height": null,
            "min_height": null,
            "padding": null,
            "grid_auto_rows": null,
            "grid_gap": null,
            "max_width": null,
            "order": null,
            "_view_module_version": "1.2.0",
            "grid_template_areas": null,
            "object_position": null,
            "object_fit": null,
            "grid_auto_columns": null,
            "margin": null,
            "display": null,
            "left": null
          }
        },
        "c1839618bf224cf18317388545248d6f": {
          "model_module": "@jupyter-widgets/controls",
          "model_name": "DescriptionStyleModel",
          "state": {
            "_view_name": "StyleView",
            "_model_name": "DescriptionStyleModel",
            "description_width": "",
            "_view_module": "@jupyter-widgets/base",
            "_model_module_version": "1.5.0",
            "_view_count": null,
            "_view_module_version": "1.2.0",
            "_model_module": "@jupyter-widgets/controls"
          }
        },
        "1c1e7e7ea5074058aea4bfbcaf9a20c0": {
          "model_module": "@jupyter-widgets/base",
          "model_name": "LayoutModel",
          "state": {
            "_view_name": "LayoutView",
            "grid_template_rows": null,
            "right": null,
            "justify_content": null,
            "_view_module": "@jupyter-widgets/base",
            "overflow": null,
            "_model_module_version": "1.2.0",
            "_view_count": null,
            "flex_flow": null,
            "width": null,
            "min_width": null,
            "border": null,
            "align_items": null,
            "bottom": null,
            "_model_module": "@jupyter-widgets/base",
            "top": null,
            "grid_column": null,
            "overflow_y": null,
            "overflow_x": null,
            "grid_auto_flow": null,
            "grid_area": null,
            "grid_template_columns": null,
            "flex": null,
            "_model_name": "LayoutModel",
            "justify_items": null,
            "grid_row": null,
            "max_height": null,
            "align_content": null,
            "visibility": null,
            "align_self": null,
            "height": null,
            "min_height": null,
            "padding": null,
            "grid_auto_rows": null,
            "grid_gap": null,
            "max_width": null,
            "order": null,
            "_view_module_version": "1.2.0",
            "grid_template_areas": null,
            "object_position": null,
            "object_fit": null,
            "grid_auto_columns": null,
            "margin": null,
            "display": null,
            "left": null
          }
        },
        "e85eaf68dd6a4936bce0aaa7fd4dcac8": {
          "model_module": "@jupyter-widgets/controls",
          "model_name": "HBoxModel",
          "state": {
            "_view_name": "HBoxView",
            "_dom_classes": [],
            "_model_name": "HBoxModel",
            "_view_module": "@jupyter-widgets/controls",
            "_model_module_version": "1.5.0",
            "_view_count": null,
            "_view_module_version": "1.5.0",
            "box_style": "",
            "layout": "IPY_MODEL_9aa404b03f0e48698be654d09a9e68ad",
            "_model_module": "@jupyter-widgets/controls",
            "children": [
              "IPY_MODEL_55858a016b014632ae3ce7bb834c7c86",
              "IPY_MODEL_ce8df8feba934f5082e4be9ce56b0f4a"
            ]
          }
        },
        "9aa404b03f0e48698be654d09a9e68ad": {
          "model_module": "@jupyter-widgets/base",
          "model_name": "LayoutModel",
          "state": {
            "_view_name": "LayoutView",
            "grid_template_rows": null,
            "right": null,
            "justify_content": null,
            "_view_module": "@jupyter-widgets/base",
            "overflow": null,
            "_model_module_version": "1.2.0",
            "_view_count": null,
            "flex_flow": null,
            "width": null,
            "min_width": null,
            "border": null,
            "align_items": null,
            "bottom": null,
            "_model_module": "@jupyter-widgets/base",
            "top": null,
            "grid_column": null,
            "overflow_y": null,
            "overflow_x": null,
            "grid_auto_flow": null,
            "grid_area": null,
            "grid_template_columns": null,
            "flex": null,
            "_model_name": "LayoutModel",
            "justify_items": null,
            "grid_row": null,
            "max_height": null,
            "align_content": null,
            "visibility": null,
            "align_self": null,
            "height": null,
            "min_height": null,
            "padding": null,
            "grid_auto_rows": null,
            "grid_gap": null,
            "max_width": null,
            "order": null,
            "_view_module_version": "1.2.0",
            "grid_template_areas": null,
            "object_position": null,
            "object_fit": null,
            "grid_auto_columns": null,
            "margin": null,
            "display": null,
            "left": null
          }
        },
        "55858a016b014632ae3ce7bb834c7c86": {
          "model_module": "@jupyter-widgets/controls",
          "model_name": "FloatProgressModel",
          "state": {
            "_view_name": "ProgressView",
            "style": "IPY_MODEL_de074b097c1844c1beca766beb11ba48",
            "_dom_classes": [],
            "description": "Downloading: 100%",
            "_model_name": "FloatProgressModel",
            "bar_style": "success",
            "max": 456318,
            "_view_module": "@jupyter-widgets/controls",
            "_model_module_version": "1.5.0",
            "value": 456318,
            "_view_count": null,
            "_view_module_version": "1.5.0",
            "orientation": "horizontal",
            "min": 0,
            "description_tooltip": null,
            "_model_module": "@jupyter-widgets/controls",
            "layout": "IPY_MODEL_4c2c253fdcd64e64be97baadf674eedc"
          }
        },
        "ce8df8feba934f5082e4be9ce56b0f4a": {
          "model_module": "@jupyter-widgets/controls",
          "model_name": "HTMLModel",
          "state": {
            "_view_name": "HTMLView",
            "style": "IPY_MODEL_9459cbea1b7c4dd19d5b660a7939e7aa",
            "_dom_classes": [],
            "description": "",
            "_model_name": "HTMLModel",
            "placeholder": "​",
            "_view_module": "@jupyter-widgets/controls",
            "_model_module_version": "1.5.0",
            "value": " 456k/456k [00:00&lt;00:00, 582kB/s]",
            "_view_count": null,
            "_view_module_version": "1.5.0",
            "description_tooltip": null,
            "_model_module": "@jupyter-widgets/controls",
            "layout": "IPY_MODEL_b6cfc2b08f9848478a610cd0445284d9"
          }
        },
        "de074b097c1844c1beca766beb11ba48": {
          "model_module": "@jupyter-widgets/controls",
          "model_name": "ProgressStyleModel",
          "state": {
            "_view_name": "StyleView",
            "_model_name": "ProgressStyleModel",
            "description_width": "initial",
            "_view_module": "@jupyter-widgets/base",
            "_model_module_version": "1.5.0",
            "_view_count": null,
            "_view_module_version": "1.2.0",
            "bar_color": null,
            "_model_module": "@jupyter-widgets/controls"
          }
        },
        "4c2c253fdcd64e64be97baadf674eedc": {
          "model_module": "@jupyter-widgets/base",
          "model_name": "LayoutModel",
          "state": {
            "_view_name": "LayoutView",
            "grid_template_rows": null,
            "right": null,
            "justify_content": null,
            "_view_module": "@jupyter-widgets/base",
            "overflow": null,
            "_model_module_version": "1.2.0",
            "_view_count": null,
            "flex_flow": null,
            "width": null,
            "min_width": null,
            "border": null,
            "align_items": null,
            "bottom": null,
            "_model_module": "@jupyter-widgets/base",
            "top": null,
            "grid_column": null,
            "overflow_y": null,
            "overflow_x": null,
            "grid_auto_flow": null,
            "grid_area": null,
            "grid_template_columns": null,
            "flex": null,
            "_model_name": "LayoutModel",
            "justify_items": null,
            "grid_row": null,
            "max_height": null,
            "align_content": null,
            "visibility": null,
            "align_self": null,
            "height": null,
            "min_height": null,
            "padding": null,
            "grid_auto_rows": null,
            "grid_gap": null,
            "max_width": null,
            "order": null,
            "_view_module_version": "1.2.0",
            "grid_template_areas": null,
            "object_position": null,
            "object_fit": null,
            "grid_auto_columns": null,
            "margin": null,
            "display": null,
            "left": null
          }
        },
        "9459cbea1b7c4dd19d5b660a7939e7aa": {
          "model_module": "@jupyter-widgets/controls",
          "model_name": "DescriptionStyleModel",
          "state": {
            "_view_name": "StyleView",
            "_model_name": "DescriptionStyleModel",
            "description_width": "",
            "_view_module": "@jupyter-widgets/base",
            "_model_module_version": "1.5.0",
            "_view_count": null,
            "_view_module_version": "1.2.0",
            "_model_module": "@jupyter-widgets/controls"
          }
        },
        "b6cfc2b08f9848478a610cd0445284d9": {
          "model_module": "@jupyter-widgets/base",
          "model_name": "LayoutModel",
          "state": {
            "_view_name": "LayoutView",
            "grid_template_rows": null,
            "right": null,
            "justify_content": null,
            "_view_module": "@jupyter-widgets/base",
            "overflow": null,
            "_model_module_version": "1.2.0",
            "_view_count": null,
            "flex_flow": null,
            "width": null,
            "min_width": null,
            "border": null,
            "align_items": null,
            "bottom": null,
            "_model_module": "@jupyter-widgets/base",
            "top": null,
            "grid_column": null,
            "overflow_y": null,
            "overflow_x": null,
            "grid_auto_flow": null,
            "grid_area": null,
            "grid_template_columns": null,
            "flex": null,
            "_model_name": "LayoutModel",
            "justify_items": null,
            "grid_row": null,
            "max_height": null,
            "align_content": null,
            "visibility": null,
            "align_self": null,
            "height": null,
            "min_height": null,
            "padding": null,
            "grid_auto_rows": null,
            "grid_gap": null,
            "max_width": null,
            "order": null,
            "_view_module_version": "1.2.0",
            "grid_template_areas": null,
            "object_position": null,
            "object_fit": null,
            "grid_auto_columns": null,
            "margin": null,
            "display": null,
            "left": null
          }
        },
        "15a95e3adec7475ca3c0411e679bbc31": {
          "model_module": "@jupyter-widgets/controls",
          "model_name": "HBoxModel",
          "state": {
            "_view_name": "HBoxView",
            "_dom_classes": [],
            "_model_name": "HBoxModel",
            "_view_module": "@jupyter-widgets/controls",
            "_model_module_version": "1.5.0",
            "_view_count": null,
            "_view_module_version": "1.5.0",
            "box_style": "",
            "layout": "IPY_MODEL_ad31fe21206d44eabe6562f19509d2dc",
            "_model_module": "@jupyter-widgets/controls",
            "children": [
              "IPY_MODEL_e1eb7b58e8b74b9c978346288ba72b2c",
              "IPY_MODEL_3abdfa551c1443d19c129dab6a956e1c"
            ]
          }
        },
        "ad31fe21206d44eabe6562f19509d2dc": {
          "model_module": "@jupyter-widgets/base",
          "model_name": "LayoutModel",
          "state": {
            "_view_name": "LayoutView",
            "grid_template_rows": null,
            "right": null,
            "justify_content": null,
            "_view_module": "@jupyter-widgets/base",
            "overflow": null,
            "_model_module_version": "1.2.0",
            "_view_count": null,
            "flex_flow": null,
            "width": null,
            "min_width": null,
            "border": null,
            "align_items": null,
            "bottom": null,
            "_model_module": "@jupyter-widgets/base",
            "top": null,
            "grid_column": null,
            "overflow_y": null,
            "overflow_x": null,
            "grid_auto_flow": null,
            "grid_area": null,
            "grid_template_columns": null,
            "flex": null,
            "_model_name": "LayoutModel",
            "justify_items": null,
            "grid_row": null,
            "max_height": null,
            "align_content": null,
            "visibility": null,
            "align_self": null,
            "height": null,
            "min_height": null,
            "padding": null,
            "grid_auto_rows": null,
            "grid_gap": null,
            "max_width": null,
            "order": null,
            "_view_module_version": "1.2.0",
            "grid_template_areas": null,
            "object_position": null,
            "object_fit": null,
            "grid_auto_columns": null,
            "margin": null,
            "display": null,
            "left": null
          }
        },
        "e1eb7b58e8b74b9c978346288ba72b2c": {
          "model_module": "@jupyter-widgets/controls",
          "model_name": "FloatProgressModel",
          "state": {
            "_view_name": "ProgressView",
            "style": "IPY_MODEL_926b74e5e229470eafa7adf9ae849263",
            "_dom_classes": [],
            "description": "Downloading: 100%",
            "_model_name": "FloatProgressModel",
            "bar_style": "success",
            "max": 1355863,
            "_view_module": "@jupyter-widgets/controls",
            "_model_module_version": "1.5.0",
            "value": 1355863,
            "_view_count": null,
            "_view_module_version": "1.5.0",
            "orientation": "horizontal",
            "min": 0,
            "description_tooltip": null,
            "_model_module": "@jupyter-widgets/controls",
            "layout": "IPY_MODEL_761ac62e93644bd08a20160e3c8b31fb"
          }
        },
        "3abdfa551c1443d19c129dab6a956e1c": {
          "model_module": "@jupyter-widgets/controls",
          "model_name": "HTMLModel",
          "state": {
            "_view_name": "HTMLView",
            "style": "IPY_MODEL_426335d7841c43e89e9a60db0bfd9ba0",
            "_dom_classes": [],
            "description": "",
            "_model_name": "HTMLModel",
            "placeholder": "​",
            "_view_module": "@jupyter-widgets/controls",
            "_model_module_version": "1.5.0",
            "value": " 1.36M/1.36M [00:01&lt;00:00, 923kB/s]",
            "_view_count": null,
            "_view_module_version": "1.5.0",
            "description_tooltip": null,
            "_model_module": "@jupyter-widgets/controls",
            "layout": "IPY_MODEL_badc9238acc04183b3bfe4331a76b29d"
          }
        },
        "926b74e5e229470eafa7adf9ae849263": {
          "model_module": "@jupyter-widgets/controls",
          "model_name": "ProgressStyleModel",
          "state": {
            "_view_name": "StyleView",
            "_model_name": "ProgressStyleModel",
            "description_width": "initial",
            "_view_module": "@jupyter-widgets/base",
            "_model_module_version": "1.5.0",
            "_view_count": null,
            "_view_module_version": "1.2.0",
            "bar_color": null,
            "_model_module": "@jupyter-widgets/controls"
          }
        },
        "761ac62e93644bd08a20160e3c8b31fb": {
          "model_module": "@jupyter-widgets/base",
          "model_name": "LayoutModel",
          "state": {
            "_view_name": "LayoutView",
            "grid_template_rows": null,
            "right": null,
            "justify_content": null,
            "_view_module": "@jupyter-widgets/base",
            "overflow": null,
            "_model_module_version": "1.2.0",
            "_view_count": null,
            "flex_flow": null,
            "width": null,
            "min_width": null,
            "border": null,
            "align_items": null,
            "bottom": null,
            "_model_module": "@jupyter-widgets/base",
            "top": null,
            "grid_column": null,
            "overflow_y": null,
            "overflow_x": null,
            "grid_auto_flow": null,
            "grid_area": null,
            "grid_template_columns": null,
            "flex": null,
            "_model_name": "LayoutModel",
            "justify_items": null,
            "grid_row": null,
            "max_height": null,
            "align_content": null,
            "visibility": null,
            "align_self": null,
            "height": null,
            "min_height": null,
            "padding": null,
            "grid_auto_rows": null,
            "grid_gap": null,
            "max_width": null,
            "order": null,
            "_view_module_version": "1.2.0",
            "grid_template_areas": null,
            "object_position": null,
            "object_fit": null,
            "grid_auto_columns": null,
            "margin": null,
            "display": null,
            "left": null
          }
        },
        "426335d7841c43e89e9a60db0bfd9ba0": {
          "model_module": "@jupyter-widgets/controls",
          "model_name": "DescriptionStyleModel",
          "state": {
            "_view_name": "StyleView",
            "_model_name": "DescriptionStyleModel",
            "description_width": "",
            "_view_module": "@jupyter-widgets/base",
            "_model_module_version": "1.5.0",
            "_view_count": null,
            "_view_module_version": "1.2.0",
            "_model_module": "@jupyter-widgets/controls"
          }
        },
        "badc9238acc04183b3bfe4331a76b29d": {
          "model_module": "@jupyter-widgets/base",
          "model_name": "LayoutModel",
          "state": {
            "_view_name": "LayoutView",
            "grid_template_rows": null,
            "right": null,
            "justify_content": null,
            "_view_module": "@jupyter-widgets/base",
            "overflow": null,
            "_model_module_version": "1.2.0",
            "_view_count": null,
            "flex_flow": null,
            "width": null,
            "min_width": null,
            "border": null,
            "align_items": null,
            "bottom": null,
            "_model_module": "@jupyter-widgets/base",
            "top": null,
            "grid_column": null,
            "overflow_y": null,
            "overflow_x": null,
            "grid_auto_flow": null,
            "grid_area": null,
            "grid_template_columns": null,
            "flex": null,
            "_model_name": "LayoutModel",
            "justify_items": null,
            "grid_row": null,
            "max_height": null,
            "align_content": null,
            "visibility": null,
            "align_self": null,
            "height": null,
            "min_height": null,
            "padding": null,
            "grid_auto_rows": null,
            "grid_gap": null,
            "max_width": null,
            "order": null,
            "_view_module_version": "1.2.0",
            "grid_template_areas": null,
            "object_position": null,
            "object_fit": null,
            "grid_auto_columns": null,
            "margin": null,
            "display": null,
            "left": null
          }
        }
      }
    },
    "accelerator": "GPU"
  },
  "cells": [
    {
      "cell_type": "markdown",
      "metadata": {
        "id": "8qDUMrLvJ8EI"
      },
      "source": [
        "### Install dependencies"
      ]
    },
    {
      "cell_type": "code",
      "metadata": {
        "colab": {
          "base_uri": "https://localhost:8080/"
        },
        "id": "zFpnKanL55zK",
        "outputId": "6f123888-340e-436f-b144-0ef831b8699f"
      },
      "source": [
        "!pip install transformers"
      ],
      "execution_count": 1,
      "outputs": [
        {
          "output_type": "stream",
          "text": [
            "Collecting transformers\n",
            "\u001b[?25l  Downloading https://files.pythonhosted.org/packages/88/b1/41130a228dd656a1a31ba281598a968320283f48d42782845f6ba567f00b/transformers-4.2.2-py3-none-any.whl (1.8MB)\n",
            "\u001b[K     |████████████████████████████████| 1.8MB 8.1MB/s \n",
            "\u001b[?25hRequirement already satisfied: regex!=2019.12.17 in /usr/local/lib/python3.6/dist-packages (from transformers) (2019.12.20)\n",
            "Requirement already satisfied: requests in /usr/local/lib/python3.6/dist-packages (from transformers) (2.23.0)\n",
            "Requirement already satisfied: tqdm>=4.27 in /usr/local/lib/python3.6/dist-packages (from transformers) (4.41.1)\n",
            "Requirement already satisfied: numpy in /usr/local/lib/python3.6/dist-packages (from transformers) (1.19.5)\n",
            "Collecting sacremoses\n",
            "\u001b[?25l  Downloading https://files.pythonhosted.org/packages/7d/34/09d19aff26edcc8eb2a01bed8e98f13a1537005d31e95233fd48216eed10/sacremoses-0.0.43.tar.gz (883kB)\n",
            "\u001b[K     |████████████████████████████████| 890kB 34.2MB/s \n",
            "\u001b[?25hRequirement already satisfied: dataclasses; python_version < \"3.7\" in /usr/local/lib/python3.6/dist-packages (from transformers) (0.8)\n",
            "Requirement already satisfied: importlib-metadata; python_version < \"3.8\" in /usr/local/lib/python3.6/dist-packages (from transformers) (3.4.0)\n",
            "Requirement already satisfied: packaging in /usr/local/lib/python3.6/dist-packages (from transformers) (20.9)\n",
            "Collecting tokenizers==0.9.4\n",
            "\u001b[?25l  Downloading https://files.pythonhosted.org/packages/0f/1c/e789a8b12e28be5bc1ce2156cf87cb522b379be9cadc7ad8091a4cc107c4/tokenizers-0.9.4-cp36-cp36m-manylinux2010_x86_64.whl (2.9MB)\n",
            "\u001b[K     |████████████████████████████████| 2.9MB 53.8MB/s \n",
            "\u001b[?25hRequirement already satisfied: filelock in /usr/local/lib/python3.6/dist-packages (from transformers) (3.0.12)\n",
            "Requirement already satisfied: chardet<4,>=3.0.2 in /usr/local/lib/python3.6/dist-packages (from requests->transformers) (3.0.4)\n",
            "Requirement already satisfied: certifi>=2017.4.17 in /usr/local/lib/python3.6/dist-packages (from requests->transformers) (2020.12.5)\n",
            "Requirement already satisfied: urllib3!=1.25.0,!=1.25.1,<1.26,>=1.21.1 in /usr/local/lib/python3.6/dist-packages (from requests->transformers) (1.24.3)\n",
            "Requirement already satisfied: idna<3,>=2.5 in /usr/local/lib/python3.6/dist-packages (from requests->transformers) (2.10)\n",
            "Requirement already satisfied: six in /usr/local/lib/python3.6/dist-packages (from sacremoses->transformers) (1.15.0)\n",
            "Requirement already satisfied: click in /usr/local/lib/python3.6/dist-packages (from sacremoses->transformers) (7.1.2)\n",
            "Requirement already satisfied: joblib in /usr/local/lib/python3.6/dist-packages (from sacremoses->transformers) (1.0.0)\n",
            "Requirement already satisfied: typing-extensions>=3.6.4; python_version < \"3.8\" in /usr/local/lib/python3.6/dist-packages (from importlib-metadata; python_version < \"3.8\"->transformers) (3.7.4.3)\n",
            "Requirement already satisfied: zipp>=0.5 in /usr/local/lib/python3.6/dist-packages (from importlib-metadata; python_version < \"3.8\"->transformers) (3.4.0)\n",
            "Requirement already satisfied: pyparsing>=2.0.2 in /usr/local/lib/python3.6/dist-packages (from packaging->transformers) (2.4.7)\n",
            "Building wheels for collected packages: sacremoses\n",
            "  Building wheel for sacremoses (setup.py) ... \u001b[?25l\u001b[?25hdone\n",
            "  Created wheel for sacremoses: filename=sacremoses-0.0.43-cp36-none-any.whl size=893261 sha256=c5e0535aff36f94e97fe47dfac3dbe2244483ad1c6f2831fabd9f88344f4318e\n",
            "  Stored in directory: /root/.cache/pip/wheels/29/3c/fd/7ce5c3f0666dab31a50123635e6fb5e19ceb42ce38d4e58f45\n",
            "Successfully built sacremoses\n",
            "Installing collected packages: sacremoses, tokenizers, transformers\n",
            "Successfully installed sacremoses-0.0.43 tokenizers-0.9.4 transformers-4.2.2\n"
          ],
          "name": "stdout"
        }
      ]
    },
    {
      "cell_type": "code",
      "metadata": {
        "colab": {
          "base_uri": "https://localhost:8080/"
        },
        "id": "9fVJqNHsgBwu",
        "outputId": "7f0f3410-69b5-4718-94d3-3b8a0a0cfa41"
      },
      "source": [
        "from google.colab import drive\n",
        "drive.mount('/content/drive')"
      ],
      "execution_count": 2,
      "outputs": [
        {
          "output_type": "stream",
          "text": [
            "Mounted at /content/drive\n"
          ],
          "name": "stdout"
        }
      ]
    },
    {
      "cell_type": "markdown",
      "metadata": {
        "id": "yHlk_Km8a-Kv"
      },
      "source": [
        "### Setup BERT/RoBERTa using Hugging Face Module"
      ]
    },
    {
      "cell_type": "code",
      "metadata": {
        "id": "F970PEkDvude"
      },
      "source": [
        "from numpy.random import seed\r\n",
        "from tensorflow.random import set_seed\r\n",
        "seed(1)\r\n",
        "set_seed(2)"
      ],
      "execution_count": 3,
      "outputs": []
    },
    {
      "cell_type": "code",
      "metadata": {
        "id": "1BwdPSSfvVJr"
      },
      "source": [
        "import os\r\n",
        "import shutil\r\n",
        "data_path = os.path.join(\"drive\",\"My Drive\",\"toxic_span_identification\")"
      ],
      "execution_count": 4,
      "outputs": []
    },
    {
      "cell_type": "code",
      "metadata": {
        "id": "9clYm59x1wDt",
        "colab": {
          "base_uri": "https://localhost:8080/",
          "height": 164,
          "referenced_widgets": [
            "d659eacb467046a6b65e8283a6f528c7",
            "471867c6b0a94cd2beee606b2d782220",
            "09b67bfe4e2742a982e95d16ef040b92",
            "f5af70e097ba43fa8b09cc5137e7c817",
            "a3ccd0641abf4440a91d8fb15667fa65",
            "4c5638ddb49348848e58f9f72c61e495",
            "c1839618bf224cf18317388545248d6f",
            "1c1e7e7ea5074058aea4bfbcaf9a20c0",
            "e85eaf68dd6a4936bce0aaa7fd4dcac8",
            "9aa404b03f0e48698be654d09a9e68ad",
            "55858a016b014632ae3ce7bb834c7c86",
            "ce8df8feba934f5082e4be9ce56b0f4a",
            "de074b097c1844c1beca766beb11ba48",
            "4c2c253fdcd64e64be97baadf674eedc",
            "9459cbea1b7c4dd19d5b660a7939e7aa",
            "b6cfc2b08f9848478a610cd0445284d9",
            "15a95e3adec7475ca3c0411e679bbc31",
            "ad31fe21206d44eabe6562f19509d2dc",
            "e1eb7b58e8b74b9c978346288ba72b2c",
            "3abdfa551c1443d19c129dab6a956e1c",
            "926b74e5e229470eafa7adf9ae849263",
            "761ac62e93644bd08a20160e3c8b31fb",
            "426335d7841c43e89e9a60db0bfd9ba0",
            "badc9238acc04183b3bfe4331a76b29d"
          ]
        },
        "outputId": "7e99a58a-b42f-4ee9-bd2c-c9ed1ba0f10b"
      },
      "source": [
        "from transformers import RobertaTokenizerFast, TFRobertaModel\n",
        "tokenizer = RobertaTokenizerFast.from_pretrained(\"roberta-base\")"
      ],
      "execution_count": 5,
      "outputs": [
        {
          "output_type": "display_data",
          "data": {
            "application/vnd.jupyter.widget-view+json": {
              "model_id": "d659eacb467046a6b65e8283a6f528c7",
              "version_minor": 0,
              "version_major": 2
            },
            "text/plain": [
              "HBox(children=(FloatProgress(value=0.0, description='Downloading', max=898823.0, style=ProgressStyle(descripti…"
            ]
          },
          "metadata": {
            "tags": []
          }
        },
        {
          "output_type": "stream",
          "text": [
            "\n"
          ],
          "name": "stdout"
        },
        {
          "output_type": "display_data",
          "data": {
            "application/vnd.jupyter.widget-view+json": {
              "model_id": "e85eaf68dd6a4936bce0aaa7fd4dcac8",
              "version_minor": 0,
              "version_major": 2
            },
            "text/plain": [
              "HBox(children=(FloatProgress(value=0.0, description='Downloading', max=456318.0, style=ProgressStyle(descripti…"
            ]
          },
          "metadata": {
            "tags": []
          }
        },
        {
          "output_type": "stream",
          "text": [
            "\n"
          ],
          "name": "stdout"
        },
        {
          "output_type": "display_data",
          "data": {
            "application/vnd.jupyter.widget-view+json": {
              "model_id": "15a95e3adec7475ca3c0411e679bbc31",
              "version_minor": 0,
              "version_major": 2
            },
            "text/plain": [
              "HBox(children=(FloatProgress(value=0.0, description='Downloading', max=1355863.0, style=ProgressStyle(descript…"
            ]
          },
          "metadata": {
            "tags": []
          }
        },
        {
          "output_type": "stream",
          "text": [
            "\n"
          ],
          "name": "stdout"
        }
      ]
    },
    {
      "cell_type": "markdown",
      "metadata": {
        "id": "uQsj_JPlUfAQ"
      },
      "source": [
        "### Load data"
      ]
    },
    {
      "cell_type": "code",
      "metadata": {
        "id": "ntPy-jd1Uh0Q"
      },
      "source": [
        "import pandas as pd\n",
        "import numpy as np\n",
        "from ast import literal_eval"
      ],
      "execution_count": 6,
      "outputs": []
    },
    {
      "cell_type": "code",
      "metadata": {
        "id": "QMiOoMOnUmXS"
      },
      "source": [
        "train_data = pd.read_csv(os.path.join(data_path,\"tsd_train.csv\"))\n",
        "test_data = pd.read_csv(os.path.join(data_path,\"tsd_test.csv\"))"
      ],
      "execution_count": 7,
      "outputs": []
    },
    {
      "cell_type": "code",
      "metadata": {
        "id": "xk7jyzwaeVu7"
      },
      "source": [
        "train_data[\"spans\"] = train_data[\"spans\"].apply(literal_eval)\r\n",
        "test_data[\"spans\"] = test_data[\"spans\"].apply(literal_eval)"
      ],
      "execution_count": 8,
      "outputs": []
    },
    {
      "cell_type": "code",
      "metadata": {
        "colab": {
          "base_uri": "https://localhost:8080/"
        },
        "id": "1WKXpuqvgub7",
        "outputId": "8660d9f6-788f-4adc-ccf9-b7e09535105c"
      },
      "source": [
        "print(train_data.head())\n",
        "print(train_data.shape)\n",
        "print(test_data.head())\n",
        "print(test_data.shape)"
      ],
      "execution_count": 9,
      "outputs": [
        {
          "output_type": "stream",
          "text": [
            "                                               spans                                               text\n",
            "0  [8, 9, 10, 11, 12, 13, 14, 15, 16, 17, 18, 19,...  Another violent and aggressive immigrant killi...\n",
            "1                       [33, 34, 35, 36, 37, 38, 39]  I am 56 years old, I am not your fucking junio...\n",
            "2                                       [0, 1, 2, 3]                  Damn, a whole family. Sad indeed.\n",
            "3          [7, 8, 9, 10, 11, 12, 13, 14, 15, 16, 17]  What a knucklehead. How can anyone not know th...\n",
            "4                       [32, 33, 34, 35, 36, 37, 38]  \"who do you think should do the killing?\"\\n\\nA...\n",
            "(7939, 2)\n",
            "                                               spans                                               text\n",
            "0  [84, 85, 86, 87, 88, 89, 90, 91, 133, 134, 135...  That's right. They are not normal. And I am st...\n",
            "1                           [81, 82, 83, 84, 85, 86]  \"Watch people die from taking away their healt...\n",
            "2                                                 []  tens years ago i contacted the PDR and suggest...\n",
            "3                                                 []  The parallels between the ANC and the Sicilian...\n",
            "4                                                 []  Intel Community: ‘How can we work for a Presid...\n",
            "(2000, 2)\n"
          ],
          "name": "stdout"
        }
      ]
    },
    {
      "cell_type": "markdown",
      "metadata": {
        "id": "2k5Wji1PrfEW"
      },
      "source": [
        "### Preprocess input"
      ]
    },
    {
      "cell_type": "code",
      "metadata": {
        "id": "3zEpb26ojMVW"
      },
      "source": [
        "import re\n",
        "import random\n",
        "import numpy as np\n",
        "from nltk.tokenize.util import align_tokens\n",
        "import spacy\n",
        "nlp = spacy.load(\"en_core_web_sm\")"
      ],
      "execution_count": 10,
      "outputs": []
    },
    {
      "cell_type": "code",
      "metadata": {
        "id": "Wlm6-YrE4Odc"
      },
      "source": [
        "def sentence_tokenize(data):\r\n",
        "  base_offset = []\r\n",
        "  sentences = []\r\n",
        "  sentence_spans = []\r\n",
        "  sent_start = []\r\n",
        "  for i in range(data.shape[0]):\r\n",
        "    text = data['text'][i]\r\n",
        "    spans = data['spans'][i]\r\n",
        "    left_ptr = 0\r\n",
        "    right_ptr = 0\r\n",
        "    started = False\r\n",
        "    doc = nlp(text)\r\n",
        "    for sent in doc.sents:\r\n",
        "      start = doc[sent.start].idx\r\n",
        "      end = doc[sent.end-1].idx + len(doc[sent.end-1])\r\n",
        "      if end-start<=1 :\r\n",
        "        continue\r\n",
        "      sentences.append(text[start:end])\r\n",
        "      base_offset.append(start)\r\n",
        "      if started==False:\r\n",
        "        started = True\r\n",
        "        sent_start.append(True)\r\n",
        "      else:\r\n",
        "        sent_start.append(False)\r\n",
        "      while left_ptr < len(spans) and spans[left_ptr] < start:\r\n",
        "        left_ptr+=1\r\n",
        "      right_ptr = left_ptr\r\n",
        "      cur_spans = []\r\n",
        "      while right_ptr < len(spans) and spans[right_ptr] < end:\r\n",
        "        cur_spans.append(spans[right_ptr])\r\n",
        "        right_ptr+=1\r\n",
        "      sentence_spans.append(cur_spans)\r\n",
        "      left_ptr = right_ptr\r\n",
        "    if started==False:\r\n",
        "      sentences.append(text)\r\n",
        "      base_offset.append(0)\r\n",
        "      sentence_spans.append(spans)\r\n",
        "      sent_start.append(True)\r\n",
        "  data_processed = pd.DataFrame(data={\"text\":sentences,\"spans\":sentence_spans,\"base_offset\":base_offset,\"sent_start\":sent_start})\r\n",
        "  return data_processed"
      ],
      "execution_count": 11,
      "outputs": []
    },
    {
      "cell_type": "code",
      "metadata": {
        "id": "lIFGK8RfP8cE"
      },
      "source": [
        "def custom_tokenize(data, max_length):\r\n",
        "  num_samples = data.shape[0]\r\n",
        "  formatted_text = []\r\n",
        "  for i in range(num_samples):\r\n",
        "    words_list = data.text[i].split()\r\n",
        "    formatted_text.append(' '.join(words_list))\r\n",
        "  tokens = tokenizer(formatted_text, max_length=max_length, padding=\"max_length\",\r\n",
        "                         truncation=True, return_offsets_mapping=True, return_special_tokens_mask=True,\r\n",
        "                         return_token_type_ids = True)\r\n",
        "  for i in range(num_samples):\r\n",
        "    offsets = align_tokens(data.text[i].split(), data.text[i]) \r\n",
        "    token_ptr = -1\r\n",
        "    subword_ptr = 0\r\n",
        "    start = -1\r\n",
        "    prev = -1\r\n",
        "    while token_ptr < len(offsets) and subword_ptr < max_length:\r\n",
        "      if tokens.special_tokens_mask[i][subword_ptr] :\r\n",
        "        subword_ptr += 1       \r\n",
        "        continue \r\n",
        "      if tokens.offset_mapping[i][subword_ptr][0] > prev:\r\n",
        "        token_ptr += 1\r\n",
        "        start = tokens.offset_mapping[i][subword_ptr][0]\r\n",
        "      subword_len = tokens.offset_mapping[i][subword_ptr][1] - tokens.offset_mapping[i][subword_ptr][0] \r\n",
        "      prev = tokens.offset_mapping[i][subword_ptr][1]\r\n",
        "      tokens.offset_mapping[i][subword_ptr] = ( tokens.offset_mapping[i][subword_ptr][0] - start + offsets[token_ptr][0], \r\n",
        "                                               tokens.offset_mapping[i][subword_ptr][1] - start + offsets[token_ptr][0] )\r\n",
        "      subword_ptr += 1\r\n",
        "  return tokens"
      ],
      "execution_count": 12,
      "outputs": []
    },
    {
      "cell_type": "code",
      "metadata": {
        "id": "5N0xLIReP-1M"
      },
      "source": [
        "def replace_apostrophe(s):\r\n",
        "  s = s.replace('\\u2018','\\u0027')\r\n",
        "  s = s.replace('\\u2019','\\u0027')\r\n",
        "  s = s.replace('\\u201C','\\u0022')\r\n",
        "  s = s.replace('\\u201D','\\u0022')\r\n",
        "  return s"
      ],
      "execution_count": 13,
      "outputs": []
    },
    {
      "cell_type": "code",
      "metadata": {
        "id": "1mNyCOZ30-oB"
      },
      "source": [
        "def preprocessing(data, max_length):\r\n",
        "  data_processed = sentence_tokenize(data)\r\n",
        "  data_processed['text'] = data_processed['text'].apply(lambda s: re.sub(',',' ',s))\r\n",
        "  data_processed['text'] = data_processed['text'].apply(lambda s: re.sub('-',' ',s))\r\n",
        "  data_processed['text'] = data_processed['text'].apply(lambda s: s.lower())\r\n",
        "  data_processed['text'] = data_processed['text'].apply(replace_apostrophe)\r\n",
        "  tokens = custom_tokenize(data_processed, max_length)\r\n",
        "  input_dict = {\"input_ids\" : np.array(tokens.input_ids),\r\n",
        "                \"token_type_ids\" : np.array(tokens.token_type_ids), \r\n",
        "                \"attention_mask\" : np.array(tokens.attention_mask) }\r\n",
        "  return data_processed, tokens, input_dict"
      ],
      "execution_count": 14,
      "outputs": []
    },
    {
      "cell_type": "code",
      "metadata": {
        "id": "MPtm3e9wLeeK"
      },
      "source": [
        "max_length = 60"
      ],
      "execution_count": 15,
      "outputs": []
    },
    {
      "cell_type": "code",
      "metadata": {
        "id": "PjAeELFE37Yn"
      },
      "source": [
        "train_data_processed, train_tokens, train_input = preprocessing(train_data, max_length)\r\n",
        "test_data_processed, test_tokens, test_input = preprocessing(test_data, max_length)"
      ],
      "execution_count": 16,
      "outputs": []
    },
    {
      "cell_type": "code",
      "metadata": {
        "id": "hItQ3J9x8dH7",
        "colab": {
          "base_uri": "https://localhost:8080/"
        },
        "outputId": "12cee2b0-ae82-44a2-d312-ad29759e2619"
      },
      "source": [
        "print(train_data_processed[:10])\r\n",
        "print(train_data_processed.shape)"
      ],
      "execution_count": 17,
      "outputs": [
        {
          "output_type": "stream",
          "text": [
            "                                                text  ... sent_start\n",
            "0  another violent and aggressive immigrant killi...  ...       True\n",
            "1                                            sarcasm  ...      False\n",
            "2  i am 56 years old  i am not your fucking junio...  ...       True\n",
            "3                what you are saying makes no sense.  ...      False\n",
            "4          i don't know what you are basing this on.  ...      False\n",
            "5  the cheap black market crap is still coming up...  ...      False\n",
            "6  the i5 corridor is still just as busy  and the...  ...      False\n",
            "7  nothing has really changed except that the leg...  ...      False\n",
            "8  and the legal market is controlled by corporat...  ...      False\n",
            "9  the federal government \"war on drugs\" really h...  ...      False\n",
            "\n",
            "[10 rows x 4 columns]\n",
            "(26247, 4)\n"
          ],
          "name": "stdout"
        }
      ]
    },
    {
      "cell_type": "code",
      "metadata": {
        "id": "Pzh6DXXphGX_",
        "colab": {
          "base_uri": "https://localhost:8080/"
        },
        "outputId": "e70b7df4-3b4d-4276-b737-233bd9b9edc5"
      },
      "source": [
        "print(test_data_processed[:10])\r\n",
        "print(test_data_processed.shape)"
      ],
      "execution_count": 18,
      "outputs": [
        {
          "output_type": "stream",
          "text": [
            "                                                text  ... sent_start\n",
            "0                                      that's right.  ...       True\n",
            "1                               they are not normal.  ...      False\n",
            "2  and i am starting from the premise that they a...  ...      False\n",
            "3  proceed wth the typical racist  bigot  sexist ...  ...      False\n",
            "4                                            thanks!  ...      False\n",
            "5  \"watch people die from taking away their healt...  ...       True\n",
            "6            winner of stupid post of the day award!  ...      False\n",
            "7  tens years ago i contacted the pdr and suggest...  ...       True\n",
            "8  alaska rejected them without even consideratio...  ...      False\n",
            "9  the transcanada exxon rip off that we are stil...  ...      False\n",
            "\n",
            "[10 rows x 4 columns]\n",
            "(6175, 4)\n"
          ],
          "name": "stdout"
        }
      ]
    },
    {
      "cell_type": "code",
      "metadata": {
        "id": "-rA8K1FQIZwT",
        "colab": {
          "base_uri": "https://localhost:8080/"
        },
        "outputId": "f72b44b5-b9ee-4f01-c332-b364fb3257fe"
      },
      "source": [
        "# check offsets for a random sample\r\n",
        "idx = random.randint(0, train_data_processed.shape[0])\r\n",
        "print(idx)\r\n",
        "print(train_data_processed.text[idx])\r\n",
        "i = 0\r\n",
        "for s,e in train_tokens.offset_mapping[idx]:\r\n",
        "  if s!=0 or e!=0:\r\n",
        "    print(train_data_processed.text[idx][s:e],\" \", tokenizer.convert_ids_to_tokens(train_tokens.input_ids[idx][i]))\r\n",
        "  i+=1"
      ],
      "execution_count": 19,
      "outputs": [
        {
          "output_type": "stream",
          "text": [
            "9566\n",
            "yankees suck....\n",
            "yan   yan\n",
            "kees   kees\n",
            "suck   Ġsuck\n",
            "....   ....\n"
          ],
          "name": "stdout"
        }
      ]
    },
    {
      "cell_type": "markdown",
      "metadata": {
        "id": "iegET0hh4S_h"
      },
      "source": [
        "### Create IO,BIO output"
      ]
    },
    {
      "cell_type": "code",
      "metadata": {
        "id": "-dnftpdojXIR"
      },
      "source": [
        "import string"
      ],
      "execution_count": 20,
      "outputs": []
    },
    {
      "cell_type": "code",
      "metadata": {
        "id": "EoV02dYKU8tS"
      },
      "source": [
        "# prepare the output toxic/non toxic labels\n",
        "def generate_output(data, tokens):  \n",
        "  output = np.zeros((data.shape[0],max_length))\n",
        "  for i in range(data.shape[0]):\n",
        "    isToxic = np.zeros(len(data.text[i]))\n",
        "    for idx in data.spans[i]:\n",
        "      isToxic[idx-data.base_offset[i]]=1\n",
        "    for j in range(max_length):\n",
        "      if tokens.special_tokens_mask[i][j]:\n",
        "        continue\n",
        "      start = tokens.offset_mapping[i][j][0]\n",
        "      end = tokens.offset_mapping[i][j][1]\n",
        "      cnt = 0\n",
        "      for pos in range(start,end):\n",
        "        if isToxic[pos]:\n",
        "          cnt+=1\n",
        "      if cnt>=(end-start+1)//2:\n",
        "        output[i][j]=1\n",
        "  return output"
      ],
      "execution_count": 21,
      "outputs": []
    },
    {
      "cell_type": "code",
      "metadata": {
        "id": "f9zDOO7brCl5",
        "colab": {
          "base_uri": "https://localhost:8080/"
        },
        "outputId": "fac6585b-1954-4230-85ca-4f32d4a5d33a"
      },
      "source": [
        "train_output = generate_output(train_data_processed, train_tokens)\n",
        "train_shape = train_output.shape\n",
        "train_samples = train_output.shape[0] * train_output.shape[1]\n",
        "train_output_1d = train_output.reshape((train_samples,))\n",
        "train_toxic_samples = np.sum(train_output)\n",
        "print(\"Training data stats\")\n",
        "print(\"Shape of data:\",train_output.shape)\n",
        "print(\"Number of toxic samples:\",train_toxic_samples)\n",
        "print(\"Fraction of toxic samples: \",train_toxic_samples/train_samples)"
      ],
      "execution_count": 22,
      "outputs": [
        {
          "output_type": "stream",
          "text": [
            "Training data stats\n",
            "Shape of data: (26247, 60)\n",
            "Number of toxic samples: 29731.0\n",
            "Fraction of toxic samples:  0.018878982994881954\n"
          ],
          "name": "stdout"
        }
      ]
    },
    {
      "cell_type": "code",
      "metadata": {
        "id": "oPY9z6va5XJJ",
        "colab": {
          "base_uri": "https://localhost:8080/"
        },
        "outputId": "d0b29bb2-a27e-4061-d18b-a674d43d07cd"
      },
      "source": [
        "test_output = generate_output(test_data_processed,test_tokens)\n",
        "test_shape = test_output.shape\n",
        "test_samples = test_output.shape[0] * test_output.shape[1]\n",
        "test_output_1d = test_output.reshape((test_samples,))\n",
        "test_toxic_samples = np.sum(test_output)\n",
        "print(\"Test data stats\")\n",
        "print(\"Shape of data:\",test_output.shape)\n",
        "print(\"Number of toxic samples:\",test_toxic_samples)\n",
        "print(\"Fraction of toxic samples:\",test_toxic_samples/test_samples)"
      ],
      "execution_count": 23,
      "outputs": [
        {
          "output_type": "stream",
          "text": [
            "Test data stats\n",
            "Shape of data: (6175, 60)\n",
            "Number of toxic samples: 3181.0\n",
            "Fraction of toxic samples: 0.008585695006747638\n"
          ],
          "name": "stdout"
        }
      ]
    },
    {
      "cell_type": "code",
      "metadata": {
        "id": "b84Jgil9tW1L"
      },
      "source": [
        "sample_weight = 1 - np.array(train_tokens.special_tokens_mask)"
      ],
      "execution_count": 24,
      "outputs": []
    },
    {
      "cell_type": "code",
      "metadata": {
        "id": "hroroOrx6Krc",
        "colab": {
          "base_uri": "https://localhost:8080/"
        },
        "outputId": "316cc494-eba9-49e4-849f-9a1db0416bfa"
      },
      "source": [
        "sample_weight_1d = sample_weight.reshape((train_samples,))\r\n",
        "valid_tokens = np.sum(sample_weight)\r\n",
        "print(\"No. of non padding ie valid tokens:\",valid_tokens)\r\n",
        "print(\"Fraction of valid tokens:\",valid_tokens/train_samples)\r\n",
        "print(\"Toxic samples as fraction of valid tokens:\",np.sum(sample_weight * train_output)/valid_tokens)"
      ],
      "execution_count": 25,
      "outputs": [
        {
          "output_type": "stream",
          "text": [
            "No. of non padding ie valid tokens: 353026\n",
            "Fraction of valid tokens: 0.22416911139050813\n",
            "Toxic samples as fraction of valid tokens: 0.0842175930384731\n"
          ],
          "name": "stdout"
        }
      ]
    },
    {
      "cell_type": "code",
      "metadata": {
        "id": "o5qaIP8-bz_H",
        "colab": {
          "base_uri": "https://localhost:8080/"
        },
        "outputId": "cdff1731-1f28-424d-bf4b-f9f1013b4ed7"
      },
      "source": [
        "toxic_words = []\r\n",
        "for i in range(train_shape[0]):\r\n",
        "  for j in range(max_length):\r\n",
        "    if train_output[i,j]==1 and sample_weight[i,j]==1:\r\n",
        "      toxic_words.append(tokenizer.convert_ids_to_tokens(train_tokens.input_ids[i][j]))\r\n",
        "toxic_words_freq = pd.Series(toxic_words).value_counts()\r\n",
        "toxic_words_freq[:25]"
      ],
      "execution_count": 26,
      "outputs": [
        {
          "output_type": "execute_result",
          "data": {
            "text/plain": [
              "Ġstupid       1156\n",
              "Ġidiot         642\n",
              "Ġthe           521\n",
              "Ġidiots        390\n",
              "Ġa             377\n",
              "Ġand           333\n",
              "Ġmor           302\n",
              "Ġof            291\n",
              "Ġis            284\n",
              ".              282\n",
              "Ġstupidity     267\n",
              "Ġignorant      263\n",
              "Ġto            260\n",
              "Ġdumb          218\n",
              "on             204\n",
              "Ġyou           182\n",
              "Ġfool          179\n",
              "s              178\n",
              "Ġin            175\n",
              "Ġare           171\n",
              "Ġcrap          146\n",
              "Ġthat          141\n",
              "Ġpathetic      140\n",
              "'s             137\n",
              "st             137\n",
              "dtype: int64"
            ]
          },
          "metadata": {
            "tags": []
          },
          "execution_count": 26
        }
      ]
    },
    {
      "cell_type": "markdown",
      "metadata": {
        "id": "g30VInoZb-Gr"
      },
      "source": [
        "### Post processing function definitions"
      ]
    },
    {
      "cell_type": "code",
      "metadata": {
        "id": "9X-cY1RqXDDs"
      },
      "source": [
        "import string"
      ],
      "execution_count": 27,
      "outputs": []
    },
    {
      "cell_type": "code",
      "metadata": {
        "id": "AdzHHnq_JS9v"
      },
      "source": [
        "def get_threshold(train_pred):\r\n",
        "  train_pred_1d = train_pred.reshape((train_samples,))\r\n",
        "  sample_weight_mask = sample_weight_1d.astype(\"bool\")\r\n",
        "  train_output_mask = train_output_1d[sample_weight_mask]\r\n",
        "  train_pred_mask = train_pred_1d[sample_weight_mask]\r\n",
        "  fpr, tpr, _ = roc_curve(train_output_mask , train_pred_mask)\r\n",
        "  precisions, recalls , thresholds = precision_recall_curve(train_output_mask, train_pred_mask)\r\n",
        "  f1_scores = []\r\n",
        "  for prec,rec in zip(precisions,recalls):\r\n",
        "    if prec+rec >= 1e-2 :\r\n",
        "      cur_f1 = (2*prec*rec)/(prec+rec);\r\n",
        "      f1_scores.append(cur_f1)\r\n",
        "    else :\r\n",
        "      f1_scores.append(0)\r\n",
        "  idx = np.argmax(f1_scores)\r\n",
        "  return thresholds[idx], f1_scores[idx]"
      ],
      "execution_count": 28,
      "outputs": []
    },
    {
      "cell_type": "code",
      "metadata": {
        "id": "4bSR5j9tQ_9x"
      },
      "source": [
        "def classify_bio_output(prediction):\n",
        "  num_samples = prediction.shape[0]*prediction.shape[1]\n",
        "  res = np.zeros((prediction.shape[0],prediction.shape[1]))\n",
        "  for i in range(prediction.shape[0]):\n",
        "    for j in range(prediction.shape[1]):\n",
        "      if prediction[i,j] != 0:\n",
        "        res[i,j] = 1\n",
        "  return res"
      ],
      "execution_count": 29,
      "outputs": []
    },
    {
      "cell_type": "code",
      "metadata": {
        "id": "Wtv4dk0x_TYS"
      },
      "source": [
        "def classify_by_threshold(prediction, thresh):\n",
        "  res = np.zeros(prediction.shape)\n",
        "  for i in range(prediction.shape[0]):\n",
        "    for j in range(prediction.shape[1]):\n",
        "      if prediction[i,j]>=thresh:\n",
        "        res[i,j]=1\n",
        "  return res"
      ],
      "execution_count": 30,
      "outputs": []
    },
    {
      "cell_type": "code",
      "metadata": {
        "id": "xPXhkBIZRFHD"
      },
      "source": [
        "def convert_output_to_ranges(data_processed, tokens, prediction_label):\n",
        "  \"\"\"\n",
        "  Arguments\n",
        "  data_processed: dataframe where the result is to be stored\n",
        "  tokens : BatchEncoding for text column in the dataframe\n",
        "\n",
        "  Return type: Pandas Series of size = #samples\n",
        "  For each sentence, a list of compressed toxic spans is returned\n",
        "  If the token is labelled toxic, then its offset ranges obtained from tokens is appended to the list\n",
        "  \"\"\"\n",
        "  spans_column = []\n",
        "  num_samples = data_processed.shape[0];\n",
        "  for i in range(num_samples):\n",
        "    comp_ranges = []\n",
        "    cur = {}\n",
        "    for j in range(max_length):\n",
        "      if prediction_label[i][j]==0 or tokens.special_tokens_mask[i][j]==1:\n",
        "        continue\n",
        "      cur['start'] = tokens.offset_mapping[i][j][0]\n",
        "      cur['end'] = tokens.offset_mapping[i][j][1]\n",
        "      comp_ranges.append([cur['start'],cur['end']])\n",
        "    spans_column.append(comp_ranges)\n",
        "  return pd.Series(spans_column)"
      ],
      "execution_count": 31,
      "outputs": []
    },
    {
      "cell_type": "code",
      "metadata": {
        "id": "eNLzdlQ9PW_c"
      },
      "source": [
        "def add_offset(row):\n",
        "  \"\"\"\n",
        "  Argument: a row of a dataframe with columns - predicted_spans , base_offset\n",
        "  Returns the predicted spans after adding base offset to both the lower and upper endpoints\n",
        "  for all all ranges\n",
        "  \"\"\"\n",
        "  updated_spans = []\n",
        "  for i in range(len(row.predicted_ranges)):\n",
        "    updated_spans.append([row.predicted_ranges[i][0]+row.base_offset, \n",
        "                          row.predicted_ranges[i][1]+row.base_offset])\n",
        "  return updated_spans"
      ],
      "execution_count": 32,
      "outputs": []
    },
    {
      "cell_type": "code",
      "metadata": {
        "id": "w4sfhH98K-nq"
      },
      "source": [
        "def collect_ranges(data, data_processed):\n",
        "  \"\"\"\n",
        "  Returns a pandas series after collecting spans\n",
        "  from data_processed for the given texts in data\n",
        "  \"\"\"\n",
        "  j=0\n",
        "  new_col = []\n",
        "  for i in range(data.shape[0]):\n",
        "    all_spans = data_processed['adjusted_ranges'][j]\n",
        "    j+=1\n",
        "    while j<data_processed.shape[0] and data_processed.sent_start[j]==False:\n",
        "      all_spans = all_spans + data_processed['adjusted_ranges'][j]\n",
        "      j+=1\n",
        "    new_col.append(all_spans)\n",
        "  return pd.Series(new_col)"
      ],
      "execution_count": 33,
      "outputs": []
    },
    {
      "cell_type": "code",
      "metadata": {
        "id": "HSaHyOTppSu3"
      },
      "source": [
        "def merge_ranges(row):\n",
        "  \"\"\"\n",
        "  Returns a new list after merging very close ranges\n",
        "  \"\"\"\n",
        "  old_list = row.collected_ranges\n",
        "  text = row.text\n",
        "  prev = {}\n",
        "  prev['start'] = -1\n",
        "  prev['end'] = -1\n",
        "  cur = {}\n",
        "  new_list = []\n",
        "  for i in range(len(old_list)):\n",
        "    cur['start'] = old_list[i][0]\n",
        "    cur['end'] = old_list[i][1]\n",
        "    if prev['start'] != -1:\n",
        "      cntAlpha = 0\n",
        "      for j in range(prev['end'],cur['start']):\n",
        "        if text[j].isalpha():\n",
        "          cntAlpha+=1\n",
        "      if cntAlpha==0 and (cur['start']-prev['end'])<=5:\n",
        "        new_list.pop()\n",
        "        cur['start'] = prev['start']\n",
        "    new_list.append([cur['start'],cur['end']])\n",
        "    prev['start'] = cur['start']\n",
        "    prev['end'] = cur['end']\n",
        "  return new_list"
      ],
      "execution_count": 34,
      "outputs": []
    },
    {
      "cell_type": "code",
      "metadata": {
        "id": "Qrt7tWfbKzBT"
      },
      "source": [
        "def expand_ranges(old_list):\n",
        "  \"\"\"\n",
        "  Returns a new list after expanding ranges\n",
        "  \"\"\"\n",
        "  new_list = []\n",
        "  for item in old_list:\n",
        "    new_list = new_list + (list(range(item[0],item[1])))\n",
        "  return new_list"
      ],
      "execution_count": 35,
      "outputs": []
    },
    {
      "cell_type": "code",
      "metadata": {
        "id": "g1iaZfxOXXGw"
      },
      "source": [
        "def f1(predictions, gold):\n",
        "    \"\"\"\n",
        "    F1 (a.k.a. DICE) operating on two lists of offsets (e.g., character).\n",
        "    >>> assert f1([0, 1, 4, 5], [0, 1, 6]) == 0.5714285714285714\n",
        "    :param predictions: a list of predicted offsets\n",
        "    :param gold: a list of offsets serving as the ground truth\n",
        "    :return: a score between 0 and 1\n",
        "    \"\"\"\n",
        "    if len(gold) == 0:\n",
        "        return 1 if len(predictions)==0 else 0\n",
        "    nom = 2*len(set(predictions).intersection(set(gold)))\n",
        "    denom = len(set(predictions))+len(set(gold))\n",
        "    return nom/denom"
      ],
      "execution_count": 36,
      "outputs": []
    },
    {
      "cell_type": "code",
      "metadata": {
        "id": "snaRAqrYTKoF"
      },
      "source": [
        "def precision(predictions, gold):\r\n",
        "    \"\"\"\r\n",
        "    F1 (a.k.a. DICE) operating on two lists of offsets (e.g., character).\r\n",
        "    >>> assert f1([0, 1, 4, 5], [0, 1, 6]) == 0.5714285714285714\r\n",
        "    :param predictions: a list of predicted offsets\r\n",
        "    :param gold: a list of offsets serving as the ground truth\r\n",
        "    :return: a score between 0 and 1\r\n",
        "    \"\"\"\r\n",
        "    if len(predictions) == 0:\r\n",
        "        return 1 if len(gold)==0 else 0\r\n",
        "    nom = len(set(predictions).intersection(set(gold)))\r\n",
        "    denom = len(set(predictions))\r\n",
        "    return nom/denom"
      ],
      "execution_count": 37,
      "outputs": []
    },
    {
      "cell_type": "code",
      "metadata": {
        "id": "71KYn5OnTUzl"
      },
      "source": [
        "def recall(predictions, gold):\r\n",
        "    \"\"\"\r\n",
        "    F1 (a.k.a. DICE) operating on two lists of offsets (e.g., character).\r\n",
        "    >>> assert f1([0, 1, 4, 5], [0, 1, 6]) == 0.5714285714285714\r\n",
        "    :param predictions: a list of predicted offsets\r\n",
        "    :param gold: a list of offsets serving as the ground truth\r\n",
        "    :return: a score between 0 and 1\r\n",
        "    \"\"\"\r\n",
        "    if len(gold) == 0:\r\n",
        "        return 1 if len(predictions)==0 else 0\r\n",
        "    nom = len(set(predictions).intersection(set(gold)))\r\n",
        "    denom = len(set(gold))\r\n",
        "    return nom/denom"
      ],
      "execution_count": 38,
      "outputs": []
    },
    {
      "cell_type": "code",
      "metadata": {
        "id": "tgKL5g5m3yjv"
      },
      "source": [
        "def spans2ranges(span):\r\n",
        "  ranges = []\r\n",
        "  prev = -1\r\n",
        "  range = {'start':-1,'end':-1}\r\n",
        "  for pos in span :\r\n",
        "    if prev==-1 or pos>prev+1:\r\n",
        "      if prev != -1:\r\n",
        "        ranges.append([range['start'],range['end']+1])\r\n",
        "      range['start'] = pos\r\n",
        "    range['end'] = pos\r\n",
        "    prev = pos\r\n",
        "  if prev !=-1:\r\n",
        "    ranges.append([range['start'],range['end']+1])\r\n",
        "  return ranges"
      ],
      "execution_count": 39,
      "outputs": []
    },
    {
      "cell_type": "code",
      "metadata": {
        "id": "OfF2iCiaXgL0"
      },
      "source": [
        "def post_process(data, data_processed, tokens, prediction, thresh):\n",
        "  if thresh is None :\n",
        "    prediction_label = classify_bio_output(prediction);\n",
        "  else :\n",
        "    prediction_label = classify_by_threshold(prediction,thresh);\n",
        "  data_processed['predicted_ranges'] = convert_output_to_ranges(data_processed, tokens, prediction_label)\n",
        "  data_processed['adjusted_ranges'] = data_processed.apply(add_offset,axis=1)\n",
        "  data['collected_ranges'] = collect_ranges(data, data_processed)\n",
        "  data['predicted_ranges'] = data.apply(merge_ranges,axis=1) \n",
        "  data['predicted_spans'] = data['predicted_ranges'].apply(expand_ranges) \n",
        "  data['actual_ranges'] = data['spans'].apply(spans2ranges)\n",
        "  f1_list = []\n",
        "  precision_list = []\n",
        "  recall_list = []\n",
        "  for i in range(data.shape[0]):\n",
        "    f1_list.append(f1(data.predicted_spans[i],data.spans[i]))\n",
        "    precision_list.append(precision(data.predicted_spans[i],data.spans[i]))\n",
        "    recall_list.append(recall(data.predicted_spans[i],data.spans[i]))\n",
        "  mean_f1 = np.mean(np.array(f1_list))\n",
        "  mean_precision = np.mean(np.array(precision_list))\n",
        "  mean_recall = np.mean(np.array(recall_list))\n",
        "  return mean_f1, mean_precision, mean_recall"
      ],
      "execution_count": 40,
      "outputs": []
    },
    {
      "cell_type": "markdown",
      "metadata": {
        "id": "s-vQxGswQ_mn"
      },
      "source": [
        "### Set the model hyper parameters"
      ]
    },
    {
      "cell_type": "code",
      "metadata": {
        "id": "ID6aPVIINdzD"
      },
      "source": [
        "def get_pretrained_model_path(pre_training_epoch):\r\n",
        "  return os.path.join(data_path, \"pre_trained_roberta_base_epoch_\"+str(pre_training_epoch))\r\n",
        "\r\n",
        "def get_weights_path_folder(params):\r\n",
        "  return os.path.join(data_path, \"models_for_paper\", \"type_\"+params[\"paper_run\"])\r\n",
        "\r\n",
        "def get_weights_path(params, cur_epoch):\r\n",
        "  return os.path.join( get_weights_path_folder(params),\"{:02d}_epochs.h5\".format(cur_epoch) )"
      ],
      "execution_count": 41,
      "outputs": []
    },
    {
      "cell_type": "code",
      "metadata": {
        "id": "0A5ct4eXQhA8"
      },
      "source": [
        "params = {\r\n",
        "  \"model_name\" : \"Dense512\",\r\n",
        "  \"training\" : True,\r\n",
        "  \"learning_rate\" : 1e-5,\r\n",
        "  \"pre_training_epoch\" : 2,\r\n",
        "  \"initial_epoch\" : 0,\r\n",
        "  \"epochs\" : 5,\r\n",
        "  \"silver\" : False,\r\n",
        "  \"paper_run\": \"4\"\r\n",
        "}"
      ],
      "execution_count": 42,
      "outputs": []
    },
    {
      "cell_type": "markdown",
      "metadata": {
        "id": "XkNVsQErgYcA"
      },
      "source": [
        "### Models and metrics definition"
      ]
    },
    {
      "cell_type": "code",
      "metadata": {
        "id": "6o1YV_RDByVz"
      },
      "source": [
        "import tensorflow as tf\n",
        "from tensorflow.keras import Input, Model\n",
        "from tensorflow.keras.layers import Dense,Flatten, Dropout\n",
        "import matplotlib.pyplot as plt\n",
        "from sklearn.metrics import roc_curve, auc, precision_recall_curve\n",
        "from tensorflow.keras.callbacks import ModelCheckpoint"
      ],
      "execution_count": 43,
      "outputs": []
    },
    {
      "cell_type": "code",
      "metadata": {
        "id": "Sw66FoAJ8v38"
      },
      "source": [
        "# model_name \"Dense512\"\r\n",
        "def get_dense512(pre_training_epoch, training):\r\n",
        "  input_ids = Input(shape=(max_length),name=\"input_ids\",dtype=\"int32\")\r\n",
        "  token_type_ids = Input(shape=(max_length),name=\"token_type_ids\")\r\n",
        "  attention_mask = Input(shape=(max_length),name=\"attention_mask\")\r\n",
        "  if pre_training_epoch == 0:\r\n",
        "    encoder = TFRobertaModel.from_pretrained(\"roberta-base\")\r\n",
        "  else:\r\n",
        "    encoder = TFRobertaModel.from_pretrained(get_pretrained_model_path(pre_training_epoch), from_pt = True)\r\n",
        "  embeddings = encoder({\"input_ids\":input_ids,\"token_type_ids\":token_type_ids,\"attention_mask\":attention_mask}, training=training)[0]\r\n",
        "  dropout_layer0 = Dropout(rate = 0.1)(embeddings, training=training)\r\n",
        "  dense_layer0 = Dense(512, activation=\"relu\")(dropout_layer0)\r\n",
        "  dropout_layer1 = Dropout(rate = 0.1)(dense_layer0, training=training)\r\n",
        "  dense_layer1 = Dense(128, activation=\"relu\")(dropout_layer1)\r\n",
        "  dropout_layer2 = Dropout(rate = 0.1)(dense_layer1, training=training)\r\n",
        "  dense_layer2 = Dense(1,activation='sigmoid')(dropout_layer2)\r\n",
        "  outputs = Flatten()(dense_layer2)\r\n",
        "  return Model(inputs = [input_ids, token_type_ids, attention_mask ] ,outputs = outputs)"
      ],
      "execution_count": 44,
      "outputs": []
    },
    {
      "cell_type": "code",
      "metadata": {
        "id": "9am8bj5jf74E"
      },
      "source": [
        "def get_model(params):\r\n",
        "  model_name = params['model_name']\r\n",
        "  pre_training_epoch = params['pre_training_epoch']\r\n",
        "  training = params['training']\r\n",
        "  if model_name == \"Dense512\":\r\n",
        "    return get_dense512(pre_training_epoch, training)"
      ],
      "execution_count": 45,
      "outputs": []
    },
    {
      "cell_type": "markdown",
      "metadata": {
        "id": "Qo2rv-mjdohx"
      },
      "source": [
        "### Loss function"
      ]
    },
    {
      "cell_type": "code",
      "metadata": {
        "id": "QfUdAwmNzILv"
      },
      "source": [
        "import tensorflow.keras.backend as K"
      ],
      "execution_count": 46,
      "outputs": []
    },
    {
      "cell_type": "code",
      "metadata": {
        "id": "WTLgDHy2nkg0"
      },
      "source": [
        "def binary_loss(y_true, y_pred):\n",
        "  loss = -1 * y_true * K.log( K.clip(y_pred + K.epsilon(), 0, 1.0) )\n",
        "  loss += -1 * (1-y_true) * K.log( K.clip(1-y_pred+K.epsilon(), 0, 1.0) )\n",
        "  return loss"
      ],
      "execution_count": 47,
      "outputs": []
    },
    {
      "cell_type": "markdown",
      "metadata": {
        "id": "jc67aD-oRM6g"
      },
      "source": [
        "### Create and train model as per above chosen hyper parameters"
      ]
    },
    {
      "cell_type": "code",
      "metadata": {
        "id": "h60T6XGZCYVp",
        "colab": {
          "base_uri": "https://localhost:8080/",
          "height": 1000
        },
        "outputId": "e90d5a36-0006-4c87-a23c-b38d35f69099"
      },
      "source": [
        "model = get_model(params)\n",
        "if params['initial_epoch'] !=0 :\n",
        "  model.load_weights(get_weights_path(params, params['initial_epoch']))\n",
        "\n",
        "model.summary()\n",
        "tf.keras.utils.plot_model(model, show_shapes=True, dpi=64)"
      ],
      "execution_count": 48,
      "outputs": [
        {
          "output_type": "stream",
          "text": [
            "Some weights of the PyTorch model were not used when initializing the TF 2.0 model TFRobertaModel: ['lm_head.decoder.bias', 'lm_head.layer_norm.bias', 'roberta.embeddings.position_ids', 'lm_head.dense.bias', 'lm_head.bias', 'lm_head.layer_norm.weight', 'lm_head.dense.weight', 'lm_head.decoder.weight']\n",
            "- This IS expected if you are initializing TFRobertaModel from a PyTorch model trained on another task or with another architecture (e.g. initializing a TFBertForSequenceClassification model from a BertForPreTraining model).\n",
            "- This IS NOT expected if you are initializing TFRobertaModel from a PyTorch model that you expect to be exactly identical (e.g. initializing a TFBertForSequenceClassification model from a BertForSequenceClassification model).\n",
            "Some weights or buffers of the TF 2.0 model TFRobertaModel were not initialized from the PyTorch model and are newly initialized: ['roberta.pooler.dense.weight', 'roberta.pooler.dense.bias']\n",
            "You should probably TRAIN this model on a down-stream task to be able to use it for predictions and inference.\n"
          ],
          "name": "stderr"
        },
        {
          "output_type": "stream",
          "text": [
            "WARNING:tensorflow:AutoGraph could not transform <bound method Socket.send of <zmq.sugar.socket.Socket object at 0x7f1ae255a6c8>> and will run it as-is.\n",
            "Please report this to the TensorFlow team. When filing the bug, set the verbosity to 10 (on Linux, `export AUTOGRAPH_VERBOSITY=10`) and attach the full output.\n",
            "Cause: <cyfunction Socket.send at 0x7f1affa3d2a0> is not a module, class, method, function, traceback, frame, or code object\n",
            "To silence this warning, decorate the function with @tf.autograph.experimental.do_not_convert\n",
            "WARNING: AutoGraph could not transform <bound method Socket.send of <zmq.sugar.socket.Socket object at 0x7f1ae255a6c8>> and will run it as-is.\n",
            "Please report this to the TensorFlow team. When filing the bug, set the verbosity to 10 (on Linux, `export AUTOGRAPH_VERBOSITY=10`) and attach the full output.\n",
            "Cause: <cyfunction Socket.send at 0x7f1affa3d2a0> is not a module, class, method, function, traceback, frame, or code object\n",
            "To silence this warning, decorate the function with @tf.autograph.experimental.do_not_convert\n"
          ],
          "name": "stdout"
        },
        {
          "output_type": "stream",
          "text": [
            "The parameters `output_attentions`, `output_hidden_states` and `use_cache` cannot be updated when calling a model.They have to be set to True/False in the config object (i.e.: `config=XConfig.from_pretrained('name', output_attentions=True)`).\n"
          ],
          "name": "stderr"
        },
        {
          "output_type": "stream",
          "text": [
            "WARNING:tensorflow:AutoGraph could not transform <function wrap at 0x7f1afd814c80> and will run it as-is.\n",
            "Cause: while/else statement not yet supported\n",
            "To silence this warning, decorate the function with @tf.autograph.experimental.do_not_convert\n"
          ],
          "name": "stdout"
        },
        {
          "output_type": "stream",
          "text": [
            "The parameter `return_dict` cannot be set in graph mode and will always be set to `True`.\n"
          ],
          "name": "stderr"
        },
        {
          "output_type": "stream",
          "text": [
            "WARNING: AutoGraph could not transform <function wrap at 0x7f1afd814c80> and will run it as-is.\n",
            "Cause: while/else statement not yet supported\n",
            "To silence this warning, decorate the function with @tf.autograph.experimental.do_not_convert\n",
            "Model: \"model\"\n",
            "__________________________________________________________________________________________________\n",
            "Layer (type)                    Output Shape         Param #     Connected to                     \n",
            "==================================================================================================\n",
            "attention_mask (InputLayer)     [(None, 60)]         0                                            \n",
            "__________________________________________________________________________________________________\n",
            "input_ids (InputLayer)          [(None, 60)]         0                                            \n",
            "__________________________________________________________________________________________________\n",
            "token_type_ids (InputLayer)     [(None, 60)]         0                                            \n",
            "__________________________________________________________________________________________________\n",
            "tf_roberta_model (TFRobertaMode TFBaseModelOutputWit 124645632   attention_mask[0][0]             \n",
            "                                                                 input_ids[0][0]                  \n",
            "                                                                 token_type_ids[0][0]             \n",
            "__________________________________________________________________________________________________\n",
            "dropout_37 (Dropout)            (None, 60, 768)      0           tf_roberta_model[0][0]           \n",
            "__________________________________________________________________________________________________\n",
            "dense (Dense)                   (None, 60, 512)      393728      dropout_37[0][0]                 \n",
            "__________________________________________________________________________________________________\n",
            "dropout_38 (Dropout)            (None, 60, 512)      0           dense[0][0]                      \n",
            "__________________________________________________________________________________________________\n",
            "dense_1 (Dense)                 (None, 60, 128)      65664       dropout_38[0][0]                 \n",
            "__________________________________________________________________________________________________\n",
            "dropout_39 (Dropout)            (None, 60, 128)      0           dense_1[0][0]                    \n",
            "__________________________________________________________________________________________________\n",
            "dense_2 (Dense)                 (None, 60, 1)        129         dropout_39[0][0]                 \n",
            "__________________________________________________________________________________________________\n",
            "flatten (Flatten)               (None, 60)           0           dense_2[0][0]                    \n",
            "==================================================================================================\n",
            "Total params: 125,105,153\n",
            "Trainable params: 125,105,153\n",
            "Non-trainable params: 0\n",
            "__________________________________________________________________________________________________\n"
          ],
          "name": "stdout"
        },
        {
          "output_type": "execute_result",
          "data": {
            "image/png": "[encoded data removed]",
            "text/plain": [
              "<IPython.core.display.Image object>"
            ]
          },
          "metadata": {
            "tags": []
          },
          "execution_count": 48
        }
      ]
    },
    {
      "cell_type": "code",
      "metadata": {
        "id": "k2dS74VSm7WZ"
      },
      "source": [
        "optimizer = tf.keras.optimizers.Adam(learning_rate = params['learning_rate'])\r\n",
        "model.compile(optimizer = optimizer,loss = binary_loss)\r\n",
        "weights_path = os.path.join(get_weights_path_folder(params), \"{epoch:02d}_epochs.h5\")\r\n",
        "checkpoint = ModelCheckpoint(weights_path, save_weights_only=True)"
      ],
      "execution_count": 49,
      "outputs": []
    },
    {
      "cell_type": "code",
      "metadata": {
        "id": "pgzHIANCdxJD"
      },
      "source": [
        "# create a folder to save the weights \r\n",
        "dir = get_weights_path_folder(params)\r\n",
        "if params['initial_epoch'] == 0:\r\n",
        "  if os.path.exists(dir):\r\n",
        "      shutil.rmtree(dir)\r\n",
        "  os.makedirs(dir)"
      ],
      "execution_count": 50,
      "outputs": []
    },
    {
      "cell_type": "code",
      "metadata": {
        "id": "U27nGFtQCvGW",
        "colab": {
          "base_uri": "https://localhost:8080/"
        },
        "outputId": "303516a1-63e5-4108-a9c6-2e406e52466e"
      },
      "source": [
        "hist = model.fit(train_input, train_output, epochs=params['epochs'], initial_epoch = params['initial_epoch'],\n",
        "                 sample_weight = sample_weight,\n",
        "                 callbacks = [checkpoint] )"
      ],
      "execution_count": 51,
      "outputs": [
        {
          "output_type": "stream",
          "text": [
            "The parameters `output_attentions`, `output_hidden_states` and `use_cache` cannot be updated when calling a model.They have to be set to True/False in the config object (i.e.: `config=XConfig.from_pretrained('name', output_attentions=True)`).\n",
            "The parameter `return_dict` cannot be set in graph mode and will always be set to `True`.\n"
          ],
          "name": "stderr"
        },
        {
          "output_type": "stream",
          "text": [
            "Epoch 1/5\n",
            "WARNING:tensorflow:Gradients do not exist for variables ['tf_roberta_model/roberta/pooler/dense/kernel:0', 'tf_roberta_model/roberta/pooler/dense/bias:0'] when minimizing the loss.\n"
          ],
          "name": "stdout"
        },
        {
          "output_type": "stream",
          "text": [
            "The parameters `output_attentions`, `output_hidden_states` and `use_cache` cannot be updated when calling a model.They have to be set to True/False in the config object (i.e.: `config=XConfig.from_pretrained('name', output_attentions=True)`).\n",
            "The parameter `return_dict` cannot be set in graph mode and will always be set to `True`.\n"
          ],
          "name": "stderr"
        },
        {
          "output_type": "stream",
          "text": [
            "WARNING:tensorflow:Gradients do not exist for variables ['tf_roberta_model/roberta/pooler/dense/kernel:0', 'tf_roberta_model/roberta/pooler/dense/bias:0'] when minimizing the loss.\n",
            "821/821 [==============================] - 344s 406ms/step - loss: 0.0647\n",
            "Epoch 2/5\n",
            "821/821 [==============================] - 333s 406ms/step - loss: 0.0480\n",
            "Epoch 3/5\n",
            "821/821 [==============================] - 334s 406ms/step - loss: 0.0418\n",
            "Epoch 4/5\n",
            "821/821 [==============================] - 333s 406ms/step - loss: 0.0338\n",
            "Epoch 5/5\n",
            "821/821 [==============================] - 334s 406ms/step - loss: 0.0287\n"
          ],
          "name": "stdout"
        }
      ]
    },
    {
      "cell_type": "code",
      "metadata": {
        "id": "NKxgzl4tQDyT",
        "colab": {
          "base_uri": "https://localhost:8080/",
          "height": 281
        },
        "outputId": "23d276b8-6b98-4058-e8dc-3fe0f8bf36b2"
      },
      "source": [
        "if params['initial_epoch'] == 0:\n",
        "  dir = get_weights_path_folder(params)\n",
        "  epoch_list = range(1,params['epochs']+1)\n",
        "  plt.plot(epoch_list, hist.history['loss'], label='train')\n",
        "  for x,y in zip(epoch_list, hist.history['loss']):\n",
        "    label = \"{:.4}\".format(y)\n",
        "    plt.annotate(label, (x,y))\n",
        "  plt.xlabel(\"Epoch\")\n",
        "  plt.ylabel(\"Loss\")\n",
        "  plt.legend()\n",
        "  plt.savefig(os.path.join(dir, \"loss\"))"
      ],
      "execution_count": 52,
      "outputs": [
        {
          "output_type": "display_data",
          "data": {
            "image/png": "[encoded data removed]",
            "text/plain": [
              "<Figure size 432x288 with 1 Axes>"
            ]
          },
          "metadata": {
            "tags": [],
            "needs_background": "light"
          }
        }
      ]
    },
    {
      "cell_type": "markdown",
      "metadata": {
        "id": "zV2NoLtsNH_W"
      },
      "source": [
        "### Generate F1 report across epochs"
      ]
    },
    {
      "cell_type": "code",
      "metadata": {
        "id": "OT3O-PD5AG-3"
      },
      "source": [
        "def calc_results(params, start_epoch, end_epoch):\r\n",
        "  params_copy = params.copy()\r\n",
        "  params_copy['training'] = False\r\n",
        "  model = get_model(params_copy)\r\n",
        "  train_mean_stats = []\r\n",
        "  test_mean_stats = []\r\n",
        "  for cur_epoch in range(start_epoch, end_epoch+1):\r\n",
        "    print(\"Epoch\",cur_epoch)\r\n",
        "    model.load_weights(get_weights_path(params, cur_epoch))\r\n",
        "    train_pred = model.predict(train_input, verbose = 1)\r\n",
        "    thresh, token_f1 = get_threshold(train_pred)\r\n",
        "    test_pred = model.predict(test_input, verbose = 1)\r\n",
        "    stats = post_process(train_data, train_data_processed, train_tokens, train_pred, thresh)\r\n",
        "    train_mean_stats.append(stats)\r\n",
        "    stats = post_process(test_data, test_data_processed, test_tokens, test_pred, thresh)\r\n",
        "    test_mean_stats.append(stats)\r\n",
        "  return train_mean_stats, test_mean_stats"
      ],
      "execution_count": 53,
      "outputs": []
    },
    {
      "cell_type": "code",
      "metadata": {
        "id": "Sf_Fh0HiXqfW"
      },
      "source": [
        "def print_results(params, train_mean_f1, test_mean_f1, save_results):\r\n",
        "  print(\"Mean F1\")\r\n",
        "  print('Train set peak val :',np.max(train_mean_f1, keepdims=True))\r\n",
        "  print('Test set peak val :',np.max(test_mean_f1, keepdims=True),'at epoch',1+np.argmax(test_mean_f1))\r\n",
        "  print()\r\n",
        "  num_epochs = len(train_mean_f1)\r\n",
        "  epoch_list = range(1,num_epochs+1)\r\n",
        "  plt.plot(epoch_list,train_mean_f1, label = \"train\")\r\n",
        "  plt.plot(epoch_list, test_mean_f1, label = \"test\")\r\n",
        "  for x,y in zip(epoch_list, train_mean_f1):\r\n",
        "    label = \"{:.4}\".format(y)\r\n",
        "    plt.annotate(label, (x,y), xytext = (0,7), textcoords = \"offset pixels\")\r\n",
        "  for x,y in zip(epoch_list, test_mean_f1):\r\n",
        "    label = \"{:.4}\".format(y)\r\n",
        "    plt.annotate(label, (x,y), xytext = (0,-7), textcoords = \"offset pixels\")\r\n",
        "  plt.legend()\r\n",
        "  plt.xlabel(\"Epoch\")\r\n",
        "  plt.ylabel(\"Mean F1 score\")\r\n",
        "  if save_results:\r\n",
        "    dir = get_weights_path_folder(params)\r\n",
        "    plt.savefig(os.path.join(dir, \"f1_scores\"))"
      ],
      "execution_count": 54,
      "outputs": []
    },
    {
      "cell_type": "code",
      "metadata": {
        "id": "70t_QGjCvBZH",
        "colab": {
          "base_uri": "https://localhost:8080/",
          "height": 1000
        },
        "outputId": "dddceb76-f0e3-4cd5-e4d2-8fcb8fa005f3"
      },
      "source": [
        "train_mean_stats, test_mean_stats = calc_results(params, 1, params['epochs'])\r\n",
        "print(\"Train dataset stats(f1, precision, recall) across epochs\")\r\n",
        "e = 1\r\n",
        "for stats in train_mean_stats:\r\n",
        "  print(\"Epoch\", e, end=\" \")\r\n",
        "  print(stats)\r\n",
        "  e += 1\r\n",
        "print()\r\n",
        "print(\"Test dataset stats(f1, precision, recall) across epochs\")\r\n",
        "e = 1\r\n",
        "for stats in test_mean_stats:\r\n",
        "  print(\"Epoch\", e, end=\" \")\r\n",
        "  print(stats)\r\n",
        "  e += 1\r\n",
        "print()\r\n",
        "train_mean_f1 = [stats[0] for stats in train_mean_stats]\r\n",
        "test_mean_f1 = [stats[0] for stats in test_mean_stats]\r\n",
        "print_results(params, train_mean_f1, test_mean_f1 , True)"
      ],
      "execution_count": 55,
      "outputs": [
        {
          "output_type": "stream",
          "text": [
            "Some weights of the PyTorch model were not used when initializing the TF 2.0 model TFRobertaModel: ['lm_head.decoder.bias', 'lm_head.layer_norm.bias', 'roberta.embeddings.position_ids', 'lm_head.dense.bias', 'lm_head.bias', 'lm_head.layer_norm.weight', 'lm_head.dense.weight', 'lm_head.decoder.weight']\n",
            "- This IS expected if you are initializing TFRobertaModel from a PyTorch model trained on another task or with another architecture (e.g. initializing a TFBertForSequenceClassification model from a BertForPreTraining model).\n",
            "- This IS NOT expected if you are initializing TFRobertaModel from a PyTorch model that you expect to be exactly identical (e.g. initializing a TFBertForSequenceClassification model from a BertForSequenceClassification model).\n",
            "Some weights or buffers of the TF 2.0 model TFRobertaModel were not initialized from the PyTorch model and are newly initialized: ['roberta.pooler.dense.weight', 'roberta.pooler.dense.bias']\n",
            "You should probably TRAIN this model on a down-stream task to be able to use it for predictions and inference.\n",
            "The parameters `output_attentions`, `output_hidden_states` and `use_cache` cannot be updated when calling a model.They have to be set to True/False in the config object (i.e.: `config=XConfig.from_pretrained('name', output_attentions=True)`).\n",
            "The parameter `return_dict` cannot be set in graph mode and will always be set to `True`.\n"
          ],
          "name": "stderr"
        },
        {
          "output_type": "stream",
          "text": [
            "Epoch 1\n"
          ],
          "name": "stdout"
        },
        {
          "output_type": "stream",
          "text": [
            "The parameters `output_attentions`, `output_hidden_states` and `use_cache` cannot be updated when calling a model.They have to be set to True/False in the config object (i.e.: `config=XConfig.from_pretrained('name', output_attentions=True)`).\n",
            "The parameter `return_dict` cannot be set in graph mode and will always be set to `True`.\n"
          ],
          "name": "stderr"
        },
        {
          "output_type": "stream",
          "text": [
            "821/821 [==============================] - 104s 125ms/step\n",
            "193/193 [==============================] - 24s 126ms/step\n",
            "Epoch 2\n",
            "821/821 [==============================] - 102s 125ms/step\n",
            "193/193 [==============================] - 24s 126ms/step\n",
            "Epoch 3\n",
            "821/821 [==============================] - 102s 125ms/step\n",
            "193/193 [==============================] - 24s 126ms/step\n",
            "Epoch 4\n",
            "821/821 [==============================] - 102s 125ms/step\n",
            "193/193 [==============================] - 24s 125ms/step\n",
            "Epoch 5\n",
            "821/821 [==============================] - 102s 125ms/step\n",
            "193/193 [==============================] - 24s 125ms/step\n",
            "Train dataset stats(f1, precision, recall) across epochs\n",
            "Epoch 1 (0.6563955795367049, 0.6980540312208767, 0.7385306402230409)\n",
            "Epoch 2 (0.6736612843608984, 0.6996034125983769, 0.7687403374105055)\n",
            "Epoch 3 (0.7005288996886688, 0.7174305931700858, 0.7877375095863125)\n",
            "Epoch 4 (0.7299555787836987, 0.7544266985627818, 0.7879830068084818)\n",
            "Epoch 5 (0.7442275921806, 0.7834170835535188, 0.7725970288188012)\n",
            "\n",
            "Test dataset stats(f1, precision, recall) across epochs\n",
            "Epoch 1 (0.6240503717667709, 0.589605475280534, 0.7584800067530627)\n",
            "Epoch 2 (0.6148219633231756, 0.5750026626773594, 0.7630378065657815)\n",
            "Epoch 3 (0.6130619920937936, 0.5774338325624193, 0.7545004288006246)\n",
            "Epoch 4 (0.625201383533541, 0.596529639196542, 0.7474673557170117)\n",
            "Epoch 5 (0.6375770018005389, 0.6259477070510523, 0.7263632548870064)\n",
            "\n",
            "Mean F1\n",
            "Train set peak val : [0.74422759]\n",
            "Test set peak val : [0.637577] at epoch 5\n",
            "\n"
          ],
          "name": "stdout"
        },
        {
          "output_type": "display_data",
          "data": {
            "image/png": "[encoded data removed]",
            "text/plain": [
              "<Figure size 432x288 with 1 Axes>"
            ]
          },
          "metadata": {
            "tags": [],
            "needs_background": "light"
          }
        }
      ]
    },
    {
      "cell_type": "code",
      "metadata": {
        "id": "mXFWcfTMbr3t"
      },
      "source": [
        ""
      ],
      "execution_count": 55,
      "outputs": []
    }
  ]
}