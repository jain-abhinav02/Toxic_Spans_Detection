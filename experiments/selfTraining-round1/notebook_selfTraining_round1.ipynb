{
  "nbformat": 4,
  "nbformat_minor": 0,
  "metadata": {
    "colab": {
      "name": "notebook_selfTraining_round1.ipynb",
      "provenance": [],
      "collapsed_sections": [
        "yHlk_Km8a-Kv",
        "uQsj_JPlUfAQ",
        "2k5Wji1PrfEW",
        "iegET0hh4S_h",
        "g30VInoZb-Gr",
        "Y0D54FuKIGkp",
        "Zo0jX_Vs4t3w",
        "RpUkXiqLSPTv",
        "wuAQXCUy43-l",
        "JXUyyOsC5G2c"
      ],
      "toc_visible": true
    },
    "kernelspec": {
      "display_name": "Python 3",
      "name": "python3"
    },
    "widgets": {
      "application/vnd.jupyter.widget-state+json": {
        "2c12c62c8537481e9e4a2a972380f151": {
          "model_module": "@jupyter-widgets/controls",
          "model_name": "HBoxModel",
          "state": {
            "_view_name": "HBoxView",
            "_dom_classes": [],
            "_model_name": "HBoxModel",
            "_view_module": "@jupyter-widgets/controls",
            "_model_module_version": "1.5.0",
            "_view_count": null,
            "_view_module_version": "1.5.0",
            "box_style": "",
            "layout": "IPY_MODEL_5387e73f5f0e48fc858f01a59dbb250d",
            "_model_module": "@jupyter-widgets/controls",
            "children": [
              "IPY_MODEL_63a6398f8b724f48ba1f069cf884be01",
              "IPY_MODEL_cdd0cc59fd5d4bf6beba2db82cd319ff"
            ]
          }
        },
        "5387e73f5f0e48fc858f01a59dbb250d": {
          "model_module": "@jupyter-widgets/base",
          "model_name": "LayoutModel",
          "state": {
            "_view_name": "LayoutView",
            "grid_template_rows": null,
            "right": null,
            "justify_content": null,
            "_view_module": "@jupyter-widgets/base",
            "overflow": null,
            "_model_module_version": "1.2.0",
            "_view_count": null,
            "flex_flow": null,
            "width": null,
            "min_width": null,
            "border": null,
            "align_items": null,
            "bottom": null,
            "_model_module": "@jupyter-widgets/base",
            "top": null,
            "grid_column": null,
            "overflow_y": null,
            "overflow_x": null,
            "grid_auto_flow": null,
            "grid_area": null,
            "grid_template_columns": null,
            "flex": null,
            "_model_name": "LayoutModel",
            "justify_items": null,
            "grid_row": null,
            "max_height": null,
            "align_content": null,
            "visibility": null,
            "align_self": null,
            "height": null,
            "min_height": null,
            "padding": null,
            "grid_auto_rows": null,
            "grid_gap": null,
            "max_width": null,
            "order": null,
            "_view_module_version": "1.2.0",
            "grid_template_areas": null,
            "object_position": null,
            "object_fit": null,
            "grid_auto_columns": null,
            "margin": null,
            "display": null,
            "left": null
          }
        },
        "63a6398f8b724f48ba1f069cf884be01": {
          "model_module": "@jupyter-widgets/controls",
          "model_name": "FloatProgressModel",
          "state": {
            "_view_name": "ProgressView",
            "style": "IPY_MODEL_6810a9ac881641f1a3472ee915ea9023",
            "_dom_classes": [],
            "description": "Downloading: 100%",
            "_model_name": "FloatProgressModel",
            "bar_style": "success",
            "max": 898823,
            "_view_module": "@jupyter-widgets/controls",
            "_model_module_version": "1.5.0",
            "value": 898823,
            "_view_count": null,
            "_view_module_version": "1.5.0",
            "orientation": "horizontal",
            "min": 0,
            "description_tooltip": null,
            "_model_module": "@jupyter-widgets/controls",
            "layout": "IPY_MODEL_78680791c7fd41db8c5dce22ff74b9d4"
          }
        },
        "cdd0cc59fd5d4bf6beba2db82cd319ff": {
          "model_module": "@jupyter-widgets/controls",
          "model_name": "HTMLModel",
          "state": {
            "_view_name": "HTMLView",
            "style": "IPY_MODEL_6b60cdb8a602487cad794126818e6781",
            "_dom_classes": [],
            "description": "",
            "_model_name": "HTMLModel",
            "placeholder": "​",
            "_view_module": "@jupyter-widgets/controls",
            "_model_module_version": "1.5.0",
            "value": " 899k/899k [00:05&lt;00:00, 159kB/s]",
            "_view_count": null,
            "_view_module_version": "1.5.0",
            "description_tooltip": null,
            "_model_module": "@jupyter-widgets/controls",
            "layout": "IPY_MODEL_bfc5f35f8ef94d91800ff3a5dcf79042"
          }
        },
        "6810a9ac881641f1a3472ee915ea9023": {
          "model_module": "@jupyter-widgets/controls",
          "model_name": "ProgressStyleModel",
          "state": {
            "_view_name": "StyleView",
            "_model_name": "ProgressStyleModel",
            "description_width": "initial",
            "_view_module": "@jupyter-widgets/base",
            "_model_module_version": "1.5.0",
            "_view_count": null,
            "_view_module_version": "1.2.0",
            "bar_color": null,
            "_model_module": "@jupyter-widgets/controls"
          }
        },
        "78680791c7fd41db8c5dce22ff74b9d4": {
          "model_module": "@jupyter-widgets/base",
          "model_name": "LayoutModel",
          "state": {
            "_view_name": "LayoutView",
            "grid_template_rows": null,
            "right": null,
            "justify_content": null,
            "_view_module": "@jupyter-widgets/base",
            "overflow": null,
            "_model_module_version": "1.2.0",
            "_view_count": null,
            "flex_flow": null,
            "width": null,
            "min_width": null,
            "border": null,
            "align_items": null,
            "bottom": null,
            "_model_module": "@jupyter-widgets/base",
            "top": null,
            "grid_column": null,
            "overflow_y": null,
            "overflow_x": null,
            "grid_auto_flow": null,
            "grid_area": null,
            "grid_template_columns": null,
            "flex": null,
            "_model_name": "LayoutModel",
            "justify_items": null,
            "grid_row": null,
            "max_height": null,
            "align_content": null,
            "visibility": null,
            "align_self": null,
            "height": null,
            "min_height": null,
            "padding": null,
            "grid_auto_rows": null,
            "grid_gap": null,
            "max_width": null,
            "order": null,
            "_view_module_version": "1.2.0",
            "grid_template_areas": null,
            "object_position": null,
            "object_fit": null,
            "grid_auto_columns": null,
            "margin": null,
            "display": null,
            "left": null
          }
        },
        "6b60cdb8a602487cad794126818e6781": {
          "model_module": "@jupyter-widgets/controls",
          "model_name": "DescriptionStyleModel",
          "state": {
            "_view_name": "StyleView",
            "_model_name": "DescriptionStyleModel",
            "description_width": "",
            "_view_module": "@jupyter-widgets/base",
            "_model_module_version": "1.5.0",
            "_view_count": null,
            "_view_module_version": "1.2.0",
            "_model_module": "@jupyter-widgets/controls"
          }
        },
        "bfc5f35f8ef94d91800ff3a5dcf79042": {
          "model_module": "@jupyter-widgets/base",
          "model_name": "LayoutModel",
          "state": {
            "_view_name": "LayoutView",
            "grid_template_rows": null,
            "right": null,
            "justify_content": null,
            "_view_module": "@jupyter-widgets/base",
            "overflow": null,
            "_model_module_version": "1.2.0",
            "_view_count": null,
            "flex_flow": null,
            "width": null,
            "min_width": null,
            "border": null,
            "align_items": null,
            "bottom": null,
            "_model_module": "@jupyter-widgets/base",
            "top": null,
            "grid_column": null,
            "overflow_y": null,
            "overflow_x": null,
            "grid_auto_flow": null,
            "grid_area": null,
            "grid_template_columns": null,
            "flex": null,
            "_model_name": "LayoutModel",
            "justify_items": null,
            "grid_row": null,
            "max_height": null,
            "align_content": null,
            "visibility": null,
            "align_self": null,
            "height": null,
            "min_height": null,
            "padding": null,
            "grid_auto_rows": null,
            "grid_gap": null,
            "max_width": null,
            "order": null,
            "_view_module_version": "1.2.0",
            "grid_template_areas": null,
            "object_position": null,
            "object_fit": null,
            "grid_auto_columns": null,
            "margin": null,
            "display": null,
            "left": null
          }
        },
        "d4d712c143944105b5a7b5d19bfd3881": {
          "model_module": "@jupyter-widgets/controls",
          "model_name": "HBoxModel",
          "state": {
            "_view_name": "HBoxView",
            "_dom_classes": [],
            "_model_name": "HBoxModel",
            "_view_module": "@jupyter-widgets/controls",
            "_model_module_version": "1.5.0",
            "_view_count": null,
            "_view_module_version": "1.5.0",
            "box_style": "",
            "layout": "IPY_MODEL_8016c51b8c9d41f78f3f26a7a3a93964",
            "_model_module": "@jupyter-widgets/controls",
            "children": [
              "IPY_MODEL_b6640136766d495bba0bba4cc01f82d6",
              "IPY_MODEL_821c98b507fb461cbf3fc7712ed35437"
            ]
          }
        },
        "8016c51b8c9d41f78f3f26a7a3a93964": {
          "model_module": "@jupyter-widgets/base",
          "model_name": "LayoutModel",
          "state": {
            "_view_name": "LayoutView",
            "grid_template_rows": null,
            "right": null,
            "justify_content": null,
            "_view_module": "@jupyter-widgets/base",
            "overflow": null,
            "_model_module_version": "1.2.0",
            "_view_count": null,
            "flex_flow": null,
            "width": null,
            "min_width": null,
            "border": null,
            "align_items": null,
            "bottom": null,
            "_model_module": "@jupyter-widgets/base",
            "top": null,
            "grid_column": null,
            "overflow_y": null,
            "overflow_x": null,
            "grid_auto_flow": null,
            "grid_area": null,
            "grid_template_columns": null,
            "flex": null,
            "_model_name": "LayoutModel",
            "justify_items": null,
            "grid_row": null,
            "max_height": null,
            "align_content": null,
            "visibility": null,
            "align_self": null,
            "height": null,
            "min_height": null,
            "padding": null,
            "grid_auto_rows": null,
            "grid_gap": null,
            "max_width": null,
            "order": null,
            "_view_module_version": "1.2.0",
            "grid_template_areas": null,
            "object_position": null,
            "object_fit": null,
            "grid_auto_columns": null,
            "margin": null,
            "display": null,
            "left": null
          }
        },
        "b6640136766d495bba0bba4cc01f82d6": {
          "model_module": "@jupyter-widgets/controls",
          "model_name": "FloatProgressModel",
          "state": {
            "_view_name": "ProgressView",
            "style": "IPY_MODEL_1d9438544f8642cc9a7766296b91779e",
            "_dom_classes": [],
            "description": "Downloading: 100%",
            "_model_name": "FloatProgressModel",
            "bar_style": "success",
            "max": 456318,
            "_view_module": "@jupyter-widgets/controls",
            "_model_module_version": "1.5.0",
            "value": 456318,
            "_view_count": null,
            "_view_module_version": "1.5.0",
            "orientation": "horizontal",
            "min": 0,
            "description_tooltip": null,
            "_model_module": "@jupyter-widgets/controls",
            "layout": "IPY_MODEL_da8ec91b161d4efd9017e24453e0bfd7"
          }
        },
        "821c98b507fb461cbf3fc7712ed35437": {
          "model_module": "@jupyter-widgets/controls",
          "model_name": "HTMLModel",
          "state": {
            "_view_name": "HTMLView",
            "style": "IPY_MODEL_425970a8fa1141f389b9d7099b154b3c",
            "_dom_classes": [],
            "description": "",
            "_model_name": "HTMLModel",
            "placeholder": "​",
            "_view_module": "@jupyter-widgets/controls",
            "_model_module_version": "1.5.0",
            "value": " 456k/456k [00:00&lt;00:00, 580kB/s]",
            "_view_count": null,
            "_view_module_version": "1.5.0",
            "description_tooltip": null,
            "_model_module": "@jupyter-widgets/controls",
            "layout": "IPY_MODEL_21073cb7916c443cb17f6a78ec11a588"
          }
        },
        "1d9438544f8642cc9a7766296b91779e": {
          "model_module": "@jupyter-widgets/controls",
          "model_name": "ProgressStyleModel",
          "state": {
            "_view_name": "StyleView",
            "_model_name": "ProgressStyleModel",
            "description_width": "initial",
            "_view_module": "@jupyter-widgets/base",
            "_model_module_version": "1.5.0",
            "_view_count": null,
            "_view_module_version": "1.2.0",
            "bar_color": null,
            "_model_module": "@jupyter-widgets/controls"
          }
        },
        "da8ec91b161d4efd9017e24453e0bfd7": {
          "model_module": "@jupyter-widgets/base",
          "model_name": "LayoutModel",
          "state": {
            "_view_name": "LayoutView",
            "grid_template_rows": null,
            "right": null,
            "justify_content": null,
            "_view_module": "@jupyter-widgets/base",
            "overflow": null,
            "_model_module_version": "1.2.0",
            "_view_count": null,
            "flex_flow": null,
            "width": null,
            "min_width": null,
            "border": null,
            "align_items": null,
            "bottom": null,
            "_model_module": "@jupyter-widgets/base",
            "top": null,
            "grid_column": null,
            "overflow_y": null,
            "overflow_x": null,
            "grid_auto_flow": null,
            "grid_area": null,
            "grid_template_columns": null,
            "flex": null,
            "_model_name": "LayoutModel",
            "justify_items": null,
            "grid_row": null,
            "max_height": null,
            "align_content": null,
            "visibility": null,
            "align_self": null,
            "height": null,
            "min_height": null,
            "padding": null,
            "grid_auto_rows": null,
            "grid_gap": null,
            "max_width": null,
            "order": null,
            "_view_module_version": "1.2.0",
            "grid_template_areas": null,
            "object_position": null,
            "object_fit": null,
            "grid_auto_columns": null,
            "margin": null,
            "display": null,
            "left": null
          }
        },
        "425970a8fa1141f389b9d7099b154b3c": {
          "model_module": "@jupyter-widgets/controls",
          "model_name": "DescriptionStyleModel",
          "state": {
            "_view_name": "StyleView",
            "_model_name": "DescriptionStyleModel",
            "description_width": "",
            "_view_module": "@jupyter-widgets/base",
            "_model_module_version": "1.5.0",
            "_view_count": null,
            "_view_module_version": "1.2.0",
            "_model_module": "@jupyter-widgets/controls"
          }
        },
        "21073cb7916c443cb17f6a78ec11a588": {
          "model_module": "@jupyter-widgets/base",
          "model_name": "LayoutModel",
          "state": {
            "_view_name": "LayoutView",
            "grid_template_rows": null,
            "right": null,
            "justify_content": null,
            "_view_module": "@jupyter-widgets/base",
            "overflow": null,
            "_model_module_version": "1.2.0",
            "_view_count": null,
            "flex_flow": null,
            "width": null,
            "min_width": null,
            "border": null,
            "align_items": null,
            "bottom": null,
            "_model_module": "@jupyter-widgets/base",
            "top": null,
            "grid_column": null,
            "overflow_y": null,
            "overflow_x": null,
            "grid_auto_flow": null,
            "grid_area": null,
            "grid_template_columns": null,
            "flex": null,
            "_model_name": "LayoutModel",
            "justify_items": null,
            "grid_row": null,
            "max_height": null,
            "align_content": null,
            "visibility": null,
            "align_self": null,
            "height": null,
            "min_height": null,
            "padding": null,
            "grid_auto_rows": null,
            "grid_gap": null,
            "max_width": null,
            "order": null,
            "_view_module_version": "1.2.0",
            "grid_template_areas": null,
            "object_position": null,
            "object_fit": null,
            "grid_auto_columns": null,
            "margin": null,
            "display": null,
            "left": null
          }
        },
        "35f3461c5f734dc6a67545193bdaa8a2": {
          "model_module": "@jupyter-widgets/controls",
          "model_name": "HBoxModel",
          "state": {
            "_view_name": "HBoxView",
            "_dom_classes": [],
            "_model_name": "HBoxModel",
            "_view_module": "@jupyter-widgets/controls",
            "_model_module_version": "1.5.0",
            "_view_count": null,
            "_view_module_version": "1.5.0",
            "box_style": "",
            "layout": "IPY_MODEL_bba5e5892d7148ab97ecd9e3dd483ed8",
            "_model_module": "@jupyter-widgets/controls",
            "children": [
              "IPY_MODEL_02fc3d86bb8041a096f839a83d4712ed",
              "IPY_MODEL_73093434e4f04a828dc31cecd3e4662d"
            ]
          }
        },
        "bba5e5892d7148ab97ecd9e3dd483ed8": {
          "model_module": "@jupyter-widgets/base",
          "model_name": "LayoutModel",
          "state": {
            "_view_name": "LayoutView",
            "grid_template_rows": null,
            "right": null,
            "justify_content": null,
            "_view_module": "@jupyter-widgets/base",
            "overflow": null,
            "_model_module_version": "1.2.0",
            "_view_count": null,
            "flex_flow": null,
            "width": null,
            "min_width": null,
            "border": null,
            "align_items": null,
            "bottom": null,
            "_model_module": "@jupyter-widgets/base",
            "top": null,
            "grid_column": null,
            "overflow_y": null,
            "overflow_x": null,
            "grid_auto_flow": null,
            "grid_area": null,
            "grid_template_columns": null,
            "flex": null,
            "_model_name": "LayoutModel",
            "justify_items": null,
            "grid_row": null,
            "max_height": null,
            "align_content": null,
            "visibility": null,
            "align_self": null,
            "height": null,
            "min_height": null,
            "padding": null,
            "grid_auto_rows": null,
            "grid_gap": null,
            "max_width": null,
            "order": null,
            "_view_module_version": "1.2.0",
            "grid_template_areas": null,
            "object_position": null,
            "object_fit": null,
            "grid_auto_columns": null,
            "margin": null,
            "display": null,
            "left": null
          }
        },
        "02fc3d86bb8041a096f839a83d4712ed": {
          "model_module": "@jupyter-widgets/controls",
          "model_name": "FloatProgressModel",
          "state": {
            "_view_name": "ProgressView",
            "style": "IPY_MODEL_e20e83722bd94a368219dea1a695b67c",
            "_dom_classes": [],
            "description": "Downloading: 100%",
            "_model_name": "FloatProgressModel",
            "bar_style": "success",
            "max": 1355863,
            "_view_module": "@jupyter-widgets/controls",
            "_model_module_version": "1.5.0",
            "value": 1355863,
            "_view_count": null,
            "_view_module_version": "1.5.0",
            "orientation": "horizontal",
            "min": 0,
            "description_tooltip": null,
            "_model_module": "@jupyter-widgets/controls",
            "layout": "IPY_MODEL_b94fb5fbdd634ffd8147d8f666fa0476"
          }
        },
        "73093434e4f04a828dc31cecd3e4662d": {
          "model_module": "@jupyter-widgets/controls",
          "model_name": "HTMLModel",
          "state": {
            "_view_name": "HTMLView",
            "style": "IPY_MODEL_b3eb06c690f441279b3f6bb70d359403",
            "_dom_classes": [],
            "description": "",
            "_model_name": "HTMLModel",
            "placeholder": "​",
            "_view_module": "@jupyter-widgets/controls",
            "_model_module_version": "1.5.0",
            "value": " 1.36M/1.36M [00:04&lt;00:00, 334kB/s]",
            "_view_count": null,
            "_view_module_version": "1.5.0",
            "description_tooltip": null,
            "_model_module": "@jupyter-widgets/controls",
            "layout": "IPY_MODEL_253617ec75df4b09bc36ef0f244b5513"
          }
        },
        "e20e83722bd94a368219dea1a695b67c": {
          "model_module": "@jupyter-widgets/controls",
          "model_name": "ProgressStyleModel",
          "state": {
            "_view_name": "StyleView",
            "_model_name": "ProgressStyleModel",
            "description_width": "initial",
            "_view_module": "@jupyter-widgets/base",
            "_model_module_version": "1.5.0",
            "_view_count": null,
            "_view_module_version": "1.2.0",
            "bar_color": null,
            "_model_module": "@jupyter-widgets/controls"
          }
        },
        "b94fb5fbdd634ffd8147d8f666fa0476": {
          "model_module": "@jupyter-widgets/base",
          "model_name": "LayoutModel",
          "state": {
            "_view_name": "LayoutView",
            "grid_template_rows": null,
            "right": null,
            "justify_content": null,
            "_view_module": "@jupyter-widgets/base",
            "overflow": null,
            "_model_module_version": "1.2.0",
            "_view_count": null,
            "flex_flow": null,
            "width": null,
            "min_width": null,
            "border": null,
            "align_items": null,
            "bottom": null,
            "_model_module": "@jupyter-widgets/base",
            "top": null,
            "grid_column": null,
            "overflow_y": null,
            "overflow_x": null,
            "grid_auto_flow": null,
            "grid_area": null,
            "grid_template_columns": null,
            "flex": null,
            "_model_name": "LayoutModel",
            "justify_items": null,
            "grid_row": null,
            "max_height": null,
            "align_content": null,
            "visibility": null,
            "align_self": null,
            "height": null,
            "min_height": null,
            "padding": null,
            "grid_auto_rows": null,
            "grid_gap": null,
            "max_width": null,
            "order": null,
            "_view_module_version": "1.2.0",
            "grid_template_areas": null,
            "object_position": null,
            "object_fit": null,
            "grid_auto_columns": null,
            "margin": null,
            "display": null,
            "left": null
          }
        },
        "b3eb06c690f441279b3f6bb70d359403": {
          "model_module": "@jupyter-widgets/controls",
          "model_name": "DescriptionStyleModel",
          "state": {
            "_view_name": "StyleView",
            "_model_name": "DescriptionStyleModel",
            "description_width": "",
            "_view_module": "@jupyter-widgets/base",
            "_model_module_version": "1.5.0",
            "_view_count": null,
            "_view_module_version": "1.2.0",
            "_model_module": "@jupyter-widgets/controls"
          }
        },
        "253617ec75df4b09bc36ef0f244b5513": {
          "model_module": "@jupyter-widgets/base",
          "model_name": "LayoutModel",
          "state": {
            "_view_name": "LayoutView",
            "grid_template_rows": null,
            "right": null,
            "justify_content": null,
            "_view_module": "@jupyter-widgets/base",
            "overflow": null,
            "_model_module_version": "1.2.0",
            "_view_count": null,
            "flex_flow": null,
            "width": null,
            "min_width": null,
            "border": null,
            "align_items": null,
            "bottom": null,
            "_model_module": "@jupyter-widgets/base",
            "top": null,
            "grid_column": null,
            "overflow_y": null,
            "overflow_x": null,
            "grid_auto_flow": null,
            "grid_area": null,
            "grid_template_columns": null,
            "flex": null,
            "_model_name": "LayoutModel",
            "justify_items": null,
            "grid_row": null,
            "max_height": null,
            "align_content": null,
            "visibility": null,
            "align_self": null,
            "height": null,
            "min_height": null,
            "padding": null,
            "grid_auto_rows": null,
            "grid_gap": null,
            "max_width": null,
            "order": null,
            "_view_module_version": "1.2.0",
            "grid_template_areas": null,
            "object_position": null,
            "object_fit": null,
            "grid_auto_columns": null,
            "margin": null,
            "display": null,
            "left": null
          }
        }
      }
    },
    "accelerator": "GPU"
  },
  "cells": [
    {
      "cell_type": "markdown",
      "metadata": {
        "id": "8qDUMrLvJ8EI"
      },
      "source": [
        "### Install dependencies"
      ]
    },
    {
      "cell_type": "code",
      "metadata": {
        "colab": {
          "base_uri": "https://localhost:8080/"
        },
        "id": "zFpnKanL55zK",
        "outputId": "fe644383-aff7-47fa-8cba-b8125a264ecf"
      },
      "source": [
        "!pip install transformers"
      ],
      "execution_count": null,
      "outputs": [
        {
          "output_type": "stream",
          "text": [
            "Collecting transformers\n",
            "\u001b[?25l  Downloading https://files.pythonhosted.org/packages/88/b1/41130a228dd656a1a31ba281598a968320283f48d42782845f6ba567f00b/transformers-4.2.2-py3-none-any.whl (1.8MB)\n",
            "\u001b[K     |████████████████████████████████| 1.8MB 8.9MB/s \n",
            "\u001b[?25hRequirement already satisfied: regex!=2019.12.17 in /usr/local/lib/python3.6/dist-packages (from transformers) (2019.12.20)\n",
            "Collecting sacremoses\n",
            "\u001b[?25l  Downloading https://files.pythonhosted.org/packages/7d/34/09d19aff26edcc8eb2a01bed8e98f13a1537005d31e95233fd48216eed10/sacremoses-0.0.43.tar.gz (883kB)\n",
            "\u001b[K     |████████████████████████████████| 890kB 47.0MB/s \n",
            "\u001b[?25hRequirement already satisfied: dataclasses; python_version < \"3.7\" in /usr/local/lib/python3.6/dist-packages (from transformers) (0.8)\n",
            "Requirement already satisfied: requests in /usr/local/lib/python3.6/dist-packages (from transformers) (2.23.0)\n",
            "Requirement already satisfied: packaging in /usr/local/lib/python3.6/dist-packages (from transformers) (20.9)\n",
            "Collecting tokenizers==0.9.4\n",
            "\u001b[?25l  Downloading https://files.pythonhosted.org/packages/0f/1c/e789a8b12e28be5bc1ce2156cf87cb522b379be9cadc7ad8091a4cc107c4/tokenizers-0.9.4-cp36-cp36m-manylinux2010_x86_64.whl (2.9MB)\n",
            "\u001b[K     |████████████████████████████████| 2.9MB 53.0MB/s \n",
            "\u001b[?25hRequirement already satisfied: filelock in /usr/local/lib/python3.6/dist-packages (from transformers) (3.0.12)\n",
            "Requirement already satisfied: importlib-metadata; python_version < \"3.8\" in /usr/local/lib/python3.6/dist-packages (from transformers) (3.4.0)\n",
            "Requirement already satisfied: numpy in /usr/local/lib/python3.6/dist-packages (from transformers) (1.19.5)\n",
            "Requirement already satisfied: tqdm>=4.27 in /usr/local/lib/python3.6/dist-packages (from transformers) (4.41.1)\n",
            "Requirement already satisfied: six in /usr/local/lib/python3.6/dist-packages (from sacremoses->transformers) (1.15.0)\n",
            "Requirement already satisfied: click in /usr/local/lib/python3.6/dist-packages (from sacremoses->transformers) (7.1.2)\n",
            "Requirement already satisfied: joblib in /usr/local/lib/python3.6/dist-packages (from sacremoses->transformers) (1.0.0)\n",
            "Requirement already satisfied: chardet<4,>=3.0.2 in /usr/local/lib/python3.6/dist-packages (from requests->transformers) (3.0.4)\n",
            "Requirement already satisfied: urllib3!=1.25.0,!=1.25.1,<1.26,>=1.21.1 in /usr/local/lib/python3.6/dist-packages (from requests->transformers) (1.24.3)\n",
            "Requirement already satisfied: idna<3,>=2.5 in /usr/local/lib/python3.6/dist-packages (from requests->transformers) (2.10)\n",
            "Requirement already satisfied: certifi>=2017.4.17 in /usr/local/lib/python3.6/dist-packages (from requests->transformers) (2020.12.5)\n",
            "Requirement already satisfied: pyparsing>=2.0.2 in /usr/local/lib/python3.6/dist-packages (from packaging->transformers) (2.4.7)\n",
            "Requirement already satisfied: zipp>=0.5 in /usr/local/lib/python3.6/dist-packages (from importlib-metadata; python_version < \"3.8\"->transformers) (3.4.0)\n",
            "Requirement already satisfied: typing-extensions>=3.6.4; python_version < \"3.8\" in /usr/local/lib/python3.6/dist-packages (from importlib-metadata; python_version < \"3.8\"->transformers) (3.7.4.3)\n",
            "Building wheels for collected packages: sacremoses\n",
            "  Building wheel for sacremoses (setup.py) ... \u001b[?25l\u001b[?25hdone\n",
            "  Created wheel for sacremoses: filename=sacremoses-0.0.43-cp36-none-any.whl size=893261 sha256=9a61c958967764b14c89420e3967d4ce9df10d278261c0e9b0bf34b3c40bf7e2\n",
            "  Stored in directory: /root/.cache/pip/wheels/29/3c/fd/7ce5c3f0666dab31a50123635e6fb5e19ceb42ce38d4e58f45\n",
            "Successfully built sacremoses\n",
            "Installing collected packages: sacremoses, tokenizers, transformers\n",
            "Successfully installed sacremoses-0.0.43 tokenizers-0.9.4 transformers-4.2.2\n"
          ],
          "name": "stdout"
        }
      ]
    },
    {
      "cell_type": "code",
      "metadata": {
        "colab": {
          "base_uri": "https://localhost:8080/"
        },
        "id": "9fVJqNHsgBwu",
        "outputId": "f233df24-02f1-449b-ebd8-eeed4d95a011"
      },
      "source": [
        "from google.colab import drive\n",
        "drive.mount('/content/drive')"
      ],
      "execution_count": null,
      "outputs": [
        {
          "output_type": "stream",
          "text": [
            "Mounted at /content/drive\n"
          ],
          "name": "stdout"
        }
      ]
    },
    {
      "cell_type": "markdown",
      "metadata": {
        "id": "yHlk_Km8a-Kv"
      },
      "source": [
        "### Setup BERT/RoBERTa using Hugging Face Module"
      ]
    },
    {
      "cell_type": "code",
      "metadata": {
        "id": "F970PEkDvude"
      },
      "source": [
        "from numpy.random import seed\r\n",
        "from tensorflow.random import set_seed\r\n",
        "seed(1)\r\n",
        "set_seed(2)"
      ],
      "execution_count": null,
      "outputs": []
    },
    {
      "cell_type": "code",
      "metadata": {
        "id": "1BwdPSSfvVJr"
      },
      "source": [
        "import os\r\n",
        "import shutil\r\n",
        "data_path = os.path.join(\"drive\",\"My Drive\",\"toxic_span_identification\")"
      ],
      "execution_count": null,
      "outputs": []
    },
    {
      "cell_type": "code",
      "metadata": {
        "id": "9clYm59x1wDt",
        "colab": {
          "base_uri": "https://localhost:8080/",
          "height": 164,
          "referenced_widgets": [
            "2c12c62c8537481e9e4a2a972380f151",
            "5387e73f5f0e48fc858f01a59dbb250d",
            "63a6398f8b724f48ba1f069cf884be01",
            "cdd0cc59fd5d4bf6beba2db82cd319ff",
            "6810a9ac881641f1a3472ee915ea9023",
            "78680791c7fd41db8c5dce22ff74b9d4",
            "6b60cdb8a602487cad794126818e6781",
            "bfc5f35f8ef94d91800ff3a5dcf79042",
            "d4d712c143944105b5a7b5d19bfd3881",
            "8016c51b8c9d41f78f3f26a7a3a93964",
            "b6640136766d495bba0bba4cc01f82d6",
            "821c98b507fb461cbf3fc7712ed35437",
            "1d9438544f8642cc9a7766296b91779e",
            "da8ec91b161d4efd9017e24453e0bfd7",
            "425970a8fa1141f389b9d7099b154b3c",
            "21073cb7916c443cb17f6a78ec11a588",
            "35f3461c5f734dc6a67545193bdaa8a2",
            "bba5e5892d7148ab97ecd9e3dd483ed8",
            "02fc3d86bb8041a096f839a83d4712ed",
            "73093434e4f04a828dc31cecd3e4662d",
            "e20e83722bd94a368219dea1a695b67c",
            "b94fb5fbdd634ffd8147d8f666fa0476",
            "b3eb06c690f441279b3f6bb70d359403",
            "253617ec75df4b09bc36ef0f244b5513"
          ]
        },
        "outputId": "223a72b8-a981-4724-a789-5c915e73dbf7"
      },
      "source": [
        "from transformers import RobertaTokenizerFast, TFRobertaModel\n",
        "tokenizer = RobertaTokenizerFast.from_pretrained(\"roberta-base\")"
      ],
      "execution_count": null,
      "outputs": [
        {
          "output_type": "display_data",
          "data": {
            "application/vnd.jupyter.widget-view+json": {
              "model_id": "2c12c62c8537481e9e4a2a972380f151",
              "version_minor": 0,
              "version_major": 2
            },
            "text/plain": [
              "HBox(children=(FloatProgress(value=0.0, description='Downloading', max=898823.0, style=ProgressStyle(descripti…"
            ]
          },
          "metadata": {
            "tags": []
          }
        },
        {
          "output_type": "stream",
          "text": [
            "\n"
          ],
          "name": "stdout"
        },
        {
          "output_type": "display_data",
          "data": {
            "application/vnd.jupyter.widget-view+json": {
              "model_id": "d4d712c143944105b5a7b5d19bfd3881",
              "version_minor": 0,
              "version_major": 2
            },
            "text/plain": [
              "HBox(children=(FloatProgress(value=0.0, description='Downloading', max=456318.0, style=ProgressStyle(descripti…"
            ]
          },
          "metadata": {
            "tags": []
          }
        },
        {
          "output_type": "stream",
          "text": [
            "\n"
          ],
          "name": "stdout"
        },
        {
          "output_type": "display_data",
          "data": {
            "application/vnd.jupyter.widget-view+json": {
              "model_id": "35f3461c5f734dc6a67545193bdaa8a2",
              "version_minor": 0,
              "version_major": 2
            },
            "text/plain": [
              "HBox(children=(FloatProgress(value=0.0, description='Downloading', max=1355863.0, style=ProgressStyle(descript…"
            ]
          },
          "metadata": {
            "tags": []
          }
        },
        {
          "output_type": "stream",
          "text": [
            "\n"
          ],
          "name": "stdout"
        }
      ]
    },
    {
      "cell_type": "markdown",
      "metadata": {
        "id": "uQsj_JPlUfAQ"
      },
      "source": [
        "### Load data"
      ]
    },
    {
      "cell_type": "code",
      "metadata": {
        "id": "ntPy-jd1Uh0Q"
      },
      "source": [
        "import pandas as pd\n",
        "import numpy as np\n",
        "from ast import literal_eval"
      ],
      "execution_count": null,
      "outputs": []
    },
    {
      "cell_type": "code",
      "metadata": {
        "id": "QMiOoMOnUmXS"
      },
      "source": [
        "train_data = pd.read_csv(os.path.join(data_path, \"datasets\", \"tsd_train.csv\"))\n",
        "test_data = pd.read_csv(os.path.join(data_path,\"datasets\", \"tsd_test.csv\"))"
      ],
      "execution_count": null,
      "outputs": []
    },
    {
      "cell_type": "code",
      "metadata": {
        "id": "0OVOKbiNvciX"
      },
      "source": [
        "# combine gold and silver dataset\r\n",
        "silver_data_path = os.path.join(data_path, \"CRF-BIO\", \"silver_data_annotated_1.csv\")\r\n",
        "silver_data = pd.read_csv(silver_data_path).loc[:10000,:]\r\n",
        "train_data = pd.concat([train_data, silver_data], axis = 0, ignore_index=True).sample(frac=1, random_state = 2021).reset_index(drop = True)"
      ],
      "execution_count": null,
      "outputs": []
    },
    {
      "cell_type": "code",
      "metadata": {
        "id": "xk7jyzwaeVu7"
      },
      "source": [
        "train_data[\"spans\"] = train_data[\"spans\"].apply(literal_eval)\r\n",
        "test_data[\"spans\"] = test_data[\"spans\"].apply(literal_eval)"
      ],
      "execution_count": null,
      "outputs": []
    },
    {
      "cell_type": "code",
      "metadata": {
        "colab": {
          "base_uri": "https://localhost:8080/"
        },
        "id": "1WKXpuqvgub7",
        "outputId": "20625010-527f-4649-e3cc-5c3cd4be7647"
      },
      "source": [
        "print(train_data.head())\n",
        "print(train_data.shape)\n",
        "print(test_data.head())\n",
        "print(test_data.shape)"
      ],
      "execution_count": null,
      "outputs": [
        {
          "output_type": "stream",
          "text": [
            "                                               spans                                               text\n",
            "0  [98, 99, 103, 104, 165, 166, 167, 168, 178, 17...  We are not a nation of immigrants, We are a na...\n",
            "1                                                 []  \"Special Needs\"? Love their religion more deep...\n",
            "2                   [64, 65, 66, 67, 68, 69, 70, 71]  It took this election to make me realize that ...\n",
            "3                     [149, 150, 151, 152, 153, 154]  According to the article, this 'situation' las...\n",
            "4                          [318, 319, 320, 321, 322]  Hey Eric ...it's been proven that the people i...\n",
            "(17940, 2)\n",
            "                                               spans                                               text\n",
            "0  [84, 85, 86, 87, 88, 89, 90, 91, 133, 134, 135...  That's right. They are not normal. And I am st...\n",
            "1                           [81, 82, 83, 84, 85, 86]  \"Watch people die from taking away their healt...\n",
            "2                                                 []  tens years ago i contacted the PDR and suggest...\n",
            "3                                                 []  The parallels between the ANC and the Sicilian...\n",
            "4                                                 []  Intel Community: ‘How can we work for a Presid...\n",
            "(2000, 2)\n"
          ],
          "name": "stdout"
        }
      ]
    },
    {
      "cell_type": "markdown",
      "metadata": {
        "id": "2k5Wji1PrfEW"
      },
      "source": [
        "### Preprocess input"
      ]
    },
    {
      "cell_type": "code",
      "metadata": {
        "id": "3zEpb26ojMVW"
      },
      "source": [
        "import re\n",
        "import random\n",
        "import numpy as np\n",
        "from nltk.tokenize.util import align_tokens\n",
        "import spacy\n",
        "nlp = spacy.load(\"en_core_web_sm\")"
      ],
      "execution_count": null,
      "outputs": []
    },
    {
      "cell_type": "code",
      "metadata": {
        "id": "Wlm6-YrE4Odc"
      },
      "source": [
        "def sentence_tokenize(data):\r\n",
        "  base_offset = []\r\n",
        "  sentences = []\r\n",
        "  sentence_spans = []\r\n",
        "  sent_start = []\r\n",
        "  for i in range(data.shape[0]):\r\n",
        "    text = data['text'][i]\r\n",
        "    spans = data['spans'][i]\r\n",
        "    left_ptr = 0\r\n",
        "    right_ptr = 0\r\n",
        "    started = False\r\n",
        "    doc = nlp(text)\r\n",
        "    for sent in doc.sents:\r\n",
        "      start = doc[sent.start].idx\r\n",
        "      end = doc[sent.end-1].idx + len(doc[sent.end-1])\r\n",
        "      if end-start<=1 :\r\n",
        "        continue\r\n",
        "      sentences.append(text[start:end])\r\n",
        "      base_offset.append(start)\r\n",
        "      if started==False:\r\n",
        "        started = True\r\n",
        "        sent_start.append(True)\r\n",
        "      else:\r\n",
        "        sent_start.append(False)\r\n",
        "      while left_ptr < len(spans) and spans[left_ptr] < start:\r\n",
        "        left_ptr+=1\r\n",
        "      right_ptr = left_ptr\r\n",
        "      cur_spans = []\r\n",
        "      while right_ptr < len(spans) and spans[right_ptr] < end:\r\n",
        "        cur_spans.append(spans[right_ptr])\r\n",
        "        right_ptr+=1\r\n",
        "      sentence_spans.append(cur_spans)\r\n",
        "      left_ptr = right_ptr\r\n",
        "    if started==False:\r\n",
        "      sentences.append(text)\r\n",
        "      base_offset.append(0)\r\n",
        "      sentence_spans.append(spans)\r\n",
        "      sent_start.append(True)\r\n",
        "  data_processed = pd.DataFrame(data={\"text\":sentences,\"spans\":sentence_spans,\"base_offset\":base_offset,\"sent_start\":sent_start})\r\n",
        "  return data_processed"
      ],
      "execution_count": null,
      "outputs": []
    },
    {
      "cell_type": "code",
      "metadata": {
        "id": "lIFGK8RfP8cE"
      },
      "source": [
        "def custom_tokenize(data, max_length):\r\n",
        "  num_samples = data.shape[0]\r\n",
        "  formatted_text = []\r\n",
        "  for i in range(num_samples):\r\n",
        "    words_list = data.text[i].split()\r\n",
        "    formatted_text.append(' '.join(words_list))\r\n",
        "  tokens = tokenizer(formatted_text, max_length=max_length, padding=\"max_length\",\r\n",
        "                         truncation=True, return_offsets_mapping=True, return_special_tokens_mask=True,\r\n",
        "                         return_token_type_ids = True)\r\n",
        "  for i in range(num_samples):\r\n",
        "    offsets = align_tokens(data.text[i].split(), data.text[i]) \r\n",
        "    token_ptr = -1\r\n",
        "    subword_ptr = 0\r\n",
        "    start = -1\r\n",
        "    prev = -1\r\n",
        "    while token_ptr < len(offsets) and subword_ptr < max_length:\r\n",
        "      if tokens.special_tokens_mask[i][subword_ptr] :\r\n",
        "        subword_ptr += 1       \r\n",
        "        continue \r\n",
        "      if tokens.offset_mapping[i][subword_ptr][0] > prev:\r\n",
        "        token_ptr += 1\r\n",
        "        start = tokens.offset_mapping[i][subword_ptr][0]\r\n",
        "      subword_len = tokens.offset_mapping[i][subword_ptr][1] - tokens.offset_mapping[i][subword_ptr][0] \r\n",
        "      prev = tokens.offset_mapping[i][subword_ptr][1]\r\n",
        "      tokens.offset_mapping[i][subword_ptr] = ( tokens.offset_mapping[i][subword_ptr][0] - start + offsets[token_ptr][0], \r\n",
        "                                               tokens.offset_mapping[i][subword_ptr][1] - start + offsets[token_ptr][0] )\r\n",
        "      subword_ptr += 1\r\n",
        "  return tokens"
      ],
      "execution_count": null,
      "outputs": []
    },
    {
      "cell_type": "code",
      "metadata": {
        "id": "5N0xLIReP-1M"
      },
      "source": [
        "def replace_apostrophe(s):\r\n",
        "  s = s.replace('\\u2018','\\u0027')\r\n",
        "  s = s.replace('\\u2019','\\u0027')\r\n",
        "  s = s.replace('\\u201C','\\u0022')\r\n",
        "  s = s.replace('\\u201D','\\u0022')\r\n",
        "  return s"
      ],
      "execution_count": null,
      "outputs": []
    },
    {
      "cell_type": "code",
      "metadata": {
        "id": "1mNyCOZ30-oB"
      },
      "source": [
        "def preprocessing(data, max_length):\r\n",
        "  data_processed = sentence_tokenize(data)\r\n",
        "  data_processed['text'] = data_processed['text'].apply(lambda s: re.sub(',',' ',s))\r\n",
        "  data_processed['text'] = data_processed['text'].apply(lambda s: re.sub('-',' ',s))\r\n",
        "  data_processed['text'] = data_processed['text'].apply(lambda s: s.lower())\r\n",
        "  data_processed['text'] = data_processed['text'].apply(replace_apostrophe)\r\n",
        "  tokens = custom_tokenize(data_processed, max_length)\r\n",
        "  input_dict = {\"input_ids\" : np.array(tokens.input_ids),\r\n",
        "                \"token_type_ids\" : np.array(tokens.token_type_ids), \r\n",
        "                \"attention_mask\" : np.array(tokens.attention_mask) }\r\n",
        "  return data_processed, tokens, input_dict"
      ],
      "execution_count": null,
      "outputs": []
    },
    {
      "cell_type": "code",
      "metadata": {
        "id": "MPtm3e9wLeeK"
      },
      "source": [
        "max_length = 60"
      ],
      "execution_count": null,
      "outputs": []
    },
    {
      "cell_type": "code",
      "metadata": {
        "id": "PjAeELFE37Yn"
      },
      "source": [
        "train_data_processed, train_tokens, train_input = preprocessing(train_data, max_length)\r\n",
        "test_data_processed, test_tokens, test_input = preprocessing(test_data, max_length)"
      ],
      "execution_count": null,
      "outputs": []
    },
    {
      "cell_type": "code",
      "metadata": {
        "id": "hItQ3J9x8dH7",
        "colab": {
          "base_uri": "https://localhost:8080/"
        },
        "outputId": "219b3e41-e292-4ba4-bdd1-cae30e068279"
      },
      "source": [
        "print(train_data_processed[:10])\r\n",
        "print(train_data_processed.shape)"
      ],
      "execution_count": null,
      "outputs": [
        {
          "output_type": "stream",
          "text": [
            "                                                text  ... sent_start\n",
            "0  we are not a nation of immigrants  we are a na...  ...       True\n",
            "1  why do commenters need to take a frickin civil...  ...      False\n",
            "2                       that ain't free speech baby!  ...      False\n",
            "3                             shitcan that shit pdt!  ...      False\n",
            "4                                   \"special needs\"?  ...       True\n",
            "5                   love their religion more deeply?  ...      False\n",
            "6  wow  i suggest you have a lot of reading to do...  ...      False\n",
            "7  and your thoughts on numerous incidents of lat...  ...      False\n",
            "8  i would recommend the politically incorrect gu...  ...      False\n",
            "9  it took this election to make me realize that ...  ...       True\n",
            "\n",
            "[10 rows x 4 columns]\n",
            "(60750, 4)\n"
          ],
          "name": "stdout"
        }
      ]
    },
    {
      "cell_type": "code",
      "metadata": {
        "id": "Pzh6DXXphGX_",
        "colab": {
          "base_uri": "https://localhost:8080/"
        },
        "outputId": "50e622ed-2fcc-4504-af99-ea56500b7113"
      },
      "source": [
        "print(test_data_processed[:10])\r\n",
        "print(test_data_processed.shape)"
      ],
      "execution_count": null,
      "outputs": [
        {
          "output_type": "stream",
          "text": [
            "                                                text  ... sent_start\n",
            "0                                      that's right.  ...       True\n",
            "1                               they are not normal.  ...      False\n",
            "2  and i am starting from the premise that they a...  ...      False\n",
            "3  proceed wth the typical racist  bigot  sexist ...  ...      False\n",
            "4                                            thanks!  ...      False\n",
            "5  \"watch people die from taking away their healt...  ...       True\n",
            "6            winner of stupid post of the day award!  ...      False\n",
            "7  tens years ago i contacted the pdr and suggest...  ...       True\n",
            "8  alaska rejected them without even consideratio...  ...      False\n",
            "9  the transcanada exxon rip off that we are stil...  ...      False\n",
            "\n",
            "[10 rows x 4 columns]\n",
            "(6175, 4)\n"
          ],
          "name": "stdout"
        }
      ]
    },
    {
      "cell_type": "code",
      "metadata": {
        "id": "-rA8K1FQIZwT",
        "colab": {
          "base_uri": "https://localhost:8080/"
        },
        "outputId": "d436a146-0ff6-40e3-e4ac-aece5c95c51a"
      },
      "source": [
        "# check offsets for a random sample\r\n",
        "idx = random.randint(0, train_data_processed.shape[0])\r\n",
        "print(idx)\r\n",
        "print(train_data_processed.text[idx])\r\n",
        "i = 0\r\n",
        "for s,e in train_tokens.offset_mapping[idx]:\r\n",
        "  if s!=0 or e!=0:\r\n",
        "    print(train_data_processed.text[idx][s:e],\" \", tokenizer.convert_ids_to_tokens(train_tokens.input_ids[idx][i]))\r\n",
        "  i+=1"
      ],
      "execution_count": null,
      "outputs": [
        {
          "output_type": "stream",
          "text": [
            "40185\n",
            "yep  trump is just a gas bag.\n",
            "y   y\n",
            "ep   ep\n",
            "trump   Ġtrump\n",
            "is   Ġis\n",
            "just   Ġjust\n",
            "a   Ġa\n",
            "gas   Ġgas\n",
            "bag   Ġbag\n",
            ".   .\n"
          ],
          "name": "stdout"
        }
      ]
    },
    {
      "cell_type": "markdown",
      "metadata": {
        "id": "iegET0hh4S_h"
      },
      "source": [
        "### Create IO,BIO output"
      ]
    },
    {
      "cell_type": "code",
      "metadata": {
        "id": "-dnftpdojXIR"
      },
      "source": [
        "import string"
      ],
      "execution_count": null,
      "outputs": []
    },
    {
      "cell_type": "code",
      "metadata": {
        "id": "EoV02dYKU8tS"
      },
      "source": [
        "# prepare the output toxic/non toxic labels\n",
        "def generate_output(data, tokens):  \n",
        "  output = np.zeros((data.shape[0],max_length))\n",
        "  for i in range(data.shape[0]):\n",
        "    isToxic = np.zeros(len(data.text[i]))\n",
        "    for idx in data.spans[i]:\n",
        "      isToxic[idx-data.base_offset[i]]=1\n",
        "    for j in range(max_length):\n",
        "      if tokens.special_tokens_mask[i][j]:\n",
        "        continue\n",
        "      start = tokens.offset_mapping[i][j][0]\n",
        "      end = tokens.offset_mapping[i][j][1]\n",
        "      cnt = 0\n",
        "      for pos in range(start,end):\n",
        "        if isToxic[pos]:\n",
        "          cnt+=1\n",
        "      if cnt>=(end-start+1)//2:\n",
        "        output[i][j]=1\n",
        "  return output"
      ],
      "execution_count": null,
      "outputs": []
    },
    {
      "cell_type": "code",
      "metadata": {
        "id": "bbQP-GiBFxiS"
      },
      "source": [
        "# convert IO tagging scheme into BIO tagging scheme \r\n",
        "def generate_BIO_output(binary_output):\r\n",
        "  bio_output = np.zeros(binary_output.shape)\r\n",
        "  for i in range(binary_output.shape[0]):\r\n",
        "    prev=0\r\n",
        "    for j in range(binary_output.shape[1]):\r\n",
        "      if binary_output[i,j]==1:\r\n",
        "        if prev==0:\r\n",
        "          bio_output[i,j]=1\r\n",
        "        else :\r\n",
        "          bio_output[i,j]=2\r\n",
        "      prev=binary_output[i,j]\r\n",
        "  return bio_output"
      ],
      "execution_count": null,
      "outputs": []
    },
    {
      "cell_type": "code",
      "metadata": {
        "id": "f9zDOO7brCl5",
        "colab": {
          "base_uri": "https://localhost:8080/"
        },
        "outputId": "869902a7-f616-4f9b-cf8b-6276f0074782"
      },
      "source": [
        "train_output = generate_output(train_data_processed, train_tokens)\n",
        "train_BIO_output = generate_BIO_output(train_output)\n",
        "train_shape = train_output.shape\n",
        "train_samples = train_output.shape[0] * train_output.shape[1]\n",
        "train_output_1d = train_output.reshape((train_samples,))\n",
        "train_toxic_samples = np.sum(train_output)\n",
        "print(\"Training data stats\")\n",
        "print(\"Shape of data:\",train_output.shape)\n",
        "print(\"Number of toxic samples:\",train_toxic_samples)\n",
        "print(\"Fraction of toxic samples: \",train_toxic_samples/train_samples)"
      ],
      "execution_count": null,
      "outputs": [
        {
          "output_type": "stream",
          "text": [
            "Training data stats\n",
            "Shape of data: (60750, 60)\n",
            "Number of toxic samples: 49638.0\n",
            "Fraction of toxic samples:  0.013618106995884774\n"
          ],
          "name": "stdout"
        }
      ]
    },
    {
      "cell_type": "code",
      "metadata": {
        "id": "oPY9z6va5XJJ",
        "colab": {
          "base_uri": "https://localhost:8080/"
        },
        "outputId": "35a14496-3201-48f9-a6b6-2e8a3d7574f4"
      },
      "source": [
        "test_output = generate_output(test_data_processed,test_tokens)\n",
        "test_BIO_output = generate_BIO_output(test_output)\n",
        "test_shape = test_output.shape\n",
        "test_samples = test_output.shape[0] * test_output.shape[1]\n",
        "test_output_1d = test_output.reshape((test_samples,))\n",
        "test_toxic_samples = np.sum(test_output)\n",
        "print(\"Test data stats\")\n",
        "print(\"Shape of data:\",test_output.shape)\n",
        "print(\"Number of toxic samples:\",test_toxic_samples)\n",
        "print(\"Fraction of toxic samples:\",test_toxic_samples/test_samples)"
      ],
      "execution_count": null,
      "outputs": [
        {
          "output_type": "stream",
          "text": [
            "Test data stats\n",
            "Shape of data: (6175, 60)\n",
            "Number of toxic samples: 3181.0\n",
            "Fraction of toxic samples: 0.008585695006747638\n"
          ],
          "name": "stdout"
        }
      ]
    },
    {
      "cell_type": "code",
      "metadata": {
        "id": "o5qaIP8-bz_H",
        "colab": {
          "base_uri": "https://localhost:8080/"
        },
        "outputId": "bb6dc223-3d7c-4730-e18a-5507908ae416"
      },
      "source": [
        "toxic_words = []\r\n",
        "for i in range(train_shape[0]):\r\n",
        "  for j in range(max_length):\r\n",
        "    if train_output[i,j] != 0:\r\n",
        "      toxic_words.append(tokenizer.convert_ids_to_tokens(train_tokens.input_ids[i][j]))\r\n",
        "toxic_words_freq = pd.Series(toxic_words).value_counts()\r\n",
        "toxic_words_freq[:25]"
      ],
      "execution_count": null,
      "outputs": [
        {
          "output_type": "execute_result",
          "data": {
            "text/plain": [
              "Ġstupid        2668\n",
              "Ġidiot         1553\n",
              "Ġidiots         907\n",
              "Ġignorant       723\n",
              "Ġmor            720\n",
              "Ġstupidity      602\n",
              "Ġdumb           592\n",
              "Ġthe            571\n",
              "on              487\n",
              "Ġfool           478\n",
              "Ġcrap           432\n",
              "Ġa              402\n",
              "s               389\n",
              "Ġpathetic       363\n",
              "Ġand            346\n",
              "st              345\n",
              "upid            338\n",
              "Ġass            318\n",
              "Ġof             306\n",
              ".               306\n",
              "Ġis             296\n",
              "Ġfools          292\n",
              "Ġridiculous     272\n",
              "Ġto             266\n",
              "Ġclown          254\n",
              "dtype: int64"
            ]
          },
          "metadata": {
            "tags": []
          },
          "execution_count": 26
        }
      ]
    },
    {
      "cell_type": "markdown",
      "metadata": {
        "id": "g30VInoZb-Gr"
      },
      "source": [
        "### Post processing function definitions"
      ]
    },
    {
      "cell_type": "code",
      "metadata": {
        "id": "9X-cY1RqXDDs"
      },
      "source": [
        "import string"
      ],
      "execution_count": null,
      "outputs": []
    },
    {
      "cell_type": "code",
      "metadata": {
        "id": "AdzHHnq_JS9v"
      },
      "source": [
        "def get_threshold(train_pred):\r\n",
        "  train_pred_1d = train_pred.reshape((train_samples,))\r\n",
        "  sample_weight_mask = sample_weight_1d.astype(\"bool\")\r\n",
        "  train_output_mask = train_output_1d[sample_weight_mask]\r\n",
        "  train_pred_mask = train_pred_1d[sample_weight_mask]\r\n",
        "  fpr, tpr, _ = roc_curve(train_output_mask , train_pred_mask)\r\n",
        "  precisions, recalls , thresholds = precision_recall_curve(train_output_mask, train_pred_mask)\r\n",
        "  f1_scores = []\r\n",
        "  for prec,rec in zip(precisions,recalls):\r\n",
        "    if prec+rec >= 1e-2 :\r\n",
        "      cur_f1 = (2*prec*rec)/(prec+rec);\r\n",
        "      f1_scores.append(cur_f1)\r\n",
        "    else :\r\n",
        "      f1_scores.append(0)\r\n",
        "  idx = np.argmax(f1_scores)\r\n",
        "  return thresholds[idx], f1_scores[idx]"
      ],
      "execution_count": null,
      "outputs": []
    },
    {
      "cell_type": "code",
      "metadata": {
        "id": "4bSR5j9tQ_9x"
      },
      "source": [
        "def classify_bio_output(prediction):\n",
        "  num_samples = prediction.shape[0]*prediction.shape[1]\n",
        "  res = np.zeros((prediction.shape[0],prediction.shape[1]))\n",
        "  for i in range(prediction.shape[0]):\n",
        "    for j in range(prediction.shape[1]):\n",
        "      if prediction[i,j] != 0:\n",
        "        res[i,j] = 1\n",
        "  return res"
      ],
      "execution_count": null,
      "outputs": []
    },
    {
      "cell_type": "code",
      "metadata": {
        "id": "Wtv4dk0x_TYS"
      },
      "source": [
        "def classify_by_threshold(prediction, thresh):\n",
        "  res = np.zeros(prediction.shape)\n",
        "  for i in range(prediction.shape[0]):\n",
        "    for j in range(prediction.shape[1]):\n",
        "      if prediction[i,j]>=thresh:\n",
        "        res[i,j]=1\n",
        "  return res"
      ],
      "execution_count": null,
      "outputs": []
    },
    {
      "cell_type": "code",
      "metadata": {
        "id": "xPXhkBIZRFHD"
      },
      "source": [
        "def convert_output_to_ranges(data_processed, tokens, prediction_label):\n",
        "  \"\"\"\n",
        "  Arguments\n",
        "  data_processed: dataframe where the result is to be stored\n",
        "  tokens : BatchEncoding for text column in the dataframe\n",
        "\n",
        "  Return type: Pandas Series of size = #samples\n",
        "  For each sentence, a list of compressed toxic spans is returned\n",
        "  If the token is labelled toxic, then its offset ranges obtained from tokens is appended to the list\n",
        "  \"\"\"\n",
        "  spans_column = []\n",
        "  num_samples = data_processed.shape[0];\n",
        "  for i in range(num_samples):\n",
        "    comp_ranges = []\n",
        "    cur = {}\n",
        "    for j in range(max_length):\n",
        "      if prediction_label[i][j]==0 or tokens.special_tokens_mask[i][j]==1:\n",
        "        continue\n",
        "      cur['start'] = tokens.offset_mapping[i][j][0]\n",
        "      cur['end'] = tokens.offset_mapping[i][j][1]\n",
        "      comp_ranges.append([cur['start'],cur['end']])\n",
        "    spans_column.append(comp_ranges)\n",
        "  return pd.Series(spans_column)"
      ],
      "execution_count": null,
      "outputs": []
    },
    {
      "cell_type": "code",
      "metadata": {
        "id": "eNLzdlQ9PW_c"
      },
      "source": [
        "def add_offset(row):\n",
        "  \"\"\"\n",
        "  Argument: a row of a dataframe with columns - predicted_spans , base_offset\n",
        "  Returns the predicted spans after adding base offset to both the lower and upper endpoints\n",
        "  for all all ranges\n",
        "  \"\"\"\n",
        "  updated_spans = []\n",
        "  for i in range(len(row.predicted_ranges)):\n",
        "    updated_spans.append([row.predicted_ranges[i][0]+row.base_offset, \n",
        "                          row.predicted_ranges[i][1]+row.base_offset])\n",
        "  return updated_spans"
      ],
      "execution_count": null,
      "outputs": []
    },
    {
      "cell_type": "code",
      "metadata": {
        "id": "w4sfhH98K-nq"
      },
      "source": [
        "def collect_ranges(data, data_processed):\n",
        "  \"\"\"\n",
        "  Returns a pandas series after collecting spans\n",
        "  from data_processed for the given texts in data\n",
        "  \"\"\"\n",
        "  j=0\n",
        "  new_col = []\n",
        "  for i in range(data.shape[0]):\n",
        "    all_spans = data_processed['adjusted_ranges'][j]\n",
        "    j+=1\n",
        "    while j<data_processed.shape[0] and data_processed.sent_start[j]==False:\n",
        "      all_spans = all_spans + data_processed['adjusted_ranges'][j]\n",
        "      j+=1\n",
        "    new_col.append(all_spans)\n",
        "  return pd.Series(new_col)"
      ],
      "execution_count": null,
      "outputs": []
    },
    {
      "cell_type": "code",
      "metadata": {
        "id": "HSaHyOTppSu3"
      },
      "source": [
        "def merge_ranges(row):\n",
        "  \"\"\"\n",
        "  Returns a new list after merging very close ranges\n",
        "  \"\"\"\n",
        "  old_list = row.collected_ranges\n",
        "  text = row.text\n",
        "  prev = {}\n",
        "  prev['start'] = -1\n",
        "  prev['end'] = -1\n",
        "  cur = {}\n",
        "  new_list = []\n",
        "  for i in range(len(old_list)):\n",
        "    cur['start'] = old_list[i][0]\n",
        "    cur['end'] = old_list[i][1]\n",
        "    if prev['start'] != -1:\n",
        "      cntAlpha = 0\n",
        "      for j in range(prev['end'],cur['start']):\n",
        "        if text[j].isalpha():\n",
        "          cntAlpha+=1\n",
        "      if cntAlpha==0 and (cur['start']-prev['end'])<=5:\n",
        "        new_list.pop()\n",
        "        cur['start'] = prev['start']\n",
        "    new_list.append([cur['start'],cur['end']])\n",
        "    prev['start'] = cur['start']\n",
        "    prev['end'] = cur['end']\n",
        "  return new_list"
      ],
      "execution_count": null,
      "outputs": []
    },
    {
      "cell_type": "code",
      "metadata": {
        "id": "Qrt7tWfbKzBT"
      },
      "source": [
        "def expand_ranges(old_list):\n",
        "  \"\"\"\n",
        "  Returns a new list after expanding ranges\n",
        "  \"\"\"\n",
        "  new_list = []\n",
        "  for item in old_list:\n",
        "    new_list = new_list + (list(range(item[0],item[1])))\n",
        "  return new_list"
      ],
      "execution_count": null,
      "outputs": []
    },
    {
      "cell_type": "code",
      "metadata": {
        "id": "g1iaZfxOXXGw"
      },
      "source": [
        "def f1(predictions, gold):\n",
        "    \"\"\"\n",
        "    F1 (a.k.a. DICE) operating on two lists of offsets (e.g., character).\n",
        "    >>> assert f1([0, 1, 4, 5], [0, 1, 6]) == 0.5714285714285714\n",
        "    :param predictions: a list of predicted offsets\n",
        "    :param gold: a list of offsets serving as the ground truth\n",
        "    :return: a score between 0 and 1\n",
        "    \"\"\"\n",
        "    if len(gold) == 0:\n",
        "        return 1 if len(predictions)==0 else 0\n",
        "    nom = 2*len(set(predictions).intersection(set(gold)))\n",
        "    denom = len(set(predictions))+len(set(gold))\n",
        "    return nom/denom"
      ],
      "execution_count": null,
      "outputs": []
    },
    {
      "cell_type": "code",
      "metadata": {
        "id": "snaRAqrYTKoF"
      },
      "source": [
        "def precision(predictions, gold):\r\n",
        "    \"\"\"\r\n",
        "    F1 (a.k.a. DICE) operating on two lists of offsets (e.g., character).\r\n",
        "    >>> assert f1([0, 1, 4, 5], [0, 1, 6]) == 0.5714285714285714\r\n",
        "    :param predictions: a list of predicted offsets\r\n",
        "    :param gold: a list of offsets serving as the ground truth\r\n",
        "    :return: a score between 0 and 1\r\n",
        "    \"\"\"\r\n",
        "    if len(predictions) == 0:\r\n",
        "        return 1 if len(gold)==0 else 0\r\n",
        "    nom = len(set(predictions).intersection(set(gold)))\r\n",
        "    denom = len(set(predictions))\r\n",
        "    return nom/denom"
      ],
      "execution_count": null,
      "outputs": []
    },
    {
      "cell_type": "code",
      "metadata": {
        "id": "71KYn5OnTUzl"
      },
      "source": [
        "def recall(predictions, gold):\r\n",
        "    \"\"\"\r\n",
        "    F1 (a.k.a. DICE) operating on two lists of offsets (e.g., character).\r\n",
        "    >>> assert f1([0, 1, 4, 5], [0, 1, 6]) == 0.5714285714285714\r\n",
        "    :param predictions: a list of predicted offsets\r\n",
        "    :param gold: a list of offsets serving as the ground truth\r\n",
        "    :return: a score between 0 and 1\r\n",
        "    \"\"\"\r\n",
        "    if len(gold) == 0:\r\n",
        "        return 1 if len(predictions)==0 else 0\r\n",
        "    nom = len(set(predictions).intersection(set(gold)))\r\n",
        "    denom = len(set(gold))\r\n",
        "    return nom/denom"
      ],
      "execution_count": null,
      "outputs": []
    },
    {
      "cell_type": "code",
      "metadata": {
        "id": "tgKL5g5m3yjv"
      },
      "source": [
        "def spans2ranges(span):\r\n",
        "  ranges = []\r\n",
        "  prev = -1\r\n",
        "  range = {'start':-1,'end':-1}\r\n",
        "  for pos in span :\r\n",
        "    if prev==-1 or pos>prev+1:\r\n",
        "      if prev != -1:\r\n",
        "        ranges.append([range['start'],range['end']+1])\r\n",
        "      range['start'] = pos\r\n",
        "    range['end'] = pos\r\n",
        "    prev = pos\r\n",
        "  if prev !=-1:\r\n",
        "    ranges.append([range['start'],range['end']+1])\r\n",
        "  return ranges"
      ],
      "execution_count": null,
      "outputs": []
    },
    {
      "cell_type": "code",
      "metadata": {
        "id": "OfF2iCiaXgL0"
      },
      "source": [
        "def post_process(data, data_processed, tokens, prediction, thresh):\n",
        "  if thresh is None :\n",
        "    prediction_label = classify_bio_output(prediction);\n",
        "  else :\n",
        "    prediction_label = classify_by_threshold(prediction,thresh);\n",
        "  data_processed['predicted_ranges'] = convert_output_to_ranges(data_processed, tokens, prediction_label)\n",
        "  data_processed['adjusted_ranges'] = data_processed.apply(add_offset,axis=1)\n",
        "  data['collected_ranges'] = collect_ranges(data, data_processed)\n",
        "  data['predicted_ranges'] = data.apply(merge_ranges,axis=1) \n",
        "  data['predicted_spans'] = data['predicted_ranges'].apply(expand_ranges) \n",
        "  data['actual_ranges'] = data['spans'].apply(spans2ranges)\n",
        "  f1_list = []\n",
        "  precision_list = []\n",
        "  recall_list = []\n",
        "  for i in range(data.shape[0]):\n",
        "    f1_list.append(f1(data.predicted_spans[i],data.spans[i]))\n",
        "    precision_list.append(precision(data.predicted_spans[i],data.spans[i]))\n",
        "    recall_list.append(recall(data.predicted_spans[i],data.spans[i]))\n",
        "  mean_f1 = np.mean(np.array(f1_list))\n",
        "  mean_precision = np.mean(np.array(precision_list))\n",
        "  mean_recall = np.mean(np.array(recall_list))\n",
        "  return mean_f1, mean_precision, mean_recall"
      ],
      "execution_count": null,
      "outputs": []
    },
    {
      "cell_type": "markdown",
      "metadata": {
        "id": "s-vQxGswQ_mn"
      },
      "source": [
        "### Set the model hyper parameters"
      ]
    },
    {
      "cell_type": "code",
      "metadata": {
        "id": "ID6aPVIINdzD"
      },
      "source": [
        "def get_pretrained_model_path(pre_training_epoch):\r\n",
        "  return os.path.join(data_path, \"pre_training\")\r\n",
        "\r\n",
        "def get_weights_path_folder(params):\r\n",
        "  return os.path.join(data_path, \"models\", \"selfTraining-round1\")\r\n",
        "\r\n",
        "def get_weights_path(params, cur_epoch):\r\n",
        "  return os.path.join( get_weights_path_folder(params),\"{:02d}_epochs.h5\".format(cur_epoch) )"
      ],
      "execution_count": null,
      "outputs": []
    },
    {
      "cell_type": "code",
      "metadata": {
        "id": "0A5ct4eXQhA8"
      },
      "source": [
        "params = {\r\n",
        "  \"model_name\" : \"Dense512\",\r\n",
        "  \"training\" : True,\r\n",
        "  \"learning_rate\" : 1e-5,\r\n",
        "  \"pre_training_epoch\" : 2,\r\n",
        "  \"initial_epoch\" : 0,\r\n",
        "  \"epochs\" : 4,\r\n",
        "  \"silver\" : True,\r\n",
        "}"
      ],
      "execution_count": null,
      "outputs": []
    },
    {
      "cell_type": "markdown",
      "metadata": {
        "id": "3cSJ_Zs4YDn4"
      },
      "source": [
        "### CRF based Model definition"
      ]
    },
    {
      "cell_type": "code",
      "metadata": {
        "id": "e4V6r-3wYFSS"
      },
      "source": [
        "import tensorflow_addons as tf_ad\r\n",
        "from tensorflow.keras import Model\r\n",
        "from tensorflow.keras.layers import Dense, Dropout\r\n",
        "import matplotlib.pyplot as plt\r\n",
        "from sklearn.metrics import roc_curve, auc, precision_recall_curve\r\n",
        "from tensorflow import GradientTape, convert_to_tensor, reduce_mean, Variable, int32\r\n",
        "from tensorflow.random import uniform\r\n",
        "from tensorflow.keras.optimizers import Adam\r\n",
        "from tensorflow.train import Checkpoint"
      ],
      "execution_count": null,
      "outputs": []
    },
    {
      "cell_type": "code",
      "metadata": {
        "id": "jEND-y9Yr9dk"
      },
      "source": [
        "def get_batch(tokens, labels, batch_size):\r\n",
        "  start = 0\r\n",
        "  num_samples = len(tokens.input_ids)\r\n",
        "  input_ids = np.array(tokens.input_ids)\r\n",
        "  token_type_ids = np.array(tokens.token_type_ids)\r\n",
        "  attention_mask = np.array(tokens.attention_mask)\r\n",
        "  text_lens = np.array([1+len(mask)-sum(mask) for mask in tokens['special_tokens_mask']])\r\n",
        "  while(1):\r\n",
        "    if start == 0:\r\n",
        "      permutation = np.random.permutation(num_samples)\r\n",
        "    end = start + batch_size\r\n",
        "    if end > num_samples:\r\n",
        "      end = num_samples\r\n",
        "    yield {\r\n",
        "        \"input_ids\": input_ids[permutation[start:end]].copy(),\r\n",
        "        \"token_type_ids\": token_type_ids[permutation[start:end]].copy(),\r\n",
        "        \"attention_mask\": attention_mask[permutation[start:end]].copy(),\r\n",
        "    }, text_lens[permutation[start:end]].copy(), labels[permutation[start:end]]\r\n",
        "    start = end\r\n",
        "    if start == num_samples : \r\n",
        "      start = 0"
      ],
      "execution_count": null,
      "outputs": []
    },
    {
      "cell_type": "code",
      "metadata": {
        "id": "dTdABVwzYLlx"
      },
      "source": [
        "class TSI_Model(Model):\r\n",
        "  def __init__(self, pre_training_epoch):\r\n",
        "    super(TSI_Model, self).__init__()\r\n",
        "    self.label_size = 3   # BIO scheme\r\n",
        "    self.dense512 = Dense(512, activation='relu')\r\n",
        "    self.dense128 = Dense(128, activation='relu')\r\n",
        "    self.dropout = Dropout(rate = 0.1)\r\n",
        "    self.output_layer = Dense(self.label_size)\r\n",
        "    if pre_training_epoch == 0:\r\n",
        "      self.encoder = TFRobertaModel.from_pretrained(\"roberta-base\")\r\n",
        "    else :\r\n",
        "      self.encoder = TFRobertaModel.from_pretrained(get_pretrained_model_path(pre_training_epoch), from_pt = True)\r\n",
        "\r\n",
        "    self.transition_params = Variable(uniform(shape=(self.label_size, self.label_size)))\r\n",
        "\r\n",
        "  def __call__(self, input, text_lens = None, labels = None, training = False):\r\n",
        "    if labels is None:\r\n",
        "      training = False\r\n",
        "    embeddings = self.encoder(input, training = training)[0]\r\n",
        "    res = self.dropout(embeddings, training)\r\n",
        "    res = self.dense512(res)\r\n",
        "    res = self.dropout(res, training)\r\n",
        "    res = self.dense128(res)\r\n",
        "    res = self.dropout(res, training)\r\n",
        "    logits = self.output_layer(res)\r\n",
        "    if labels is not None:\r\n",
        "      label_sequences = convert_to_tensor(labels, dtype = int32)\r\n",
        "      log_likelihood, self.transition_params = tf_ad.text.crf_log_likelihood(logits,\r\n",
        "                                                                              label_sequences,\r\n",
        "                                                                              text_lens,\r\n",
        "                                                                              transition_params=self.transition_params)\r\n",
        "      return logits, log_likelihood\r\n",
        "    else:\r\n",
        "      return logits\r\n",
        "\r\n",
        "  def train_one_step(self, input_batch, text_lens, labels_batch):\r\n",
        "    with GradientTape() as tape:\r\n",
        "      logits, log_likelihood = self(input_batch, text_lens, labels_batch, True)\r\n",
        "      loss = - reduce_mean(log_likelihood)\r\n",
        "    gradients = tape.gradient(loss, self.trainable_variables)\r\n",
        "    optimizer.apply_gradients(zip(gradients, self.trainable_variables))\r\n",
        "    return loss\r\n",
        "\r\n",
        "  def get_loss(self, tokens, labels, batch_size = 32):  \r\n",
        "    num_samples = len(tokens.input_ids)\r\n",
        "    num_steps = (num_samples+batch_size -1 )//(batch_size)\r\n",
        "    batch_gen = get_batch(tokens, labels, batch_size)\r\n",
        "    total_loss = 0\r\n",
        "    for step in range(num_steps):\r\n",
        "      input_batch, text_lens, labels_batch = next(batch_gen)\r\n",
        "      logits, log_likelihood = self(input_batch, text_lens, labels_batch, False)\r\n",
        "      loss = - reduce_mean(log_likelihood)\r\n",
        "      total_loss += loss\r\n",
        "    mean_loss = (total_loss/num_steps).numpy()\r\n",
        "    return mean_loss\r\n",
        "\r\n",
        "  def train(self, tokens, labels, initial_epoch , epochs, batch_size = 32):  \r\n",
        "    if initial_epoch !=0 :\r\n",
        "      ckpt.restore(os.path.join(get_weights_path_folder(params),\"epoch_\"+str(initial_epoch),\"ckpt-\"+str(initial_epoch)))\r\n",
        "    num_samples = len(tokens.input_ids)\r\n",
        "    num_steps = (num_samples+batch_size -1 )//(batch_size)\r\n",
        "    batch_gen = get_batch(tokens, labels, batch_size)\r\n",
        "    for i in range(initial_epoch, epochs):\r\n",
        "      total_loss = 0\r\n",
        "      for step in range(num_steps):\r\n",
        "        input_batch, text_lens, labels_batch = next(batch_gen)\r\n",
        "        loss = self.train_one_step(input_batch, text_lens, labels_batch)\r\n",
        "        total_loss += loss\r\n",
        "      save_path = os.path.join(get_weights_path_folder(params),\"epoch_\"+str(i+1))\r\n",
        "      os.makedirs(save_path)\r\n",
        "      save_path = os.path.join(save_path,\"ckpt\")\r\n",
        "      ckpt.save(save_path)\r\n",
        "      print(\"Mean Loss:\",total_loss/num_steps)\r\n",
        "\r\n",
        "  def predict(self, tokens, batch_size = 32):\r\n",
        "    num_samples = len(tokens.input_ids)\r\n",
        "    num_steps = (num_samples+batch_size -1 )//(batch_size)\r\n",
        "    input_ids = np.array(tokens.input_ids)\r\n",
        "    token_type_ids = np.array(tokens.token_type_ids)\r\n",
        "    attention_mask = np.array(tokens.attention_mask)\r\n",
        "    all_preds = []\r\n",
        "    for step in range(num_steps):\r\n",
        "      start = step * batch_size\r\n",
        "      end = start + batch_size\r\n",
        "      if end >= num_samples: \r\n",
        "        end = num_samples\r\n",
        "      input_batch = {'input_ids' : input_ids[start:end].copy(),\r\n",
        "                        'token_type_ids': token_type_ids[start:end].copy(),\r\n",
        "                        'attention_mask' : attention_mask[start:end].copy() }\r\n",
        "      text_lens = [1+len(mask)-sum(mask) for mask in tokens['special_tokens_mask'][start:end]]\r\n",
        "      logits = self(input_batch)\r\n",
        "      for i in range(logits.shape[0]):\r\n",
        "        viterbi_path, _  = tf_ad.text.viterbi_decode(logits[i, :text_lens[i]], self.transition_params)\r\n",
        "        viterbi_path = viterbi_path + [0]*(max_length - len(viterbi_path))\r\n",
        "        viterbi_path[0] = 0\r\n",
        "        all_preds.append(viterbi_path)\r\n",
        "    return np.array(all_preds)"
      ],
      "execution_count": null,
      "outputs": []
    },
    {
      "cell_type": "markdown",
      "metadata": {
        "id": "CxyeSf1pWKxS"
      },
      "source": [
        "### Train the model"
      ]
    },
    {
      "cell_type": "code",
      "metadata": {
        "id": "rU9fx_yogRLn"
      },
      "source": [
        "# create a folder to save the weights \r\n",
        "dir = get_weights_path_folder(params)\r\n",
        "if params['initial_epoch'] == 0:\r\n",
        "  if os.path.exists(dir):\r\n",
        "      shutil.rmtree(dir)\r\n",
        "  os.makedirs(dir)"
      ],
      "execution_count": null,
      "outputs": []
    },
    {
      "cell_type": "code",
      "metadata": {
        "colab": {
          "base_uri": "https://localhost:8080/"
        },
        "id": "kt8P5t3YjiZG",
        "outputId": "01e4bf19-d766-4c4e-82f0-3540cb812ba1"
      },
      "source": [
        "model = TSI_Model(params['pre_training_epoch'])\r\n",
        "optimizer = Adam(params['learning_rate'])\r\n",
        "ckpt = Checkpoint(model = model, optimizer = optimizer)"
      ],
      "execution_count": null,
      "outputs": [
        {
          "output_type": "stream",
          "text": [
            "Some weights of the PyTorch model were not used when initializing the TF 2.0 model TFRobertaModel: ['lm_head.decoder.weight', 'lm_head.bias', 'lm_head.dense.bias', 'lm_head.dense.weight', 'roberta.embeddings.position_ids', 'lm_head.layer_norm.bias', 'lm_head.layer_norm.weight', 'lm_head.decoder.bias']\n",
            "- This IS expected if you are initializing TFRobertaModel from a PyTorch model trained on another task or with another architecture (e.g. initializing a TFBertForSequenceClassification model from a BertForPreTraining model).\n",
            "- This IS NOT expected if you are initializing TFRobertaModel from a PyTorch model that you expect to be exactly identical (e.g. initializing a TFBertForSequenceClassification model from a BertForSequenceClassification model).\n",
            "Some weights or buffers of the TF 2.0 model TFRobertaModel were not initialized from the PyTorch model and are newly initialized: ['roberta.pooler.dense.weight', 'roberta.pooler.dense.bias']\n",
            "You should probably TRAIN this model on a down-stream task to be able to use it for predictions and inference.\n"
          ],
          "name": "stderr"
        }
      ]
    },
    {
      "cell_type": "code",
      "metadata": {
        "id": "Wi5WInK5i_XY"
      },
      "source": [
        "model.train(train_tokens, train_BIO_output, params['initial_epoch'], params['epochs'])"
      ],
      "execution_count": null,
      "outputs": []
    },
    {
      "cell_type": "markdown",
      "metadata": {
        "id": "J3-Tg7NVWAfw"
      },
      "source": [
        "### Generate F1 report across epochs"
      ]
    },
    {
      "cell_type": "code",
      "metadata": {
        "id": "shEcz8O_EmD-"
      },
      "source": [
        "def print_loss(start_epoch, end_epoch):\r\n",
        "  train_loss = []\r\n",
        "  for cur_epoch in range(start_epoch, end_epoch+1):\r\n",
        "    print(\"Epoch\",cur_epoch,end=' : ')\r\n",
        "    ckpt.restore(os.path.join(get_weights_path_folder(params),\"epoch_\"+str(cur_epoch),\"ckpt-\"+str(cur_epoch)))\r\n",
        "    cur_loss = model.get_loss(train_tokens, train_BIO_output)\r\n",
        "    print(cur_loss)\r\n",
        "    train_loss.append(cur_loss)\r\n",
        "  dir = get_weights_path_folder(params)\r\n",
        "  epoch_list = range(start_epoch, end_epoch+1)\r\n",
        "  plt.plot(epoch_list, train_loss, label='train')\r\n",
        "  for x,y in zip(epoch_list, train_loss):\r\n",
        "    label = \"{:.4}\".format(y)\r\n",
        "    plt.annotate(label, (x,y))\r\n",
        "  plt.xlabel(\"Epoch\")\r\n",
        "  plt.ylabel(\"Loss\")\r\n",
        "  plt.legend()\r\n",
        "  plt.savefig(os.path.join(dir, \"loss\"))"
      ],
      "execution_count": null,
      "outputs": []
    },
    {
      "cell_type": "code",
      "metadata": {
        "id": "0N0oiujaEf-S",
        "colab": {
          "base_uri": "https://localhost:8080/",
          "height": 366
        },
        "outputId": "a7df321d-91b5-4a50-ca09-fd27948b249e"
      },
      "source": [
        "print(\"Training Loss\")\r\n",
        "print_loss(1, params['epochs'])"
      ],
      "execution_count": null,
      "outputs": [
        {
          "output_type": "stream",
          "text": [
            "Training Loss\n",
            "Epoch 1 : 1.8710111\n",
            "Epoch 2 : 1.6361189\n",
            "Epoch 3 : 1.3703246\n",
            "Epoch 4 : 1.1461186\n"
          ],
          "name": "stdout"
        },
        {
          "output_type": "display_data",
          "data": {
            "image/png": "[encoded data removed]",
            "text/plain": [
              "<Figure size 432x288 with 1 Axes>"
            ]
          },
          "metadata": {
            "tags": [],
            "needs_background": "light"
          }
        }
      ]
    },
    {
      "cell_type": "code",
      "metadata": {
        "id": "sm90QPah9SN3"
      },
      "source": [
        "def calc_results(start_epoch, end_epoch):\r\n",
        "  train_mean_stats = []\r\n",
        "  test_mean_stats = []\r\n",
        "  print(\"Processing\")\r\n",
        "  for cur_epoch in range(start_epoch, end_epoch+1):\r\n",
        "    print(\"Epoch\",cur_epoch)\r\n",
        "    ckpt.restore(os.path.join(get_weights_path_folder(params),\"epoch_\"+str(cur_epoch),\"ckpt-\"+str(cur_epoch)))\r\n",
        "    train_pred = model.predict(train_tokens)\r\n",
        "    test_pred = model.predict(test_tokens)\r\n",
        "    stats = post_process(train_data, train_data_processed, train_tokens, train_pred, None)\r\n",
        "    train_mean_stats.append(stats)\r\n",
        "    stats = post_process(test_data, test_data_processed, test_tokens, test_pred, None)\r\n",
        "    test_mean_stats.append(stats)\r\n",
        "  print()\r\n",
        "  return train_mean_stats, test_mean_stats"
      ],
      "execution_count": null,
      "outputs": []
    },
    {
      "cell_type": "code",
      "metadata": {
        "id": "5nof-43L9SN4"
      },
      "source": [
        "def print_results(train_mean_f1, test_mean_f1, save_results):\r\n",
        "  print(\"Mean F1\")\r\n",
        "  print('Train set peak val :',np.max(train_mean_f1, keepdims=True))\r\n",
        "  print('Test set peak val :',np.max(test_mean_f1, keepdims=True),'at epoch',1+np.argmax(test_mean_f1))\r\n",
        "  print()\r\n",
        "  num_epochs = len(train_mean_f1)\r\n",
        "  epoch_list = range(1,num_epochs+1)\r\n",
        "  plt.plot(epoch_list,train_mean_f1, label = \"train\")\r\n",
        "  plt.plot(epoch_list, test_mean_f1, label = \"test\")\r\n",
        "  for x,y in zip(epoch_list, train_mean_f1):\r\n",
        "    label = \"{:.4}\".format(y)\r\n",
        "    plt.annotate(label, (x,y), xytext = (0,7), textcoords = \"offset pixels\")\r\n",
        "  for x,y in zip(epoch_list, test_mean_f1):\r\n",
        "    label = \"{:.4}\".format(y)\r\n",
        "    plt.annotate(label, (x,y), xytext = (0,-7), textcoords = \"offset pixels\")\r\n",
        "  plt.legend()\r\n",
        "  plt.xlabel(\"Epoch\")\r\n",
        "  plt.ylabel(\"Mean F1 score\")\r\n",
        "  if save_results:\r\n",
        "    dir = get_weights_path_folder(params)\r\n",
        "    plt.savefig(os.path.join(dir, \"f1_scores\"))"
      ],
      "execution_count": null,
      "outputs": []
    },
    {
      "cell_type": "code",
      "metadata": {
        "colab": {
          "base_uri": "https://localhost:8080/",
          "height": 658
        },
        "id": "H3sn4z479SN4",
        "outputId": "aa2bd567-eaa4-49b0-d472-bc1e947465c2"
      },
      "source": [
        "train_mean_stats, test_mean_stats = calc_results(1, params['epochs'])\r\n",
        "print(\"Train dataset stats(f1, precision, recall) across epochs\")\r\n",
        "e = 1\r\n",
        "for stats in train_mean_stats:\r\n",
        "  print(\"Epoch\", e, end=\" \")\r\n",
        "  print(stats)\r\n",
        "  e += 1\r\n",
        "print()\r\n",
        "print(\"Test dataset stats(f1, precision, recall) across epochs\")\r\n",
        "e = 1\r\n",
        "for stats in test_mean_stats:\r\n",
        "  print(\"Epoch\", e, end=\" \")\r\n",
        "  print(stats)\r\n",
        "  e += 1\r\n",
        "print()\r\n",
        "train_mean_f1 = [stats[0] for stats in train_mean_stats]\r\n",
        "test_mean_f1 = [stats[0] for stats in test_mean_stats]\r\n",
        "print_results(train_mean_f1, test_mean_f1 , True)"
      ],
      "execution_count": null,
      "outputs": [
        {
          "output_type": "stream",
          "text": [
            "Processing\n",
            "Epoch 1\n",
            "Epoch 2\n",
            "Epoch 3\n",
            "Epoch 4\n",
            "\n",
            "Train dataset stats(f1, precision, recall) across epochs\n",
            "Epoch 1 (0.8006889778097136, 0.8376477152539821, 0.8234159990233444)\n",
            "Epoch 2 (0.8226203952028011, 0.8545337619600346, 0.8451563903884143)\n",
            "Epoch 3 (0.8374812979481754, 0.8761299614833309, 0.8491572646731309)\n",
            "Epoch 4 (0.8420670330383759, 0.8710204746966349, 0.8599737316752863)\n",
            "\n",
            "Test dataset stats(f1, precision, recall) across epochs\n",
            "Epoch 1 (0.6576578525192025, 0.6494357780303924, 0.7297905681545854)\n",
            "Epoch 2 (0.660299174392592, 0.6488190074692932, 0.7344668174274914)\n",
            "Epoch 3 (0.6612921652986743, 0.6537016826951042, 0.7295468617897339)\n",
            "Epoch 4 (0.6610287366713044, 0.6498891438016414, 0.7332920173101681)\n",
            "\n",
            "Mean F1\n",
            "Train set peak val : [0.84206703]\n",
            "Test set peak val : [0.66129217] at epoch 3\n",
            "\n"
          ],
          "name": "stdout"
        },
        {
          "output_type": "display_data",
          "data": {
            "image/png": "[encoded data removed]",
            "text/plain": [
              "<Figure size 432x288 with 1 Axes>"
            ]
          },
          "metadata": {
            "tags": [],
            "needs_background": "light"
          }
        }
      ]
    },
    {
      "cell_type": "markdown",
      "metadata": {
        "id": "Y0D54FuKIGkp"
      },
      "source": [
        "### Prepare silver data"
      ]
    },
    {
      "cell_type": "markdown",
      "metadata": {
        "id": "Zo0jX_Vs4t3w"
      },
      "source": [
        "#### Prestore the civil comments train dataset on drive ( run once )"
      ]
    },
    {
      "cell_type": "code",
      "metadata": {
        "id": "zu7wwNxoNi22"
      },
      "source": [
        "#before importing the dataset we want to use this code\r\n",
        "# The Kaggle API client expects this file to be in ~/.kaggle,\r\n",
        "!mkdir -p ~/.kaggle\r\n",
        "!cp kaggle.json ~/.kaggle/\r\n",
        "\r\n",
        "# This permissions change avoids a warning on Kaggle tool startup.\r\n",
        "!chmod 600 ~/.kaggle/kaggle.json"
      ],
      "execution_count": null,
      "outputs": []
    },
    {
      "cell_type": "code",
      "metadata": {
        "colab": {
          "base_uri": "https://localhost:8080/"
        },
        "id": "oYloA5Hvs3IZ",
        "outputId": "a5b2ed77-e4a8-4e4e-ef13-97a893262344"
      },
      "source": [
        "!kaggle competitions download -c jigsaw-unintended-bias-in-toxicity-classification"
      ],
      "execution_count": null,
      "outputs": [
        {
          "output_type": "stream",
          "text": [
            "Warning: Looks like you're using an outdated API Version, please consider updating (server 1.5.10 / client 1.5.4)\n",
            "Downloading train.csv.zip to /content\n",
            " 99% 273M/276M [00:02<00:00, 84.0MB/s]\n",
            "100% 276M/276M [00:02<00:00, 116MB/s] \n",
            "Downloading test_public_expanded.csv.zip to /content\n",
            " 57% 9.00M/15.9M [00:00<00:00, 81.5MB/s]\n",
            "100% 15.9M/15.9M [00:00<00:00, 101MB/s] \n",
            "Downloading identity_individual_annotations.csv.zip to /content\n",
            " 98% 12.0M/12.3M [00:00<00:00, 123MB/s]\n",
            "100% 12.3M/12.3M [00:00<00:00, 113MB/s]\n",
            "Downloading toxicity_individual_annotations.csv.zip to /content\n",
            " 93% 60.0M/64.7M [00:00<00:00, 104MB/s] \n",
            "100% 64.7M/64.7M [00:00<00:00, 120MB/s]\n",
            "Downloading sample_submission.csv.zip to /content\n",
            "  0% 0.00/224k [00:00<?, ?B/s]\n",
            "100% 224k/224k [00:00<00:00, 221MB/s]\n",
            "Downloading test_private_expanded.csv.zip to /content\n",
            " 32% 5.00M/15.8M [00:00<00:00, 46.8MB/s]\n",
            "100% 15.8M/15.8M [00:00<00:00, 77.1MB/s]\n",
            "Downloading test.csv.zip to /content\n",
            " 41% 5.00M/12.1M [00:00<00:00, 46.2MB/s]\n",
            "100% 12.1M/12.1M [00:00<00:00, 77.6MB/s]\n",
            "Downloading all_data.csv.zip to /content\n",
            " 94% 306M/326M [00:02<00:00, 116MB/s]\n",
            "100% 326M/326M [00:02<00:00, 118MB/s]\n"
          ],
          "name": "stdout"
        }
      ]
    },
    {
      "cell_type": "code",
      "metadata": {
        "colab": {
          "base_uri": "https://localhost:8080/"
        },
        "id": "VN8wfck2tLpd",
        "outputId": "77ba7e90-23ff-4ed6-b762-ddb37e58b77a"
      },
      "source": [
        "!unzip train.csv.zip train.csv"
      ],
      "execution_count": null,
      "outputs": [
        {
          "output_type": "stream",
          "text": [
            "Archive:  train.csv.zip\n",
            "  inflating: train.csv               \n"
          ],
          "name": "stdout"
        }
      ]
    },
    {
      "cell_type": "code",
      "metadata": {
        "colab": {
          "base_uri": "https://localhost:8080/"
        },
        "id": "XdUPs6bs-xgJ",
        "outputId": "620ed90f-9914-4790-b59d-5dfc44a9756f"
      },
      "source": [
        "!unzip test_private_expanded.csv.zip test_private_expanded.csv"
      ],
      "execution_count": null,
      "outputs": [
        {
          "output_type": "stream",
          "text": [
            "Archive:  test_private_expanded.csv.zip\n",
            "  inflating: test_private_expanded.csv  \n"
          ],
          "name": "stdout"
        }
      ]
    },
    {
      "cell_type": "code",
      "metadata": {
        "id": "KrmWwfJs-6ZU"
      },
      "source": [
        "civil_comments = pd.read_csv(\"train.csv\").loc[:,['comment_text','target']]"
      ],
      "execution_count": null,
      "outputs": []
    },
    {
      "cell_type": "code",
      "metadata": {
        "colab": {
          "base_uri": "https://localhost:8080/",
          "height": 419
        },
        "id": "6S8EXIrsAUA2",
        "outputId": "0d661b8e-3ad0-48f4-c252-55a4ff3ba72f"
      },
      "source": [
        "civil_comments"
      ],
      "execution_count": null,
      "outputs": [
        {
          "output_type": "execute_result",
          "data": {
            "text/html": [
              "<div>\n",
              "<style scoped>\n",
              "    .dataframe tbody tr th:only-of-type {\n",
              "        vertical-align: middle;\n",
              "    }\n",
              "\n",
              "    .dataframe tbody tr th {\n",
              "        vertical-align: top;\n",
              "    }\n",
              "\n",
              "    .dataframe thead th {\n",
              "        text-align: right;\n",
              "    }\n",
              "</style>\n",
              "<table border=\"1\" class=\"dataframe\">\n",
              "  <thead>\n",
              "    <tr style=\"text-align: right;\">\n",
              "      <th></th>\n",
              "      <th>comment_text</th>\n",
              "      <th>target</th>\n",
              "    </tr>\n",
              "  </thead>\n",
              "  <tbody>\n",
              "    <tr>\n",
              "      <th>0</th>\n",
              "      <td>This is so cool. It's like, 'would you want yo...</td>\n",
              "      <td>0.000000</td>\n",
              "    </tr>\n",
              "    <tr>\n",
              "      <th>1</th>\n",
              "      <td>Thank you!! This would make my life a lot less...</td>\n",
              "      <td>0.000000</td>\n",
              "    </tr>\n",
              "    <tr>\n",
              "      <th>2</th>\n",
              "      <td>This is such an urgent design problem; kudos t...</td>\n",
              "      <td>0.000000</td>\n",
              "    </tr>\n",
              "    <tr>\n",
              "      <th>3</th>\n",
              "      <td>Is this something I'll be able to install on m...</td>\n",
              "      <td>0.000000</td>\n",
              "    </tr>\n",
              "    <tr>\n",
              "      <th>4</th>\n",
              "      <td>haha you guys are a bunch of losers.</td>\n",
              "      <td>0.893617</td>\n",
              "    </tr>\n",
              "    <tr>\n",
              "      <th>...</th>\n",
              "      <td>...</td>\n",
              "      <td>...</td>\n",
              "    </tr>\n",
              "    <tr>\n",
              "      <th>1804869</th>\n",
              "      <td>Maybe the tax on \"things\" would be collected w...</td>\n",
              "      <td>0.000000</td>\n",
              "    </tr>\n",
              "    <tr>\n",
              "      <th>1804870</th>\n",
              "      <td>What do you call people who STILL think the di...</td>\n",
              "      <td>0.000000</td>\n",
              "    </tr>\n",
              "    <tr>\n",
              "      <th>1804871</th>\n",
              "      <td>thank you ,,,right or wrong,,, i am following ...</td>\n",
              "      <td>0.000000</td>\n",
              "    </tr>\n",
              "    <tr>\n",
              "      <th>1804872</th>\n",
              "      <td>Anyone who is quoted as having the following e...</td>\n",
              "      <td>0.621212</td>\n",
              "    </tr>\n",
              "    <tr>\n",
              "      <th>1804873</th>\n",
              "      <td>Students defined as EBD are legally just as di...</td>\n",
              "      <td>0.000000</td>\n",
              "    </tr>\n",
              "  </tbody>\n",
              "</table>\n",
              "<p>1804874 rows × 2 columns</p>\n",
              "</div>"
            ],
            "text/plain": [
              "                                              comment_text    target\n",
              "0        This is so cool. It's like, 'would you want yo...  0.000000\n",
              "1        Thank you!! This would make my life a lot less...  0.000000\n",
              "2        This is such an urgent design problem; kudos t...  0.000000\n",
              "3        Is this something I'll be able to install on m...  0.000000\n",
              "4                     haha you guys are a bunch of losers.  0.893617\n",
              "...                                                    ...       ...\n",
              "1804869  Maybe the tax on \"things\" would be collected w...  0.000000\n",
              "1804870  What do you call people who STILL think the di...  0.000000\n",
              "1804871  thank you ,,,right or wrong,,, i am following ...  0.000000\n",
              "1804872  Anyone who is quoted as having the following e...  0.621212\n",
              "1804873  Students defined as EBD are legally just as di...  0.000000\n",
              "\n",
              "[1804874 rows x 2 columns]"
            ]
          },
          "metadata": {
            "tags": []
          },
          "execution_count": 78
        }
      ]
    },
    {
      "cell_type": "code",
      "metadata": {
        "id": "IZ6NM-G7AdxM"
      },
      "source": [
        "civil_comments.to_csv(os.path.join(data_path, \"civil_comments_train_dataset.csv\"), index = False)"
      ],
      "execution_count": null,
      "outputs": []
    },
    {
      "cell_type": "markdown",
      "metadata": {
        "id": "RpUkXiqLSPTv"
      },
      "source": [
        "#### Load csv and separate out the most toxic samples as silver data ( run once )"
      ]
    },
    {
      "cell_type": "code",
      "metadata": {
        "id": "LsV7qHThaRJM"
      },
      "source": [
        "import pandas as pd"
      ],
      "execution_count": null,
      "outputs": []
    },
    {
      "cell_type": "code",
      "metadata": {
        "colab": {
          "base_uri": "https://localhost:8080/",
          "height": 419
        },
        "id": "VSg0jBnlMrLF",
        "outputId": "8db95bb8-690a-4475-d88a-8f5af38bfb70"
      },
      "source": [
        "civil_comments = pd.read_csv(os.path.join(data_path, \"civil_comments_train_dataset.csv\"))\r\n",
        "civil_comments"
      ],
      "execution_count": null,
      "outputs": [
        {
          "output_type": "execute_result",
          "data": {
            "text/html": [
              "<div>\n",
              "<style scoped>\n",
              "    .dataframe tbody tr th:only-of-type {\n",
              "        vertical-align: middle;\n",
              "    }\n",
              "\n",
              "    .dataframe tbody tr th {\n",
              "        vertical-align: top;\n",
              "    }\n",
              "\n",
              "    .dataframe thead th {\n",
              "        text-align: right;\n",
              "    }\n",
              "</style>\n",
              "<table border=\"1\" class=\"dataframe\">\n",
              "  <thead>\n",
              "    <tr style=\"text-align: right;\">\n",
              "      <th></th>\n",
              "      <th>comment_text</th>\n",
              "      <th>target</th>\n",
              "    </tr>\n",
              "  </thead>\n",
              "  <tbody>\n",
              "    <tr>\n",
              "      <th>0</th>\n",
              "      <td>This is so cool. It's like, 'would you want yo...</td>\n",
              "      <td>0.000000</td>\n",
              "    </tr>\n",
              "    <tr>\n",
              "      <th>1</th>\n",
              "      <td>Thank you!! This would make my life a lot less...</td>\n",
              "      <td>0.000000</td>\n",
              "    </tr>\n",
              "    <tr>\n",
              "      <th>2</th>\n",
              "      <td>This is such an urgent design problem; kudos t...</td>\n",
              "      <td>0.000000</td>\n",
              "    </tr>\n",
              "    <tr>\n",
              "      <th>3</th>\n",
              "      <td>Is this something I'll be able to install on m...</td>\n",
              "      <td>0.000000</td>\n",
              "    </tr>\n",
              "    <tr>\n",
              "      <th>4</th>\n",
              "      <td>haha you guys are a bunch of losers.</td>\n",
              "      <td>0.893617</td>\n",
              "    </tr>\n",
              "    <tr>\n",
              "      <th>...</th>\n",
              "      <td>...</td>\n",
              "      <td>...</td>\n",
              "    </tr>\n",
              "    <tr>\n",
              "      <th>1804869</th>\n",
              "      <td>Maybe the tax on \"things\" would be collected w...</td>\n",
              "      <td>0.000000</td>\n",
              "    </tr>\n",
              "    <tr>\n",
              "      <th>1804870</th>\n",
              "      <td>What do you call people who STILL think the di...</td>\n",
              "      <td>0.000000</td>\n",
              "    </tr>\n",
              "    <tr>\n",
              "      <th>1804871</th>\n",
              "      <td>thank you ,,,right or wrong,,, i am following ...</td>\n",
              "      <td>0.000000</td>\n",
              "    </tr>\n",
              "    <tr>\n",
              "      <th>1804872</th>\n",
              "      <td>Anyone who is quoted as having the following e...</td>\n",
              "      <td>0.621212</td>\n",
              "    </tr>\n",
              "    <tr>\n",
              "      <th>1804873</th>\n",
              "      <td>Students defined as EBD are legally just as di...</td>\n",
              "      <td>0.000000</td>\n",
              "    </tr>\n",
              "  </tbody>\n",
              "</table>\n",
              "<p>1804874 rows × 2 columns</p>\n",
              "</div>"
            ],
            "text/plain": [
              "                                              comment_text    target\n",
              "0        This is so cool. It's like, 'would you want yo...  0.000000\n",
              "1        Thank you!! This would make my life a lot less...  0.000000\n",
              "2        This is such an urgent design problem; kudos t...  0.000000\n",
              "3        Is this something I'll be able to install on m...  0.000000\n",
              "4                     haha you guys are a bunch of losers.  0.893617\n",
              "...                                                    ...       ...\n",
              "1804869  Maybe the tax on \"things\" would be collected w...  0.000000\n",
              "1804870  What do you call people who STILL think the di...  0.000000\n",
              "1804871  thank you ,,,right or wrong,,, i am following ...  0.000000\n",
              "1804872  Anyone who is quoted as having the following e...  0.621212\n",
              "1804873  Students defined as EBD are legally just as di...  0.000000\n",
              "\n",
              "[1804874 rows x 2 columns]"
            ]
          },
          "metadata": {
            "tags": []
          },
          "execution_count": 80
        }
      ]
    },
    {
      "cell_type": "code",
      "metadata": {
        "id": "56TRRUwUuwUn"
      },
      "source": [
        "civil_comments.sort_values('target',0, False, True, ignore_index=True )"
      ],
      "execution_count": null,
      "outputs": []
    },
    {
      "cell_type": "code",
      "metadata": {
        "colab": {
          "base_uri": "https://localhost:8080/",
          "height": 419
        },
        "id": "lwCKPIDxaa2P",
        "outputId": "97f75b7b-7ee5-4729-d650-758733892406"
      },
      "source": [
        "civil_comments"
      ],
      "execution_count": null,
      "outputs": [
        {
          "output_type": "execute_result",
          "data": {
            "text/html": [
              "<div>\n",
              "<style scoped>\n",
              "    .dataframe tbody tr th:only-of-type {\n",
              "        vertical-align: middle;\n",
              "    }\n",
              "\n",
              "    .dataframe tbody tr th {\n",
              "        vertical-align: top;\n",
              "    }\n",
              "\n",
              "    .dataframe thead th {\n",
              "        text-align: right;\n",
              "    }\n",
              "</style>\n",
              "<table border=\"1\" class=\"dataframe\">\n",
              "  <thead>\n",
              "    <tr style=\"text-align: right;\">\n",
              "      <th></th>\n",
              "      <th>comment_text</th>\n",
              "      <th>target</th>\n",
              "    </tr>\n",
              "  </thead>\n",
              "  <tbody>\n",
              "    <tr>\n",
              "      <th>0</th>\n",
              "      <td>It's a shame that it's going to be years befor...</td>\n",
              "      <td>1.0</td>\n",
              "    </tr>\n",
              "    <tr>\n",
              "      <th>1</th>\n",
              "      <td>And watch the liberal hypocrisy fly.</td>\n",
              "      <td>1.0</td>\n",
              "    </tr>\n",
              "    <tr>\n",
              "      <th>2</th>\n",
              "      <td>The FBI has concluded that Hillary Clinton was...</td>\n",
              "      <td>1.0</td>\n",
              "    </tr>\n",
              "    <tr>\n",
              "      <th>3</th>\n",
              "      <td>I'll pay $500 for someone to go out there and ...</td>\n",
              "      <td>1.0</td>\n",
              "    </tr>\n",
              "    <tr>\n",
              "      <th>4</th>\n",
              "      <td>Dogs should not be used tp apprehend suspects ...</td>\n",
              "      <td>1.0</td>\n",
              "    </tr>\n",
              "    <tr>\n",
              "      <th>...</th>\n",
              "      <td>...</td>\n",
              "      <td>...</td>\n",
              "    </tr>\n",
              "    <tr>\n",
              "      <th>1804869</th>\n",
              "      <td>The Eugene people enjoy spending their tax dol...</td>\n",
              "      <td>0.0</td>\n",
              "    </tr>\n",
              "    <tr>\n",
              "      <th>1804870</th>\n",
              "      <td>No, tanks.\\n\\nLet's just start piling up our e...</td>\n",
              "      <td>0.0</td>\n",
              "    </tr>\n",
              "    <tr>\n",
              "      <th>1804871</th>\n",
              "      <td>A weak analogy Basic rule.... Canada is not Ch...</td>\n",
              "      <td>0.0</td>\n",
              "    </tr>\n",
              "    <tr>\n",
              "      <th>1804872</th>\n",
              "      <td>Amazingly sometimes they don't cave.  I put a ...</td>\n",
              "      <td>0.0</td>\n",
              "    </tr>\n",
              "    <tr>\n",
              "      <th>1804873</th>\n",
              "      <td>Students defined as EBD are legally just as di...</td>\n",
              "      <td>0.0</td>\n",
              "    </tr>\n",
              "  </tbody>\n",
              "</table>\n",
              "<p>1804874 rows × 2 columns</p>\n",
              "</div>"
            ],
            "text/plain": [
              "                                              comment_text  target\n",
              "0        It's a shame that it's going to be years befor...     1.0\n",
              "1                     And watch the liberal hypocrisy fly.     1.0\n",
              "2        The FBI has concluded that Hillary Clinton was...     1.0\n",
              "3        I'll pay $500 for someone to go out there and ...     1.0\n",
              "4        Dogs should not be used tp apprehend suspects ...     1.0\n",
              "...                                                    ...     ...\n",
              "1804869  The Eugene people enjoy spending their tax dol...     0.0\n",
              "1804870  No, tanks.\\n\\nLet's just start piling up our e...     0.0\n",
              "1804871  A weak analogy Basic rule.... Canada is not Ch...     0.0\n",
              "1804872  Amazingly sometimes they don't cave.  I put a ...     0.0\n",
              "1804873  Students defined as EBD are legally just as di...     0.0\n",
              "\n",
              "[1804874 rows x 2 columns]"
            ]
          },
          "metadata": {
            "tags": []
          },
          "execution_count": 82
        }
      ]
    },
    {
      "cell_type": "code",
      "metadata": {
        "id": "fZx1nI6pTeP9"
      },
      "source": [
        "civil_comments = civil_comments.loc[civil_comments['target'] >= 0.80,:]\r\n",
        "silver_data = civil_comments.sample(frac=1, random_state=2021).reset_index(drop=True)"
      ],
      "execution_count": null,
      "outputs": []
    },
    {
      "cell_type": "code",
      "metadata": {
        "colab": {
          "base_uri": "https://localhost:8080/",
          "height": 419
        },
        "id": "YNcZjxx_xzWA",
        "outputId": "0dca2bc8-c74e-48c3-9125-4d83c06daf93"
      },
      "source": [
        "silver_data"
      ],
      "execution_count": null,
      "outputs": [
        {
          "output_type": "execute_result",
          "data": {
            "text/html": [
              "<div>\n",
              "<style scoped>\n",
              "    .dataframe tbody tr th:only-of-type {\n",
              "        vertical-align: middle;\n",
              "    }\n",
              "\n",
              "    .dataframe tbody tr th {\n",
              "        vertical-align: top;\n",
              "    }\n",
              "\n",
              "    .dataframe thead th {\n",
              "        text-align: right;\n",
              "    }\n",
              "</style>\n",
              "<table border=\"1\" class=\"dataframe\">\n",
              "  <thead>\n",
              "    <tr style=\"text-align: right;\">\n",
              "      <th></th>\n",
              "      <th>comment_text</th>\n",
              "      <th>target</th>\n",
              "    </tr>\n",
              "  </thead>\n",
              "  <tbody>\n",
              "    <tr>\n",
              "      <th>0</th>\n",
              "      <td>So I have 2 down votes. Next time you don't fe...</td>\n",
              "      <td>0.800000</td>\n",
              "    </tr>\n",
              "    <tr>\n",
              "      <th>1</th>\n",
              "      <td>Trudeau looks smarter and smarter for cutting ...</td>\n",
              "      <td>0.833333</td>\n",
              "    </tr>\n",
              "    <tr>\n",
              "      <th>2</th>\n",
              "      <td>More divisive bs from the Liberals.   Disgusting.</td>\n",
              "      <td>0.847826</td>\n",
              "    </tr>\n",
              "    <tr>\n",
              "      <th>3</th>\n",
              "      <td>I think the Orcas are saying among themselves,...</td>\n",
              "      <td>0.800000</td>\n",
              "    </tr>\n",
              "    <tr>\n",
              "      <th>4</th>\n",
              "      <td>You are one dumb guy. Behind all of your fancy...</td>\n",
              "      <td>0.875000</td>\n",
              "    </tr>\n",
              "    <tr>\n",
              "      <th>...</th>\n",
              "      <td>...</td>\n",
              "      <td>...</td>\n",
              "    </tr>\n",
              "    <tr>\n",
              "      <th>30826</th>\n",
              "      <td>You're just so goll darn funny.  Do you stay u...</td>\n",
              "      <td>1.000000</td>\n",
              "    </tr>\n",
              "    <tr>\n",
              "      <th>30827</th>\n",
              "      <td>:P Still not enough illegal votes for horrible...</td>\n",
              "      <td>0.833333</td>\n",
              "    </tr>\n",
              "    <tr>\n",
              "      <th>30828</th>\n",
              "      <td>stupid killing stupid should remind people tha...</td>\n",
              "      <td>0.921875</td>\n",
              "    </tr>\n",
              "    <tr>\n",
              "      <th>30829</th>\n",
              "      <td>Nope. Trump seems as deranged as ever, sorry. ...</td>\n",
              "      <td>0.800000</td>\n",
              "    </tr>\n",
              "    <tr>\n",
              "      <th>30830</th>\n",
              "      <td>…people who denigrate any American's right to ...</td>\n",
              "      <td>0.800000</td>\n",
              "    </tr>\n",
              "  </tbody>\n",
              "</table>\n",
              "<p>30831 rows × 2 columns</p>\n",
              "</div>"
            ],
            "text/plain": [
              "                                            comment_text    target\n",
              "0      So I have 2 down votes. Next time you don't fe...  0.800000\n",
              "1      Trudeau looks smarter and smarter for cutting ...  0.833333\n",
              "2      More divisive bs from the Liberals.   Disgusting.  0.847826\n",
              "3      I think the Orcas are saying among themselves,...  0.800000\n",
              "4      You are one dumb guy. Behind all of your fancy...  0.875000\n",
              "...                                                  ...       ...\n",
              "30826  You're just so goll darn funny.  Do you stay u...  1.000000\n",
              "30827  :P Still not enough illegal votes for horrible...  0.833333\n",
              "30828  stupid killing stupid should remind people tha...  0.921875\n",
              "30829  Nope. Trump seems as deranged as ever, sorry. ...  0.800000\n",
              "30830  …people who denigrate any American's right to ...  0.800000\n",
              "\n",
              "[30831 rows x 2 columns]"
            ]
          },
          "metadata": {
            "tags": []
          },
          "execution_count": 85
        }
      ]
    },
    {
      "cell_type": "code",
      "metadata": {
        "id": "K12pAbG31OXB"
      },
      "source": [
        "silver_data = silver_data.rename({'comment_text':'text'}, axis = 1)"
      ],
      "execution_count": null,
      "outputs": []
    },
    {
      "cell_type": "code",
      "metadata": {
        "id": "FQGkMfeHwxMs"
      },
      "source": [
        "silver_data.to_csv(os.path.join(data_path, \"civil_comments_toxic_only.csv\"), index=False)"
      ],
      "execution_count": null,
      "outputs": []
    },
    {
      "cell_type": "markdown",
      "metadata": {
        "id": "wuAQXCUy43-l"
      },
      "source": [
        "#### Preprocess silver dataframe"
      ]
    },
    {
      "cell_type": "code",
      "metadata": {
        "id": "TVJwEPn35NG0"
      },
      "source": [
        "import pandas as pd"
      ],
      "execution_count": null,
      "outputs": []
    },
    {
      "cell_type": "code",
      "metadata": {
        "id": "YQr7HPFQ05ks"
      },
      "source": [
        "silver_data = pd.read_csv(os.path.join(data_path, \"civil_comments_toxic_only.csv\" )).loc[:, ['text']].reset_index(drop=True)\r\n",
        "silver_data['spans'] = [[] for _ in range(silver_data.shape[0])]\r\n",
        "silver_data"
      ],
      "execution_count": null,
      "outputs": []
    },
    {
      "cell_type": "code",
      "metadata": {
        "colab": {
          "base_uri": "https://localhost:8080/"
        },
        "id": "wrXXhHzYIxxW",
        "outputId": "45370aa1-ef6c-4cdf-9447-2b86885b46ab"
      },
      "source": [
        "silver_data_processed, silver_tokens, silver_input = preprocessing(silver_data, max_length)"
      ],
      "execution_count": null,
      "outputs": [
        {
          "output_type": "stream",
          "text": [
            "(34614, 4)\n"
          ],
          "name": "stdout"
        }
      ]
    },
    {
      "cell_type": "markdown",
      "metadata": {
        "id": "JXUyyOsC5G2c"
      },
      "source": [
        "#### Load model and predict spans"
      ]
    },
    {
      "cell_type": "code",
      "metadata": {
        "id": "aqFn6H8zREiP"
      },
      "source": [
        "best_epoch = 3\r\n",
        "ckpt.restore(os.path.join(get_weights_path_folder(params),\"epoch_\"+str(best_epoch),\"ckpt-\"+str(best_epoch)))"
      ],
      "execution_count": null,
      "outputs": []
    },
    {
      "cell_type": "code",
      "metadata": {
        "id": "rMSGcER_6I3M"
      },
      "source": [
        "silver_prediction = model.predict(silver_tokens)\r\n",
        "_ = post_process( silver_data , silver_data_processed, silver_tokens, silver_prediction, None )"
      ],
      "execution_count": null,
      "outputs": []
    },
    {
      "cell_type": "code",
      "metadata": {
        "id": "HL8ymRKNVraE"
      },
      "source": [
        "silver_data_output = silver_data.drop('spans',axis=1)\r\n",
        "silver_data_output = silver_data_output.rename({'predicted_spans':'spans'},axis=1)\r\n",
        "silver_data_output = silver_data_output.loc[:,['text','spans']]\r\n",
        "silver_data_output"
      ],
      "execution_count": null,
      "outputs": []
    },
    {
      "cell_type": "code",
      "metadata": {
        "id": "XHdZRIbQXBN6"
      },
      "source": [
        "silver_data_output.to_csv(os.path.join(data_path, \"silver_data_annotated_2.csv\"), index=False)"
      ],
      "execution_count": null,
      "outputs": []
    }
  ]
}